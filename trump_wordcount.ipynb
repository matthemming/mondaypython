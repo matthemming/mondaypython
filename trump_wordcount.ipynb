{
 "cells": [
  {
   "cell_type": "code",
   "execution_count": 1,
   "metadata": {},
   "outputs": [],
   "source": [
    "from urllib import request\n",
    "import json\n",
    "from pprint import pprint\n",
    "import re # regular expressions \n",
    "import nltk # natural language toolkit\n",
    "from nltk.stem.porter import PorterStemmer"
   ]
  },
  {
   "cell_type": "code",
   "execution_count": 2,
   "metadata": {},
   "outputs": [],
   "source": [
    "url = 'https://raw.githubusercontent.com/bpb27/trump-tweet-archive/master/data/realdonaldtrump/2015.json'"
   ]
  },
  {
   "cell_type": "code",
   "execution_count": 84,
   "metadata": {},
   "outputs": [],
   "source": [
    "req = request.Request(url, headers={'User-Agent': 'Mozilla/5.0 (Windows NT 10.0; Win64; x64) AppleWebKit/537.36 (KHTML, like Gecko) Chrome/70.0.3538.67 Safari/537.36'})\n",
    "contents = request.urlopen(req)"
   ]
  },
  {
   "cell_type": "code",
   "execution_count": 85,
   "metadata": {},
   "outputs": [],
   "source": [
    "trumptweetsd = json.loads(contents.read().decode('utf-8'))"
   ]
  },
  {
   "cell_type": "code",
   "execution_count": 86,
   "metadata": {},
   "outputs": [
    {
     "data": {
      "text/plain": [
       "{'source': 'Twitter for iPhone',\n",
       " 'id_str': '682544630139863040',\n",
       " 'text': '#MakeAmericaGreatAgain #Trump2016 https://t.co/IEIXos0wh9',\n",
       " 'created_at': 'Thu Dec 31 12:51:35 +0000 2015',\n",
       " 'retweet_count': 2285,\n",
       " 'in_reply_to_user_id_str': None,\n",
       " 'favorite_count': 5729,\n",
       " 'is_retweet': False}"
      ]
     },
     "execution_count": 86,
     "metadata": {},
     "output_type": "execute_result"
    }
   ],
   "source": [
    "trumptweetsd[5]"
   ]
  },
  {
   "cell_type": "code",
   "execution_count": 87,
   "metadata": {},
   "outputs": [],
   "source": [
    "stop = nltk.corpus.stopwords.words('english')"
   ]
  },
  {
   "cell_type": "code",
   "execution_count": 88,
   "metadata": {},
   "outputs": [],
   "source": [
    "ps = PorterStemmer()"
   ]
  },
  {
   "cell_type": "code",
   "execution_count": 106,
   "metadata": {},
   "outputs": [],
   "source": [
    "clean_words = []\n",
    "for t in trumptweetsd: # iterates through all tweets\n",
    "    for w in t['text'].split(): # iterates through all words in each tweet\n",
    "        w = w.lower()\n",
    "        w = re.sub('[^a-zA-Z\\s\\']+', '', w) # if character in word doesn't match [^a-zA-Z\\s] word is not included\n",
    "        #w = re.sub('[\\W]+', '', w) # if character in word doesn't match [^a-zA-Z\\s] word is not included\n",
    "        #w = ps.stem(w)\n",
    "        if w not in stop and w != 'amp': # gets rid of stopwords\n",
    "            clean_words.append(w)\n",
    "\n",
    "#this gets rid of all instances of ''\n",
    "clean_words[:] = [item for item in clean_words if item]\n"
   ]
  },
  {
   "cell_type": "code",
   "execution_count": 107,
   "metadata": {},
   "outputs": [
    {
     "data": {
      "text/plain": [
       "75610"
      ]
     },
     "execution_count": 107,
     "metadata": {},
     "output_type": "execute_result"
    }
   ],
   "source": [
    "len(clean_words)"
   ]
  },
  {
   "cell_type": "code",
   "execution_count": 108,
   "metadata": {},
   "outputs": [],
   "source": [
    "d = {}\n",
    "for w in clean_words:\n",
    "    d[w] = d.get(w, 0) + 1"
   ]
  },
  {
   "cell_type": "code",
   "execution_count": 109,
   "metadata": {},
   "outputs": [
    {
     "data": {
      "text/plain": [
       "[('realdonaldtrump', 3209),\n",
       " ('trump', 2092),\n",
       " ('great', 1037),\n",
       " ('donald', 665),\n",
       " ('president', 571),\n",
       " ('america', 490),\n",
       " ('thank', 424),\n",
       " ('make', 392),\n",
       " ('run', 380),\n",
       " ('via', 349)]"
      ]
     },
     "execution_count": 109,
     "metadata": {},
     "output_type": "execute_result"
    }
   ],
   "source": [
    "sorted(d.items(), key = lambda x: x[1], reverse=True)[:10]"
   ]
  },
  {
   "cell_type": "code",
   "execution_count": null,
   "metadata": {},
   "outputs": [],
   "source": []
  },
  {
   "cell_type": "code",
   "execution_count": null,
   "metadata": {},
   "outputs": [],
   "source": []
  },
  {
   "cell_type": "code",
   "execution_count": null,
   "metadata": {},
   "outputs": [],
   "source": []
  },
  {
   "cell_type": "code",
   "execution_count": null,
   "metadata": {},
   "outputs": [],
   "source": []
  }
 ],
 "metadata": {
  "kernelspec": {
   "display_name": "Python 3",
   "language": "python",
   "name": "python3"
  },
  "language_info": {
   "codemirror_mode": {
    "name": "ipython",
    "version": 3
   },
   "file_extension": ".py",
   "mimetype": "text/x-python",
   "name": "python",
   "nbconvert_exporter": "python",
   "pygments_lexer": "ipython3",
   "version": "3.7.0"
  }
 },
 "nbformat": 4,
 "nbformat_minor": 2
}
