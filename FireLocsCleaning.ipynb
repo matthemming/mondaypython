{
 "cells": [
  {
   "cell_type": "code",
   "execution_count": 1,
   "metadata": {},
   "outputs": [],
   "source": [
    "import pyodbc\n",
    "import pandas as pd \n",
    "import requests\n",
    "import geocoder\n",
    "from geopy.geocoders import Nominatim\n",
    "from IPython.display import clear_output\n",
    "from pprint import pprint\n",
    "import time\n",
    "import re\n",
    "import timeit\n",
    "from IPython.display import clear_output"
   ]
  },
  {
   "cell_type": "code",
   "execution_count": 182,
   "metadata": {},
   "outputs": [],
   "source": [
    "cnxn = pyodbc.connect('DSN=SQLAmlin;UID=MSAmlin;PWD=password')"
   ]
  },
  {
   "cell_type": "code",
   "execution_count": 3,
   "metadata": {},
   "outputs": [],
   "source": [
    "cur = cnxn.cursor()"
   ]
  },
  {
   "cell_type": "markdown",
   "metadata": {},
   "source": [
    "### Cambridgeshire"
   ]
  },
  {
   "cell_type": "code",
   "execution_count": 6,
   "metadata": {},
   "outputs": [],
   "source": [
    "cambs_query = 'select * from [initial].[Cambridgeshire]'"
   ]
  },
  {
   "cell_type": "code",
   "execution_count": 85,
   "metadata": {},
   "outputs": [],
   "source": [
    "cambs_df = pd.read_sql(cambs_query, cnxn)"
   ]
  },
  {
   "cell_type": "code",
   "execution_count": 86,
   "metadata": {},
   "outputs": [],
   "source": [
    "def cambs_location_clean(cambs_df):\n",
    "    # get rid of weird characters\n",
    "    cambs_df['title'] = cambs_df['title'].map(lambda x: x.replace('â€“', '-'))\n",
    "    # incident type stored with address - split on ' - ' to separate, then drop the first list item, then join to connect elements of address\n",
    "    cambs_df['LookupAddress'] = cambs_df['title'].map(lambda x: ', '.join(x.split(' - ')[1:]))\n",
    "    # when locations have only 1 word, put cambridgeshire in the address to increase chance of OSM finding the right one\n",
    "    cambs_df['LookupAddress'] = cambs_df['LookupAddress'].map(lambda x: x + ', Cambridgeshire' if (x.count(', ') == 0)  else x)\n",
    "    return cambs_df"
   ]
  },
  {
   "cell_type": "markdown",
   "metadata": {},
   "source": [
    "### Cornwall"
   ]
  },
  {
   "cell_type": "code",
   "execution_count": 133,
   "metadata": {},
   "outputs": [],
   "source": [
    "corn_query = 'select * from initial.Cornwall'\n",
    "corn_df = pd.read_sql(corn_query, cnxn)"
   ]
  },
  {
   "cell_type": "code",
   "execution_count": 132,
   "metadata": {},
   "outputs": [],
   "source": [
    "def corn_location_clean(corn_df):\n",
    "    corn_df['LookupAddress'] = corn_df['location'].fillna('')\n",
    "    corn_df['LookupAddress'] = corn_df['LookupAddress'].map(lambda x: x.replace('near', ''))\n",
    "    return corn_df"
   ]
  },
  {
   "cell_type": "markdown",
   "metadata": {},
   "source": [
    "### Cumbria"
   ]
  },
  {
   "cell_type": "code",
   "execution_count": 120,
   "metadata": {},
   "outputs": [],
   "source": [
    "cumb_query = 'select * from initial.Cumbria'\n",
    "cumb_df = pd.read_sql(cumb_query, cnxn)"
   ]
  },
  {
   "cell_type": "code",
   "execution_count": 135,
   "metadata": {},
   "outputs": [],
   "source": [
    "def cumb_location_clean(cumb_df):\n",
    "    cumb_df['LookupAddress'] = cumb_df['location'].map(lambda x: x[1:-1] + ', Cumbria')\n",
    "    return cumb_df"
   ]
  },
  {
   "cell_type": "markdown",
   "metadata": {},
   "source": [
    "### Devon"
   ]
  },
  {
   "cell_type": "code",
   "execution_count": 121,
   "metadata": {},
   "outputs": [],
   "source": [
    "dev_query = 'select * from [initial].[Devon]'\n",
    "dev_df = pd.read_sql(dev_query, cnxn)"
   ]
  },
  {
   "cell_type": "code",
   "execution_count": 138,
   "metadata": {},
   "outputs": [],
   "source": [
    "def dev_location_clean(dev_df):\n",
    "    dev_df['LookupAddress'] = dev_df['Location']\n",
    "    return dev_df"
   ]
  },
  {
   "cell_type": "markdown",
   "metadata": {},
   "source": [
    "### Essex"
   ]
  },
  {
   "cell_type": "code",
   "execution_count": 122,
   "metadata": {},
   "outputs": [],
   "source": [
    "essex_query = 'select * from [initial].[Essex]'\n",
    "essex_df = pd.read_sql(essex_query, cnxn)"
   ]
  },
  {
   "cell_type": "code",
   "execution_count": 142,
   "metadata": {},
   "outputs": [],
   "source": [
    "def essex_location_clean(essex_df):\n",
    "    essex_df['LookupAddress'] = essex_df['Location']\n",
    "    return essex_df"
   ]
  },
  {
   "cell_type": "markdown",
   "metadata": {},
   "source": [
    "### Hampshire"
   ]
  },
  {
   "cell_type": "code",
   "execution_count": 123,
   "metadata": {},
   "outputs": [],
   "source": [
    "hamp_query = 'select * from [initial].[Hampshire]'\n",
    "hamp_df = pd.read_sql(hamp_query, cnxn)"
   ]
  },
  {
   "cell_type": "code",
   "execution_count": 144,
   "metadata": {},
   "outputs": [],
   "source": [
    "def hamp_location_clean(hamp_df):\n",
    "    hamp_df['LookupAddress'] = hamp_df['Address']\n",
    "    hamp_df['LookupAddress'] = hamp_df['LookupAddress'].fillna('None')\n",
    "    hamp_df['LookupAddress'] = hamp_df['LookupAddress'].map(lambda x: x.replace('<div class=\"addressDisplay\">', '').replace('</div>', '').replace('---', ' ').strip())\n",
    "    return hamp_df"
   ]
  },
  {
   "cell_type": "markdown",
   "metadata": {},
   "source": [
    "### Kent"
   ]
  },
  {
   "cell_type": "code",
   "execution_count": 124,
   "metadata": {},
   "outputs": [],
   "source": [
    "kent_query = 'select * from [initial].[Kent]'\n",
    "kent_df = pd.read_sql(kent_query, cnxn)"
   ]
  },
  {
   "cell_type": "code",
   "execution_count": 151,
   "metadata": {},
   "outputs": [],
   "source": [
    "def kent_location_clean(kent_df):\n",
    "    kent_df['LookupAddress'] = kent_df['Map - location shows general area of incident']\n",
    "    return kent_df"
   ]
  },
  {
   "cell_type": "markdown",
   "metadata": {},
   "source": [
    "### Lancashire"
   ]
  },
  {
   "cell_type": "code",
   "execution_count": 125,
   "metadata": {},
   "outputs": [],
   "source": [
    "lancs_query = 'select * from [initial].[Lancashire]'\n",
    "lancs_df = pd.read_sql(lancs_query, cnxn)"
   ]
  },
  {
   "cell_type": "code",
   "execution_count": 154,
   "metadata": {},
   "outputs": [],
   "source": [
    "def lancs_location_clean(lancs_df):\n",
    "    lancs_df['LookupAddress'] = lancs_df['Address']\n",
    "    return lancs_df"
   ]
  },
  {
   "cell_type": "markdown",
   "metadata": {},
   "source": [
    "### Leicestershire"
   ]
  },
  {
   "cell_type": "code",
   "execution_count": 159,
   "metadata": {},
   "outputs": [],
   "source": [
    "leics_query = 'select * from [initial].[Leicestershire]'\n",
    "leics_df = pd.read_sql(leics_query, cnxn)"
   ]
  },
  {
   "cell_type": "code",
   "execution_count": 160,
   "metadata": {},
   "outputs": [],
   "source": [
    "def leics_location_clean(leics_df):\n",
    "    leics_df['LookupAddress'] = leics_df['Incident Location:'].map(lambda x: x.replace('Incident Location:', ''))\n",
    "    return leics_df"
   ]
  },
  {
   "cell_type": "markdown",
   "metadata": {},
   "source": [
    "### Nottinghamshire"
   ]
  },
  {
   "cell_type": "code",
   "execution_count": 127,
   "metadata": {},
   "outputs": [],
   "source": [
    "notts_query = 'select * from [initial].[Nottinghamshire]'\n",
    "notts_df = pd.read_sql(notts_query, cnxn)"
   ]
  },
  {
   "cell_type": "code",
   "execution_count": 163,
   "metadata": {},
   "outputs": [],
   "source": [
    "def notts_location_clean(notts_df):\n",
    "    notts_df['LookupAddress'] = notts_df['Incident Location']\n",
    "    return notts_df"
   ]
  },
  {
   "cell_type": "markdown",
   "metadata": {},
   "source": [
    "### Scotland"
   ]
  },
  {
   "cell_type": "code",
   "execution_count": 128,
   "metadata": {},
   "outputs": [],
   "source": [
    "scot_query = 'select * from [initial].[Scotland]'\n",
    "scot_df = pd.read_sql(scot_query, cnxn)"
   ]
  },
  {
   "cell_type": "code",
   "execution_count": 109,
   "metadata": {},
   "outputs": [],
   "source": [
    "def scot_location_clean(scot_df):\n",
    "    scot_df['LookupAddress'] = scot_df['DZ11NM'].map(lambda x: re.search('[A-Za-z ]+', x).group()) + ', ' + scot_df['CouncilArea']\n",
    "    return scot_df"
   ]
  },
  {
   "cell_type": "markdown",
   "metadata": {},
   "source": [
    "### Shropshire"
   ]
  },
  {
   "cell_type": "code",
   "execution_count": 176,
   "metadata": {},
   "outputs": [],
   "source": [
    "shrop_query = 'select * from [initial].[Shropshire]'\n",
    "shrop_df = pd.read_sql(shrop_query, cnxn)"
   ]
  },
  {
   "cell_type": "code",
   "execution_count": 173,
   "metadata": {},
   "outputs": [],
   "source": [
    "def shrop_location_clean(shrop_df):\n",
    "    shrop_df['LookupAddress'] = shrop_df['location']\n",
    "    return shrop_df"
   ]
  },
  {
   "cell_type": "markdown",
   "metadata": {},
   "source": [
    "### Surrey"
   ]
  },
  {
   "cell_type": "code",
   "execution_count": 130,
   "metadata": {},
   "outputs": [],
   "source": [
    "surrey_query = 'select * from [initial].[Surrey]'\n",
    "surrey_df = pd.read_sql(surrey_query, cnxn)"
   ]
  },
  {
   "cell_type": "code",
   "execution_count": 114,
   "metadata": {},
   "outputs": [],
   "source": [
    "def surrey_location_clean(surrey_df):\n",
    "    surrey_df['LookupAddress'] = surrey_df['Ward Lable'] + ', ' + surrey_df['District lable']\n",
    "    return surrey_df"
   ]
  },
  {
   "cell_type": "markdown",
   "metadata": {},
   "source": [
    "### West Yorkshire"
   ]
  },
  {
   "cell_type": "code",
   "execution_count": 131,
   "metadata": {},
   "outputs": [],
   "source": [
    "wy_query = 'select * from [initial].[WestYorkshire]'\n",
    "wy_df = pd.read_sql(wy_query, cnxn)"
   ]
  },
  {
   "cell_type": "code",
   "execution_count": 179,
   "metadata": {},
   "outputs": [],
   "source": [
    "def wy_location_clean(wy_df):\n",
    "    wy_df['LookupAddress'] = wy_df['Location']\n",
    "    return wy_df"
   ]
  },
  {
   "cell_type": "markdown",
   "metadata": {},
   "source": [
    "### Avon, Berkshire, Staffordshire and West Mids"
   ]
  },
  {
   "cell_type": "code",
   "execution_count": 194,
   "metadata": {},
   "outputs": [],
   "source": [
    "# These have location information but at too coarse a level of granularity\n",
    "\n",
    "avon_query = 'select * from [initial].[Avon]'\n",
    "berks_query = 'select * from [initial].[RoyalBerkshire]'\n",
    "staffs_query = 'select * from [initial].[Staffordshire]'\n",
    "wm_query = 'select * from [initial].[WestMidlands]'\n",
    "lon_arch_query = 'select * from [initial].[LondonArchived]'\n",
    "avon_df = pd.read_sql(avon_query, cnxn)\n",
    "berks_df = pd.read_sql(berks_query, cnxn)\n",
    "staffs_df = pd.read_sql(staffs_query, cnxn)\n",
    "wm_df = pd.read_sql(wm_query, cnxn)\n",
    "lon_arch_df = pd.read_sql(lon_arch_query, cnxn)"
   ]
  },
  {
   "cell_type": "code",
   "execution_count": 195,
   "metadata": {},
   "outputs": [],
   "source": [
    "def avon_location_clean(avon_df):\n",
    "    avon_df['LookupAddress'] = 'UNKNOWN UNKNOWN'\n",
    "    return avon_df\n",
    "\n",
    "def berks_location_clean(berks_df):\n",
    "    berks_df['LookupAddress'] = 'UNKNOWN UNKNOWN'\n",
    "    return berks_df\n",
    "\n",
    "def staffs_location_clean(staffs_df):\n",
    "    staffs_df['LookupAddress'] = 'UNKNOWN UNKNOWN'\n",
    "    return staffs_df\n",
    "\n",
    "def wm_location_clean(wm_df):\n",
    "    wm_df['LookupAddress'] = 'UNKNOWN UNKNOWN'\n",
    "    return wm_df\n",
    "\n",
    "def lon_arch_location_clean(lon_arch_df):\n",
    "    lon_arch_df['LookupAddress'] = 'UNKNOWN UNKNOWN'\n",
    "    return lon_arch_df"
   ]
  },
  {
   "cell_type": "code",
   "execution_count": null,
   "metadata": {},
   "outputs": [],
   "source": []
  }
 ],
 "metadata": {
  "kernelspec": {
   "display_name": "Python 3",
   "language": "python",
   "name": "python3"
  },
  "language_info": {
   "codemirror_mode": {
    "name": "ipython",
    "version": 3
   },
   "file_extension": ".py",
   "mimetype": "text/x-python",
   "name": "python",
   "nbconvert_exporter": "python",
   "pygments_lexer": "ipython3",
   "version": "3.7.0"
  }
 },
 "nbformat": 4,
 "nbformat_minor": 2
}
