{
 "cells": [
  {
   "cell_type": "code",
   "execution_count": 1,
   "metadata": {},
   "outputs": [],
   "source": [
    "import pickle"
   ]
  },
  {
   "cell_type": "code",
   "execution_count": 3,
   "metadata": {},
   "outputs": [],
   "source": [
    "class character(object):\n",
    "    spawn_count = 0\n",
    "    \n",
    "    def __init__(self, name):\n",
    "        self.player_name = name\n",
    "        self.health = 100\n",
    "        self.pouch = {}\n",
    "        character.spawn_count += 1\n",
    "        \n",
    "    def fight(self, attack, damage, enemy):\n",
    "        self.health -= damage\n",
    "        enemy.health -= attack\n",
    "    \n",
    "    def pick_up_item(self, big_item_name):\n",
    "        self.pouch[big_item_name] = self.pouch.get(big_item_name, 0) + 1\n",
    "    \n",
    "    def use_healthpack(self):\n",
    "        if self.pouch.get('healthpack', 0) > 0:\n",
    "            self.health += 20\n",
    "            self.pouch['healthpack'] = self.pouch.get('healthpack') - 1\n",
    "        else:\n",
    "            print('You don\\'t have a healthpack!')\n",
    "        \n",
    "    def save(self):\n",
    "        with open(r'mystatus.pkl', 'wb') as f:\n",
    "            pickle.dump(self, f)\n",
    "\n",
    "    def load(self):\n",
    "        with open(r'mystatus.pkl', 'rb') as f:\n",
    "            pickle.load(f)"
   ]
  },
  {
   "cell_type": "code",
   "execution_count": 4,
   "metadata": {},
   "outputs": [],
   "source": [
    "with open(r'mystatus.pkl', 'rb') as f:\n",
    "    player = pickle.load(f)"
   ]
  },
  {
   "cell_type": "code",
   "execution_count": 5,
   "metadata": {},
   "outputs": [
    {
     "data": {
      "text/plain": [
       "100"
      ]
     },
     "execution_count": 5,
     "metadata": {},
     "output_type": "execute_result"
    }
   ],
   "source": [
    "player.health"
   ]
  },
  {
   "cell_type": "code",
   "execution_count": null,
   "metadata": {},
   "outputs": [],
   "source": []
  }
 ],
 "metadata": {
  "kernelspec": {
   "display_name": "Python 3",
   "language": "python",
   "name": "python3"
  },
  "language_info": {
   "codemirror_mode": {
    "name": "ipython",
    "version": 3
   },
   "file_extension": ".py",
   "mimetype": "text/x-python",
   "name": "python",
   "nbconvert_exporter": "python",
   "pygments_lexer": "ipython3",
   "version": "3.7.0"
  }
 },
 "nbformat": 4,
 "nbformat_minor": 2
}
