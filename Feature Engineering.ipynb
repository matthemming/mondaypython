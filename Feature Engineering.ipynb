{
 "cells": [
  {
   "cell_type": "code",
   "execution_count": 126,
   "metadata": {},
   "outputs": [],
   "source": [
    "import pandas as pd\n",
    "import numpy as np\n",
    "from sklearn.linear_model import LinearRegression\n",
    "from sklearn.linear_model import LogisticRegression\n",
    "from sklearn.metrics import mean_squared_error, accuracy_score, confusion_matrix, roc_curve, roc_auc_score, auc\n",
    "import matplotlib.pyplot as plt"
   ]
  },
  {
   "cell_type": "markdown",
   "metadata": {},
   "source": [
    "## Newton's law of gravitation"
   ]
  },
  {
   "cell_type": "code",
   "execution_count": 3,
   "metadata": {},
   "outputs": [],
   "source": [
    "gravpath = 'C:\\Data\\grav.csv'"
   ]
  },
  {
   "cell_type": "code",
   "execution_count": 4,
   "metadata": {},
   "outputs": [],
   "source": [
    "df = pd.read_csv(gravpath)"
   ]
  },
  {
   "cell_type": "code",
   "execution_count": 5,
   "metadata": {},
   "outputs": [],
   "source": [
    "df['1/rsquared'] = (df['mass1'] * df['mass2']) /  (df['r']**2)"
   ]
  },
  {
   "cell_type": "code",
   "execution_count": 6,
   "metadata": {},
   "outputs": [],
   "source": [
    "X = df[['1/rsquared']]\n",
    "y = df['F']"
   ]
  },
  {
   "cell_type": "code",
   "execution_count": 7,
   "metadata": {},
   "outputs": [
    {
     "name": "stdout",
     "output_type": "stream",
     "text": [
      "Gravitational Constant: 6.673999999999998e-11\n",
      "Intercept: -5.293955920339377e-23\n"
     ]
    }
   ],
   "source": [
    "lm = LinearRegression()\n",
    "lm.fit(X, y)\n",
    "\n",
    "print ('Gravitational Constant: ' + str(lm.coef_[0]))\n",
    "print ('Intercept: ' + str(lm.intercept_))"
   ]
  },
  {
   "cell_type": "markdown",
   "metadata": {},
   "source": [
    "## IsHealthy Prediction"
   ]
  },
  {
   "cell_type": "code",
   "execution_count": 96,
   "metadata": {},
   "outputs": [],
   "source": [
    "genpath = 'C:\\Data\\gender_cleaned_test_train.xlsx'"
   ]
  },
  {
   "cell_type": "code",
   "execution_count": 97,
   "metadata": {},
   "outputs": [],
   "source": [
    "train_df = pd.read_excel(genpath, sheet_name='train')\n",
    "test_df = pd.read_excel(genpath, sheet_name='test')"
   ]
  },
  {
   "cell_type": "code",
   "execution_count": 17,
   "metadata": {},
   "outputs": [
    {
     "data": {
      "text/html": [
       "<div>\n",
       "<style scoped>\n",
       "    .dataframe tbody tr th:only-of-type {\n",
       "        vertical-align: middle;\n",
       "    }\n",
       "\n",
       "    .dataframe tbody tr th {\n",
       "        vertical-align: top;\n",
       "    }\n",
       "\n",
       "    .dataframe thead th {\n",
       "        text-align: right;\n",
       "    }\n",
       "</style>\n",
       "<table border=\"1\" class=\"dataframe\">\n",
       "  <thead>\n",
       "    <tr style=\"text-align: right;\">\n",
       "      <th></th>\n",
       "      <th>IsMale</th>\n",
       "      <th>Height</th>\n",
       "      <th>Weight</th>\n",
       "      <th>identifier</th>\n",
       "      <th>entry_dt</th>\n",
       "      <th>IsHealthy</th>\n",
       "      <th>w/h2</th>\n",
       "      <th>IsHealthy_hat</th>\n",
       "    </tr>\n",
       "  </thead>\n",
       "  <tbody>\n",
       "    <tr>\n",
       "      <th>0</th>\n",
       "      <td>1</td>\n",
       "      <td>187.571423</td>\n",
       "      <td>109.819678</td>\n",
       "      <td>A001</td>\n",
       "      <td>2017-01-20</td>\n",
       "      <td>0</td>\n",
       "      <td>0.003121</td>\n",
       "      <td>0</td>\n",
       "    </tr>\n",
       "    <tr>\n",
       "      <th>1</th>\n",
       "      <td>1</td>\n",
       "      <td>174.706036</td>\n",
       "      <td>73.688955</td>\n",
       "      <td>A002</td>\n",
       "      <td>2017-01-20</td>\n",
       "      <td>1</td>\n",
       "      <td>0.002414</td>\n",
       "      <td>0</td>\n",
       "    </tr>\n",
       "    <tr>\n",
       "      <th>2</th>\n",
       "      <td>1</td>\n",
       "      <td>188.239668</td>\n",
       "      <td>96.584348</td>\n",
       "      <td>A003</td>\n",
       "      <td>2017-01-20</td>\n",
       "      <td>0</td>\n",
       "      <td>0.002726</td>\n",
       "      <td>0</td>\n",
       "    </tr>\n",
       "    <tr>\n",
       "      <th>3</th>\n",
       "      <td>1</td>\n",
       "      <td>182.196685</td>\n",
       "      <td>99.899282</td>\n",
       "      <td>A004</td>\n",
       "      <td>2017-01-20</td>\n",
       "      <td>0</td>\n",
       "      <td>0.003009</td>\n",
       "      <td>0</td>\n",
       "    </tr>\n",
       "    <tr>\n",
       "      <th>4</th>\n",
       "      <td>1</td>\n",
       "      <td>177.499761</td>\n",
       "      <td>93.682809</td>\n",
       "      <td>A005</td>\n",
       "      <td>2017-01-20</td>\n",
       "      <td>0</td>\n",
       "      <td>0.002973</td>\n",
       "      <td>0</td>\n",
       "    </tr>\n",
       "    <tr>\n",
       "      <th>5</th>\n",
       "      <td>1</td>\n",
       "      <td>170.822660</td>\n",
       "      <td>69.104319</td>\n",
       "      <td>A006</td>\n",
       "      <td>2017-01-20</td>\n",
       "      <td>1</td>\n",
       "      <td>0.002368</td>\n",
       "      <td>0</td>\n",
       "    </tr>\n",
       "    <tr>\n",
       "      <th>6</th>\n",
       "      <td>1</td>\n",
       "      <td>174.714106</td>\n",
       "      <td>83.503261</td>\n",
       "      <td>A007</td>\n",
       "      <td>2017-01-20</td>\n",
       "      <td>0</td>\n",
       "      <td>0.002736</td>\n",
       "      <td>0</td>\n",
       "    </tr>\n",
       "    <tr>\n",
       "      <th>7</th>\n",
       "      <td>1</td>\n",
       "      <td>173.605229</td>\n",
       "      <td>76.258884</td>\n",
       "      <td>A008</td>\n",
       "      <td>2017-01-20</td>\n",
       "      <td>0</td>\n",
       "      <td>0.002530</td>\n",
       "      <td>0</td>\n",
       "    </tr>\n",
       "    <tr>\n",
       "      <th>8</th>\n",
       "      <td>1</td>\n",
       "      <td>170.228132</td>\n",
       "      <td>79.871966</td>\n",
       "      <td>A009</td>\n",
       "      <td>2017-01-20</td>\n",
       "      <td>0</td>\n",
       "      <td>0.002756</td>\n",
       "      <td>0</td>\n",
       "    </tr>\n",
       "    <tr>\n",
       "      <th>9</th>\n",
       "      <td>1</td>\n",
       "      <td>161.179495</td>\n",
       "      <td>71.005453</td>\n",
       "      <td>A010</td>\n",
       "      <td>2017-01-20</td>\n",
       "      <td>0</td>\n",
       "      <td>0.002733</td>\n",
       "      <td>0</td>\n",
       "    </tr>\n",
       "    <tr>\n",
       "      <th>10</th>\n",
       "      <td>1</td>\n",
       "      <td>180.836271</td>\n",
       "      <td>84.718636</td>\n",
       "      <td>A011</td>\n",
       "      <td>2017-01-20</td>\n",
       "      <td>0</td>\n",
       "      <td>0.002591</td>\n",
       "      <td>0</td>\n",
       "    </tr>\n",
       "    <tr>\n",
       "      <th>11</th>\n",
       "      <td>1</td>\n",
       "      <td>181.967645</td>\n",
       "      <td>97.038491</td>\n",
       "      <td>A012</td>\n",
       "      <td>2017-01-20</td>\n",
       "      <td>0</td>\n",
       "      <td>0.002931</td>\n",
       "      <td>0</td>\n",
       "    </tr>\n",
       "    <tr>\n",
       "      <th>12</th>\n",
       "      <td>1</td>\n",
       "      <td>164.506476</td>\n",
       "      <td>75.875867</td>\n",
       "      <td>A013</td>\n",
       "      <td>2017-01-20</td>\n",
       "      <td>0</td>\n",
       "      <td>0.002804</td>\n",
       "      <td>0</td>\n",
       "    </tr>\n",
       "    <tr>\n",
       "      <th>13</th>\n",
       "      <td>1</td>\n",
       "      <td>175.978998</td>\n",
       "      <td>86.008566</td>\n",
       "      <td>A014</td>\n",
       "      <td>2017-01-20</td>\n",
       "      <td>0</td>\n",
       "      <td>0.002777</td>\n",
       "      <td>0</td>\n",
       "    </tr>\n",
       "    <tr>\n",
       "      <th>14</th>\n",
       "      <td>1</td>\n",
       "      <td>175.879080</td>\n",
       "      <td>84.641112</td>\n",
       "      <td>A015</td>\n",
       "      <td>2017-01-20</td>\n",
       "      <td>0</td>\n",
       "      <td>0.002736</td>\n",
       "      <td>0</td>\n",
       "    </tr>\n",
       "    <tr>\n",
       "      <th>15</th>\n",
       "      <td>1</td>\n",
       "      <td>171.819874</td>\n",
       "      <td>78.172866</td>\n",
       "      <td>A016</td>\n",
       "      <td>2017-01-20</td>\n",
       "      <td>0</td>\n",
       "      <td>0.002648</td>\n",
       "      <td>0</td>\n",
       "    </tr>\n",
       "    <tr>\n",
       "      <th>16</th>\n",
       "      <td>1</td>\n",
       "      <td>183.942524</td>\n",
       "      <td>88.996942</td>\n",
       "      <td>A017</td>\n",
       "      <td>2017-01-20</td>\n",
       "      <td>0</td>\n",
       "      <td>0.002630</td>\n",
       "      <td>0</td>\n",
       "    </tr>\n",
       "    <tr>\n",
       "      <th>17</th>\n",
       "      <td>1</td>\n",
       "      <td>162.494787</td>\n",
       "      <td>78.489095</td>\n",
       "      <td>A018</td>\n",
       "      <td>2017-01-20</td>\n",
       "      <td>0</td>\n",
       "      <td>0.002973</td>\n",
       "      <td>0</td>\n",
       "    </tr>\n",
       "    <tr>\n",
       "      <th>18</th>\n",
       "      <td>1</td>\n",
       "      <td>176.885752</td>\n",
       "      <td>84.436717</td>\n",
       "      <td>A019</td>\n",
       "      <td>2017-01-20</td>\n",
       "      <td>0</td>\n",
       "      <td>0.002699</td>\n",
       "      <td>0</td>\n",
       "    </tr>\n",
       "    <tr>\n",
       "      <th>19</th>\n",
       "      <td>1</td>\n",
       "      <td>172.557452</td>\n",
       "      <td>82.821698</td>\n",
       "      <td>A020</td>\n",
       "      <td>2017-01-20</td>\n",
       "      <td>0</td>\n",
       "      <td>0.002781</td>\n",
       "      <td>0</td>\n",
       "    </tr>\n",
       "    <tr>\n",
       "      <th>20</th>\n",
       "      <td>1</td>\n",
       "      <td>172.504227</td>\n",
       "      <td>79.048632</td>\n",
       "      <td>A021</td>\n",
       "      <td>2017-01-20</td>\n",
       "      <td>0</td>\n",
       "      <td>0.002656</td>\n",
       "      <td>0</td>\n",
       "    </tr>\n",
       "    <tr>\n",
       "      <th>21</th>\n",
       "      <td>1</td>\n",
       "      <td>176.376177</td>\n",
       "      <td>89.770065</td>\n",
       "      <td>A022</td>\n",
       "      <td>2017-01-20</td>\n",
       "      <td>0</td>\n",
       "      <td>0.002886</td>\n",
       "      <td>0</td>\n",
       "    </tr>\n",
       "    <tr>\n",
       "      <th>22</th>\n",
       "      <td>1</td>\n",
       "      <td>168.018795</td>\n",
       "      <td>67.724799</td>\n",
       "      <td>A023</td>\n",
       "      <td>2017-01-20</td>\n",
       "      <td>1</td>\n",
       "      <td>0.002399</td>\n",
       "      <td>0</td>\n",
       "    </tr>\n",
       "    <tr>\n",
       "      <th>23</th>\n",
       "      <td>1</td>\n",
       "      <td>191.023173</td>\n",
       "      <td>103.857848</td>\n",
       "      <td>A024</td>\n",
       "      <td>2017-01-20</td>\n",
       "      <td>0</td>\n",
       "      <td>0.002846</td>\n",
       "      <td>0</td>\n",
       "    </tr>\n",
       "    <tr>\n",
       "      <th>24</th>\n",
       "      <td>1</td>\n",
       "      <td>172.448719</td>\n",
       "      <td>73.551020</td>\n",
       "      <td>A025</td>\n",
       "      <td>2017-01-20</td>\n",
       "      <td>1</td>\n",
       "      <td>0.002473</td>\n",
       "      <td>0</td>\n",
       "    </tr>\n",
       "    <tr>\n",
       "      <th>25</th>\n",
       "      <td>1</td>\n",
       "      <td>173.085843</td>\n",
       "      <td>87.324165</td>\n",
       "      <td>A026</td>\n",
       "      <td>2017-01-20</td>\n",
       "      <td>0</td>\n",
       "      <td>0.002915</td>\n",
       "      <td>0</td>\n",
       "    </tr>\n",
       "    <tr>\n",
       "      <th>26</th>\n",
       "      <td>1</td>\n",
       "      <td>175.487664</td>\n",
       "      <td>83.733569</td>\n",
       "      <td>A027</td>\n",
       "      <td>2017-01-20</td>\n",
       "      <td>0</td>\n",
       "      <td>0.002719</td>\n",
       "      <td>0</td>\n",
       "    </tr>\n",
       "    <tr>\n",
       "      <th>27</th>\n",
       "      <td>1</td>\n",
       "      <td>184.914143</td>\n",
       "      <td>93.899998</td>\n",
       "      <td>A028</td>\n",
       "      <td>2017-01-20</td>\n",
       "      <td>0</td>\n",
       "      <td>0.002746</td>\n",
       "      <td>0</td>\n",
       "    </tr>\n",
       "    <tr>\n",
       "      <th>28</th>\n",
       "      <td>1</td>\n",
       "      <td>171.249955</td>\n",
       "      <td>79.547121</td>\n",
       "      <td>A029</td>\n",
       "      <td>2017-01-20</td>\n",
       "      <td>0</td>\n",
       "      <td>0.002712</td>\n",
       "      <td>0</td>\n",
       "    </tr>\n",
       "    <tr>\n",
       "      <th>29</th>\n",
       "      <td>1</td>\n",
       "      <td>173.980895</td>\n",
       "      <td>70.071558</td>\n",
       "      <td>A030</td>\n",
       "      <td>2017-01-20</td>\n",
       "      <td>1</td>\n",
       "      <td>0.002315</td>\n",
       "      <td>0</td>\n",
       "    </tr>\n",
       "    <tr>\n",
       "      <th>30</th>\n",
       "      <td>1</td>\n",
       "      <td>174.290001</td>\n",
       "      <td>85.128107</td>\n",
       "      <td>A031</td>\n",
       "      <td>2017-01-20</td>\n",
       "      <td>0</td>\n",
       "      <td>0.002802</td>\n",
       "      <td>0</td>\n",
       "    </tr>\n",
       "    <tr>\n",
       "      <th>31</th>\n",
       "      <td>1</td>\n",
       "      <td>188.045871</td>\n",
       "      <td>96.661242</td>\n",
       "      <td>A032</td>\n",
       "      <td>2017-01-20</td>\n",
       "      <td>0</td>\n",
       "      <td>0.002734</td>\n",
       "      <td>0</td>\n",
       "    </tr>\n",
       "    <tr>\n",
       "      <th>32</th>\n",
       "      <td>1</td>\n",
       "      <td>181.681669</td>\n",
       "      <td>88.544638</td>\n",
       "      <td>A033</td>\n",
       "      <td>2017-01-20</td>\n",
       "      <td>0</td>\n",
       "      <td>0.002683</td>\n",
       "      <td>0</td>\n",
       "    </tr>\n",
       "    <tr>\n",
       "      <th>33</th>\n",
       "      <td>1</td>\n",
       "      <td>175.717609</td>\n",
       "      <td>93.153364</td>\n",
       "      <td>A034</td>\n",
       "      <td>2017-01-20</td>\n",
       "      <td>0</td>\n",
       "      <td>0.003017</td>\n",
       "      <td>0</td>\n",
       "    </tr>\n",
       "    <tr>\n",
       "      <th>34</th>\n",
       "      <td>1</td>\n",
       "      <td>176.726094</td>\n",
       "      <td>92.690513</td>\n",
       "      <td>A035</td>\n",
       "      <td>2017-01-20</td>\n",
       "      <td>0</td>\n",
       "      <td>0.002968</td>\n",
       "      <td>0</td>\n",
       "    </tr>\n",
       "    <tr>\n",
       "      <th>35</th>\n",
       "      <td>1</td>\n",
       "      <td>178.818359</td>\n",
       "      <td>87.578196</td>\n",
       "      <td>A036</td>\n",
       "      <td>2017-01-20</td>\n",
       "      <td>0</td>\n",
       "      <td>0.002739</td>\n",
       "      <td>0</td>\n",
       "    </tr>\n",
       "    <tr>\n",
       "      <th>36</th>\n",
       "      <td>1</td>\n",
       "      <td>175.453475</td>\n",
       "      <td>89.659662</td>\n",
       "      <td>A037</td>\n",
       "      <td>2017-01-20</td>\n",
       "      <td>0</td>\n",
       "      <td>0.002913</td>\n",
       "      <td>0</td>\n",
       "    </tr>\n",
       "    <tr>\n",
       "      <th>37</th>\n",
       "      <td>1</td>\n",
       "      <td>170.671549</td>\n",
       "      <td>83.450182</td>\n",
       "      <td>A038</td>\n",
       "      <td>2017-01-20</td>\n",
       "      <td>0</td>\n",
       "      <td>0.002865</td>\n",
       "      <td>0</td>\n",
       "    </tr>\n",
       "    <tr>\n",
       "      <th>38</th>\n",
       "      <td>1</td>\n",
       "      <td>167.150582</td>\n",
       "      <td>74.388729</td>\n",
       "      <td>A039</td>\n",
       "      <td>2017-01-20</td>\n",
       "      <td>0</td>\n",
       "      <td>0.002663</td>\n",
       "      <td>0</td>\n",
       "    </tr>\n",
       "    <tr>\n",
       "      <th>39</th>\n",
       "      <td>1</td>\n",
       "      <td>163.332637</td>\n",
       "      <td>74.051040</td>\n",
       "      <td>A040</td>\n",
       "      <td>2017-01-20</td>\n",
       "      <td>0</td>\n",
       "      <td>0.002776</td>\n",
       "      <td>0</td>\n",
       "    </tr>\n",
       "    <tr>\n",
       "      <th>40</th>\n",
       "      <td>1</td>\n",
       "      <td>172.654814</td>\n",
       "      <td>78.149561</td>\n",
       "      <td>A041</td>\n",
       "      <td>2017-01-20</td>\n",
       "      <td>0</td>\n",
       "      <td>0.002622</td>\n",
       "      <td>0</td>\n",
       "    </tr>\n",
       "    <tr>\n",
       "      <th>41</th>\n",
       "      <td>1</td>\n",
       "      <td>183.361142</td>\n",
       "      <td>88.096614</td>\n",
       "      <td>A042</td>\n",
       "      <td>2017-01-20</td>\n",
       "      <td>0</td>\n",
       "      <td>0.002620</td>\n",
       "      <td>0</td>\n",
       "    </tr>\n",
       "    <tr>\n",
       "      <th>42</th>\n",
       "      <td>1</td>\n",
       "      <td>165.786678</td>\n",
       "      <td>76.552457</td>\n",
       "      <td>A043</td>\n",
       "      <td>2017-01-20</td>\n",
       "      <td>0</td>\n",
       "      <td>0.002785</td>\n",
       "      <td>0</td>\n",
       "    </tr>\n",
       "    <tr>\n",
       "      <th>43</th>\n",
       "      <td>1</td>\n",
       "      <td>167.869051</td>\n",
       "      <td>73.181818</td>\n",
       "      <td>A044</td>\n",
       "      <td>2017-01-20</td>\n",
       "      <td>0</td>\n",
       "      <td>0.002597</td>\n",
       "      <td>0</td>\n",
       "    </tr>\n",
       "    <tr>\n",
       "      <th>44</th>\n",
       "      <td>1</td>\n",
       "      <td>171.476217</td>\n",
       "      <td>74.755766</td>\n",
       "      <td>A045</td>\n",
       "      <td>2017-01-20</td>\n",
       "      <td>0</td>\n",
       "      <td>0.002542</td>\n",
       "      <td>0</td>\n",
       "    </tr>\n",
       "    <tr>\n",
       "      <th>45</th>\n",
       "      <td>1</td>\n",
       "      <td>178.066157</td>\n",
       "      <td>85.770726</td>\n",
       "      <td>A046</td>\n",
       "      <td>2017-01-20</td>\n",
       "      <td>0</td>\n",
       "      <td>0.002705</td>\n",
       "      <td>0</td>\n",
       "    </tr>\n",
       "    <tr>\n",
       "      <th>46</th>\n",
       "      <td>1</td>\n",
       "      <td>173.359665</td>\n",
       "      <td>84.925491</td>\n",
       "      <td>A047</td>\n",
       "      <td>2017-01-20</td>\n",
       "      <td>0</td>\n",
       "      <td>0.002826</td>\n",
       "      <td>0</td>\n",
       "    </tr>\n",
       "    <tr>\n",
       "      <th>47</th>\n",
       "      <td>1</td>\n",
       "      <td>183.318681</td>\n",
       "      <td>94.918172</td>\n",
       "      <td>A048</td>\n",
       "      <td>2017-01-20</td>\n",
       "      <td>0</td>\n",
       "      <td>0.002824</td>\n",
       "      <td>0</td>\n",
       "    </tr>\n",
       "    <tr>\n",
       "      <th>48</th>\n",
       "      <td>1</td>\n",
       "      <td>175.716838</td>\n",
       "      <td>87.174508</td>\n",
       "      <td>A049</td>\n",
       "      <td>2017-01-20</td>\n",
       "      <td>0</td>\n",
       "      <td>0.002823</td>\n",
       "      <td>0</td>\n",
       "    </tr>\n",
       "    <tr>\n",
       "      <th>49</th>\n",
       "      <td>1</td>\n",
       "      <td>185.090715</td>\n",
       "      <td>95.949494</td>\n",
       "      <td>A050</td>\n",
       "      <td>2017-01-20</td>\n",
       "      <td>0</td>\n",
       "      <td>0.002801</td>\n",
       "      <td>0</td>\n",
       "    </tr>\n",
       "  </tbody>\n",
       "</table>\n",
       "</div>"
      ],
      "text/plain": [
       "    IsMale      Height      Weight identifier   entry_dt  IsHealthy      w/h2  \\\n",
       "0        1  187.571423  109.819678       A001 2017-01-20          0  0.003121   \n",
       "1        1  174.706036   73.688955       A002 2017-01-20          1  0.002414   \n",
       "2        1  188.239668   96.584348       A003 2017-01-20          0  0.002726   \n",
       "3        1  182.196685   99.899282       A004 2017-01-20          0  0.003009   \n",
       "4        1  177.499761   93.682809       A005 2017-01-20          0  0.002973   \n",
       "5        1  170.822660   69.104319       A006 2017-01-20          1  0.002368   \n",
       "6        1  174.714106   83.503261       A007 2017-01-20          0  0.002736   \n",
       "7        1  173.605229   76.258884       A008 2017-01-20          0  0.002530   \n",
       "8        1  170.228132   79.871966       A009 2017-01-20          0  0.002756   \n",
       "9        1  161.179495   71.005453       A010 2017-01-20          0  0.002733   \n",
       "10       1  180.836271   84.718636       A011 2017-01-20          0  0.002591   \n",
       "11       1  181.967645   97.038491       A012 2017-01-20          0  0.002931   \n",
       "12       1  164.506476   75.875867       A013 2017-01-20          0  0.002804   \n",
       "13       1  175.978998   86.008566       A014 2017-01-20          0  0.002777   \n",
       "14       1  175.879080   84.641112       A015 2017-01-20          0  0.002736   \n",
       "15       1  171.819874   78.172866       A016 2017-01-20          0  0.002648   \n",
       "16       1  183.942524   88.996942       A017 2017-01-20          0  0.002630   \n",
       "17       1  162.494787   78.489095       A018 2017-01-20          0  0.002973   \n",
       "18       1  176.885752   84.436717       A019 2017-01-20          0  0.002699   \n",
       "19       1  172.557452   82.821698       A020 2017-01-20          0  0.002781   \n",
       "20       1  172.504227   79.048632       A021 2017-01-20          0  0.002656   \n",
       "21       1  176.376177   89.770065       A022 2017-01-20          0  0.002886   \n",
       "22       1  168.018795   67.724799       A023 2017-01-20          1  0.002399   \n",
       "23       1  191.023173  103.857848       A024 2017-01-20          0  0.002846   \n",
       "24       1  172.448719   73.551020       A025 2017-01-20          1  0.002473   \n",
       "25       1  173.085843   87.324165       A026 2017-01-20          0  0.002915   \n",
       "26       1  175.487664   83.733569       A027 2017-01-20          0  0.002719   \n",
       "27       1  184.914143   93.899998       A028 2017-01-20          0  0.002746   \n",
       "28       1  171.249955   79.547121       A029 2017-01-20          0  0.002712   \n",
       "29       1  173.980895   70.071558       A030 2017-01-20          1  0.002315   \n",
       "30       1  174.290001   85.128107       A031 2017-01-20          0  0.002802   \n",
       "31       1  188.045871   96.661242       A032 2017-01-20          0  0.002734   \n",
       "32       1  181.681669   88.544638       A033 2017-01-20          0  0.002683   \n",
       "33       1  175.717609   93.153364       A034 2017-01-20          0  0.003017   \n",
       "34       1  176.726094   92.690513       A035 2017-01-20          0  0.002968   \n",
       "35       1  178.818359   87.578196       A036 2017-01-20          0  0.002739   \n",
       "36       1  175.453475   89.659662       A037 2017-01-20          0  0.002913   \n",
       "37       1  170.671549   83.450182       A038 2017-01-20          0  0.002865   \n",
       "38       1  167.150582   74.388729       A039 2017-01-20          0  0.002663   \n",
       "39       1  163.332637   74.051040       A040 2017-01-20          0  0.002776   \n",
       "40       1  172.654814   78.149561       A041 2017-01-20          0  0.002622   \n",
       "41       1  183.361142   88.096614       A042 2017-01-20          0  0.002620   \n",
       "42       1  165.786678   76.552457       A043 2017-01-20          0  0.002785   \n",
       "43       1  167.869051   73.181818       A044 2017-01-20          0  0.002597   \n",
       "44       1  171.476217   74.755766       A045 2017-01-20          0  0.002542   \n",
       "45       1  178.066157   85.770726       A046 2017-01-20          0  0.002705   \n",
       "46       1  173.359665   84.925491       A047 2017-01-20          0  0.002826   \n",
       "47       1  183.318681   94.918172       A048 2017-01-20          0  0.002824   \n",
       "48       1  175.716838   87.174508       A049 2017-01-20          0  0.002823   \n",
       "49       1  185.090715   95.949494       A050 2017-01-20          0  0.002801   \n",
       "\n",
       "    IsHealthy_hat  \n",
       "0               0  \n",
       "1               0  \n",
       "2               0  \n",
       "3               0  \n",
       "4               0  \n",
       "5               0  \n",
       "6               0  \n",
       "7               0  \n",
       "8               0  \n",
       "9               0  \n",
       "10              0  \n",
       "11              0  \n",
       "12              0  \n",
       "13              0  \n",
       "14              0  \n",
       "15              0  \n",
       "16              0  \n",
       "17              0  \n",
       "18              0  \n",
       "19              0  \n",
       "20              0  \n",
       "21              0  \n",
       "22              0  \n",
       "23              0  \n",
       "24              0  \n",
       "25              0  \n",
       "26              0  \n",
       "27              0  \n",
       "28              0  \n",
       "29              0  \n",
       "30              0  \n",
       "31              0  \n",
       "32              0  \n",
       "33              0  \n",
       "34              0  \n",
       "35              0  \n",
       "36              0  \n",
       "37              0  \n",
       "38              0  \n",
       "39              0  \n",
       "40              0  \n",
       "41              0  \n",
       "42              0  \n",
       "43              0  \n",
       "44              0  \n",
       "45              0  \n",
       "46              0  \n",
       "47              0  \n",
       "48              0  \n",
       "49              0  "
      ]
     },
     "execution_count": 17,
     "metadata": {},
     "output_type": "execute_result"
    }
   ],
   "source": [
    "train_df.head(50)"
   ]
  },
  {
   "cell_type": "markdown",
   "metadata": {},
   "source": [
    "#### Try with w/h2"
   ]
  },
  {
   "cell_type": "code",
   "execution_count": 109,
   "metadata": {},
   "outputs": [],
   "source": [
    "train_df['w/h'] = train_df['Weight'] / train_df['Height']\n",
    "train_df['w/h2'] = train_df['Weight'] / (train_df['Height']**2)\n",
    "\n",
    "test_df['w/h'] = test_df['Weight'] / test_df['Height']\n",
    "test_df['w/h2'] = test_df['Weight'] / (test_df['Height']**2)"
   ]
  },
  {
   "cell_type": "code",
   "execution_count": 110,
   "metadata": {},
   "outputs": [],
   "source": [
    "lgr = LogisticRegression()\n",
    "X = train_df[['w/h2']]\n",
    "y = train_df['IsHealthy']\n",
    "lfit = lgr.fit(X, y)"
   ]
  },
  {
   "cell_type": "code",
   "execution_count": 111,
   "metadata": {},
   "outputs": [],
   "source": [
    "IsHealthy_hat = lgr.predict(test_df[['w/h2']])\n",
    "test_df['IsHealthy_hat'] = IsHealthy_hat"
   ]
  },
  {
   "cell_type": "code",
   "execution_count": 112,
   "metadata": {},
   "outputs": [
    {
     "data": {
      "text/plain": [
       "0.5734265734265734"
      ]
     },
     "execution_count": 112,
     "metadata": {},
     "output_type": "execute_result"
    }
   ],
   "source": [
    "accuracy_score(test_df['IsHealthy'], test_df['IsHealthy_hat']) # 0.592288032003556"
   ]
  },
  {
   "cell_type": "markdown",
   "metadata": {},
   "source": [
    "#### Try with w/h"
   ]
  },
  {
   "cell_type": "code",
   "execution_count": 132,
   "metadata": {},
   "outputs": [],
   "source": [
    "lgr = LogisticRegression()\n",
    "X = train_df[['w/h']]\n",
    "y = train_df['IsHealthy']\n",
    "lfit = lgr.fit(X, y)"
   ]
  },
  {
   "cell_type": "code",
   "execution_count": 133,
   "metadata": {},
   "outputs": [],
   "source": [
    "IsHealthy_hat = lgr.predict(X)\n",
    "train_df['IsHealthy_hat'] = IsHealthy_hat"
   ]
  },
  {
   "cell_type": "code",
   "execution_count": 134,
   "metadata": {},
   "outputs": [],
   "source": [
    "IsHealthy_hat = lgr.predict(test_df[['w/h']])\n",
    "test_df['IsHealthy_hat'] = IsHealthy_hat"
   ]
  },
  {
   "cell_type": "code",
   "execution_count": 135,
   "metadata": {},
   "outputs": [
    {
     "data": {
      "text/plain": [
       "0.9340659340659341"
      ]
     },
     "execution_count": 135,
     "metadata": {},
     "output_type": "execute_result"
    }
   ],
   "source": [
    "accuracy_score(test_df['IsHealthy'], test_df['IsHealthy_hat']) # 0.9263251472385821"
   ]
  },
  {
   "cell_type": "code",
   "execution_count": 136,
   "metadata": {},
   "outputs": [
    {
     "data": {
      "text/plain": [
       "array([[542,  32],\n",
       "       [ 34, 393]], dtype=int64)"
      ]
     },
     "execution_count": 136,
     "metadata": {},
     "output_type": "execute_result"
    }
   ],
   "source": [
    "confusion_matrix(test_df['IsHealthy'], test_df['IsHealthy_hat'])"
   ]
  },
  {
   "cell_type": "code",
   "execution_count": 137,
   "metadata": {},
   "outputs": [
    {
     "data": {
      "text/plain": [
       "(array([0.        , 0.05574913, 1.        ]),\n",
       " array([0.        , 0.92037471, 1.        ]),\n",
       " array([2, 1, 0], dtype=int64))"
      ]
     },
     "execution_count": 137,
     "metadata": {},
     "output_type": "execute_result"
    }
   ],
   "source": [
    "roc_curve(test_df['IsHealthy'], test_df['IsHealthy_hat'])"
   ]
  },
  {
   "cell_type": "code",
   "execution_count": 138,
   "metadata": {},
   "outputs": [
    {
     "data": {
      "text/plain": [
       "0.9323127891700462"
      ]
     },
     "execution_count": 138,
     "metadata": {},
     "output_type": "execute_result"
    }
   ],
   "source": [
    "roc_auc_score(test_df['IsHealthy'], test_df['IsHealthy_hat'])"
   ]
  },
  {
   "cell_type": "code",
   "execution_count": 139,
   "metadata": {},
   "outputs": [
    {
     "data": {
      "image/png": "[encoded data removed]",
      "text/plain": [
       "<Figure size 432x288 with 1 Axes>"
      ]
     },
     "metadata": {
      "needs_background": "light"
     },
     "output_type": "display_data"
    }
   ],
   "source": [
    "fpr, tpr, threshold = roc_curve(test_df['IsHealthy'], test_df['IsHealthy_hat'])\n",
    "roc_auc = auc(fpr, tpr)\n",
    "\n",
    "# method I: plt\n",
    "plt.title('Receiver Operating Characteristic')\n",
    "plt.plot(fpr, tpr, 'b', label = 'AUC = %0.2f' % roc_auc)\n",
    "plt.legend(loc = 'lower right')\n",
    "plt.plot([0, 1], [0, 1],'r--')\n",
    "plt.xlim([0, 1.5])\n",
    "plt.ylim([0, 1.5])\n",
    "plt.ylabel('True Positive Rate')\n",
    "plt.xlabel('False Positive Rate')\n",
    "plt.show()"
   ]
  },
  {
   "cell_type": "markdown",
   "metadata": {},
   "source": [
    "#### Try with w/h2 between range"
   ]
  },
  {
   "cell_type": "code",
   "execution_count": 120,
   "metadata": {},
   "outputs": [],
   "source": [
    "train_df['w/h2'] = (train_df['Weight']/(train_df['Height']**2)).between(0.00185,0.0025)\n",
    "\n",
    "lgr = LogisticRegression()\n",
    "lgr.fit(train_df[['w/h2']],train_df['IsHealthy'])\n",
    "test_df['w/h2'] = (test_df['Weight']/(test_df['Height']**2)).between(0.00185,0.0025)\n",
    "test_df['IsHealthy_hat']=lgr.predict(test_df[['w/h2']])"
   ]
  },
  {
   "cell_type": "code",
   "execution_count": 121,
   "metadata": {},
   "outputs": [
    {
     "data": {
      "text/plain": [
       "1.0"
      ]
     },
     "execution_count": 121,
     "metadata": {},
     "output_type": "execute_result"
    }
   ],
   "source": [
    "accuracy_score(test_df['IsHealthy'], test_df['IsHealthy_hat']) # 0.9263251472385821"
   ]
  },
  {
   "cell_type": "code",
   "execution_count": 122,
   "metadata": {},
   "outputs": [
    {
     "data": {
      "text/plain": [
       "array([[574,   0],\n",
       "       [  0, 427]], dtype=int64)"
      ]
     },
     "execution_count": 122,
     "metadata": {},
     "output_type": "execute_result"
    }
   ],
   "source": [
    "confusion_matrix(test_df['IsHealthy'], test_df['IsHealthy_hat'])"
   ]
  },
  {
   "cell_type": "code",
   "execution_count": 123,
   "metadata": {},
   "outputs": [
    {
     "data": {
      "text/plain": [
       "(array([0., 1.]), array([1., 1.]), array([1, 0], dtype=int64))"
      ]
     },
     "execution_count": 123,
     "metadata": {},
     "output_type": "execute_result"
    }
   ],
   "source": [
    "roc_curve(test_df['IsHealthy'], test_df['IsHealthy_hat'])"
   ]
  },
  {
   "cell_type": "code",
   "execution_count": 124,
   "metadata": {},
   "outputs": [
    {
     "data": {
      "text/plain": [
       "1.0"
      ]
     },
     "execution_count": 124,
     "metadata": {},
     "output_type": "execute_result"
    }
   ],
   "source": [
    "roc_auc_score(test_df['IsHealthy'], test_df['IsHealthy_hat'])"
   ]
  },
  {
   "cell_type": "code",
   "execution_count": 131,
   "metadata": {},
   "outputs": [
    {
     "data": {
      "image/png": "[encoded data removed]",
      "text/plain": [
       "<Figure size 432x288 with 1 Axes>"
      ]
     },
     "metadata": {
      "needs_background": "light"
     },
     "output_type": "display_data"
    }
   ],
   "source": [
    "fpr, tpr, threshold = roc_curve(test_df['IsHealthy'], test_df['IsHealthy_hat'])\n",
    "roc_auc = auc(fpr, tpr)\n",
    "\n",
    "# method I: plt\n",
    "plt.title('Receiver Operating Characteristic')\n",
    "plt.plot(fpr, tpr, 'b', label = 'AUC = %0.2f' % roc_auc)\n",
    "plt.legend(loc = 'lower right')\n",
    "plt.plot([0, 1], [0, 1],'r--')\n",
    "plt.xlim([0, 1.5])\n",
    "plt.ylim([0, 1.5])\n",
    "plt.ylabel('True Positive Rate')\n",
    "plt.xlabel('False Positive Rate')\n",
    "plt.show()"
   ]
  },
  {
   "cell_type": "code",
   "execution_count": null,
   "metadata": {},
   "outputs": [],
   "source": []
  }
 ],
 "metadata": {
  "kernelspec": {
   "display_name": "Python 3",
   "language": "python",
   "name": "python3"
  },
  "language_info": {
   "codemirror_mode": {
    "name": "ipython",
    "version": 3
   },
   "file_extension": ".py",
   "mimetype": "text/x-python",
   "name": "python",
   "nbconvert_exporter": "python",
   "pygments_lexer": "ipython3",
   "version": "3.7.0"
  }
 },
 "nbformat": 4,
 "nbformat_minor": 2
}
