{
 "cells": [
  {
   "cell_type": "code",
   "execution_count": 179,
   "metadata": {},
   "outputs": [],
   "source": [
    "import pickle"
   ]
  },
  {
   "cell_type": "code",
   "execution_count": 190,
   "metadata": {},
   "outputs": [],
   "source": [
    "class character(object):\n",
    "    spawn_count = 0\n",
    "    \n",
    "    def __init__(self, name):\n",
    "        self.player_name = name\n",
    "        self.health = 100\n",
    "        self.pouch = {}\n",
    "        character.spawn_count += 1\n",
    "        \n",
    "    def fight(self, attack, damage, enemy):\n",
    "        self.health -= damage\n",
    "        enemy.health -= attack\n",
    "    \n",
    "    def pick_up_item(self, big_item_name):\n",
    "        self.pouch[big_item_name] = self.pouch.get(big_item_name, 0) + 1\n",
    "    \n",
    "    def use_healthpack(self):\n",
    "        if self.pouch.get('healthpack', 0) > 0:\n",
    "            self.health += 20\n",
    "            self.pouch['healthpack'] = self.pouch.get('healthpack') - 1\n",
    "        else:\n",
    "            print('You don\\'t have a healthpack!')\n",
    "        \n",
    "    def save(self):\n",
    "        with open(r'mystatus.pkl', 'wb') as f:\n",
    "            pickle.dump(self, f)\n",
    "\n",
    "    def load(self):\n",
    "        with open(r'mystatus.pkl', 'rb') as f:\n",
    "            pickle.load(f)"
   ]
  },
  {
   "cell_type": "code",
   "execution_count": 193,
   "metadata": {},
   "outputs": [],
   "source": [
    "player1.save()"
   ]
  },
  {
   "cell_type": "code",
   "execution_count": 191,
   "metadata": {},
   "outputs": [],
   "source": [
    "class orc(character):\n",
    "    def __init__(self, name):\n",
    "        self.health = 120\n",
    "        self.pouch = {}\n",
    "        character.spawn_count += 1"
   ]
  },
  {
   "cell_type": "code",
   "execution_count": 192,
   "metadata": {},
   "outputs": [],
   "source": [
    "player1 = character('Mario')\n",
    "player2 = character('Zelda')\n",
    "player3 = character('Sonic')\n",
    "player4 = orc('ANastyOrc')"
   ]
  },
  {
   "cell_type": "code",
   "execution_count": 186,
   "metadata": {},
   "outputs": [
    {
     "name": "stdout",
     "output_type": "stream",
     "text": [
      "player 1 health:100\n",
      "player 2 health:100\n",
      "player 1 health:99\n",
      "player 2 health:80\n"
     ]
    }
   ],
   "source": [
    "print('player 1 health:{}'.format(player1.health))\n",
    "print('player 2 health:{}'.format(player2.health))\n",
    "\n",
    "player1.fight(20, 1, player2)\n",
    "\n",
    "print('player 1 health:{}'.format(player1.health))\n",
    "print('player 2 health:{}'.format(player2.health))"
   ]
  },
  {
   "cell_type": "code",
   "execution_count": 187,
   "metadata": {},
   "outputs": [
    {
     "data": {
      "text/plain": [
       "{'healthpack': 1}"
      ]
     },
     "execution_count": 187,
     "metadata": {},
     "output_type": "execute_result"
    }
   ],
   "source": [
    "player2.pick_up_item('healthpack')\n",
    "player2.pouch"
   ]
  },
  {
   "cell_type": "code",
   "execution_count": 188,
   "metadata": {},
   "outputs": [
    {
     "name": "stdout",
     "output_type": "stream",
     "text": [
      "player 2 health:100\n",
      "player 2 pouch:{'healthpack': 0}\n"
     ]
    }
   ],
   "source": [
    "player2.use_healthpack()\n",
    "print('player 2 health:{}'.format(player2.health))\n",
    "print('player 2 pouch:{}'.format(player2.pouch))"
   ]
  },
  {
   "cell_type": "code",
   "execution_count": 196,
   "metadata": {},
   "outputs": [],
   "source": [
    "with open(r'mystatus.pkl', 'rb') as f:\n",
    "    player = pickle.load(f)"
   ]
  },
  {
   "cell_type": "code",
   "execution_count": 197,
   "metadata": {},
   "outputs": [
    {
     "data": {
      "text/plain": [
       "100"
      ]
     },
     "execution_count": 197,
     "metadata": {},
     "output_type": "execute_result"
    }
   ],
   "source": [
    "player.health\n"
   ]
  },
  {
   "cell_type": "code",
   "execution_count": null,
   "metadata": {},
   "outputs": [],
   "source": []
  }
 ],
 "metadata": {
  "kernelspec": {
   "display_name": "Python 3",
   "language": "python",
   "name": "python3"
  },
  "language_info": {
   "codemirror_mode": {
    "name": "ipython",
    "version": 3
   },
   "file_extension": ".py",
   "mimetype": "text/x-python",
   "name": "python",
   "nbconvert_exporter": "python",
   "pygments_lexer": "ipython3",
   "version": "3.7.0"
  }
 },
 "nbformat": 4,
 "nbformat_minor": 2
}
