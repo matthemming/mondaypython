{
 "cells": [
  {
   "cell_type": "code",
   "execution_count": 29,
   "metadata": {},
   "outputs": [],
   "source": [
    "import sys, traceback\n",
    "import win32evtlogutil"
   ]
  },
  {
   "cell_type": "code",
   "execution_count": 4,
   "metadata": {},
   "outputs": [
    {
     "ename": "KeyError",
     "evalue": "'Starbucks'",
     "output_type": "error",
     "traceback": [
      "\u001b[1;31m---------------------------------------------------------------------------\u001b[0m",
      "\u001b[1;31mKeyError\u001b[0m                                  Traceback (most recent call last)",
      "\u001b[1;32m<ipython-input-4-10b42302d1fd>\u001b[0m in \u001b[0;36m<module>\u001b[1;34m()\u001b[0m\n\u001b[1;32m----> 1\u001b[1;33m \u001b[0md\u001b[0m\u001b[1;33m[\u001b[0m\u001b[1;34m'Starbucks'\u001b[0m\u001b[1;33m]\u001b[0m\u001b[1;33m\u001b[0m\u001b[0m\n\u001b[0m",
      "\u001b[1;31mKeyError\u001b[0m: 'Starbucks'"
     ]
    }
   ],
   "source": [
    "d['Starbucks']"
   ]
  },
  {
   "cell_type": "code",
   "execution_count": 1,
   "metadata": {},
   "outputs": [],
   "source": [
    "d = {'kubrick':'data', 'Shell': 'Oil & gas', 'Wetherspoons':'beer'}"
   ]
  },
  {
   "cell_type": "code",
   "execution_count": 33,
   "metadata": {},
   "outputs": [
    {
     "name": "stdout",
     "output_type": "stream",
     "text": [
      "Not in there mate\n",
      "(<class 'KeyError'>, KeyError('costa'), <traceback object at 0x0000029825133188>)\n"
     ]
    }
   ],
   "source": [
    "try:\n",
    "    d['costa']\n",
    "except KeyError:\n",
    "    print('Not in there mate')\n",
    "    print(sys.exc_info())\n",
    "    exc = traceback.format_exc()\n",
    "    win32evtlogutil.ReportEvent('PythonProgram', eventID=50001, eventCategory=2, strings=[exc])\n",
    "except OSError:\n",
    "    print('OSError')\n",
    "except:\n",
    "    print('Something went wrong I don\\'t know what')\n",
    "finally:\n",
    "    f.close()"
   ]
  },
  {
   "cell_type": "code",
   "execution_count": 20,
   "metadata": {},
   "outputs": [
    {
     "data": {
      "text/plain": [
       "<module 'win32evtlog' from 'C:\\\\Users\\\\Student\\\\Anaconda3\\\\lib\\\\site-packages\\\\win32\\\\win32evtlog.pyd'>"
      ]
     },
     "execution_count": 20,
     "metadata": {},
     "output_type": "execute_result"
    }
   ],
   "source": [
    "win32.ReportEvent(PythonProgram, 50001, 'Error',\n",
    "                'EventType', 'Inserts', 'Data', SID)"
   ]
  },
  {
   "cell_type": "code",
   "execution_count": null,
   "metadata": {},
   "outputs": [],
   "source": []
  }
 ],
 "metadata": {
  "kernelspec": {
   "display_name": "Python 3",
   "language": "python",
   "name": "python3"
  },
  "language_info": {
   "codemirror_mode": {
    "name": "ipython",
    "version": 3
   },
   "file_extension": ".py",
   "mimetype": "text/x-python",
   "name": "python",
   "nbconvert_exporter": "python",
   "pygments_lexer": "ipython3",
   "version": "3.7.0"
  }
 },
 "nbformat": 4,
 "nbformat_minor": 2
}
