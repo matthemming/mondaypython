{
 "cells": [
  {
   "cell_type": "raw",
   "metadata": {},
   "source": [
    "We would like to know the average rating of the movie as a ratio of the cost per minute to produce.\n",
    "\n",
    "We are only interested in ratings from users which were made in the first month of the movie’s release.\n",
    "\n",
    "One other filter – we are only interested in movies where the primary actor (order=0) is a female ☺\n",
    "\n",
    "Could you plot the top 20 highest rated movies – according to that ratio.\n"
   ]
  },
  {
   "cell_type": "code",
   "execution_count": 258,
   "metadata": {},
   "outputs": [],
   "source": [
    "from pandas import DataFrame, Series\n",
    "import pandas as pd\n",
    "import re\n",
    "from bs4 import BeautifulSoup\n",
    "from urllib import request\n",
    "from ast import literal_eval\n",
    "from datetime import timedelta, datetime as dt\n",
    "import matplotlib.pyplot as plt\n",
    "%matplotlib inline"
   ]
  },
  {
   "cell_type": "code",
   "execution_count": 2,
   "metadata": {},
   "outputs": [
    {
     "name": "stderr",
     "output_type": "stream",
     "text": [
      "C:\\Users\\Student\\Anaconda3\\lib\\site-packages\\IPython\\core\\interactiveshell.py:2785: DtypeWarning: Columns (10) have mixed types. Specify dtype option on import or set low_memory=False.\n",
      "  interactivity=interactivity, compiler=compiler, result=result)\n"
     ]
    }
   ],
   "source": [
    "credpath = r'C:\\Data\\Movies\\credits.csv'\n",
    "metadatapath = r'C:\\Data\\Movies\\movies_metadata.csv'\n",
    "ratingspath = r'C:\\Data\\Movies\\ratings.csv'\n",
    "credits_raw = pd.read_csv(credpath)\n",
    "metadata_raw = pd.read_csv(metadatapath)\n",
    "ratings_raw = pd.read_csv(ratingspath)"
   ]
  },
  {
   "cell_type": "code",
   "execution_count": null,
   "metadata": {},
   "outputs": [],
   "source": []
  },
  {
   "cell_type": "code",
   "execution_count": 4,
   "metadata": {},
   "outputs": [
    {
     "name": "stderr",
     "output_type": "stream",
     "text": [
      "C:\\Users\\Student\\Anaconda3\\lib\\site-packages\\ipykernel_launcher.py:4: SettingWithCopyWarning: \n",
      "A value is trying to be set on a copy of a slice from a DataFrame.\n",
      "Try using .loc[row_indexer,col_indexer] = value instead\n",
      "\n",
      "See the caveats in the documentation: http://pandas.pydata.org/pandas-docs/stable/indexing.html#indexing-view-versus-copy\n",
      "  after removing the cwd from sys.path.\n"
     ]
    }
   ],
   "source": [
    "#select only rows of interest\n",
    "metadata = metadata_raw[['id', 'original_title', 'budget', 'release_date', 'runtime']]\n",
    "# set date column to datetime\n",
    "metadata['release_date'] = metadata['release_date'].map(lambda x: pd.to_datetime(x, format='%Y-%m-%d', errors='coerce'))\n",
    "#get rid of weird .jpg entries for budget and convert to numeric\n",
    "metadata = metadata[metadata['budget'].map(len) < 20]\n",
    "metadata['budget'] = metadata['budget'].map(lambda x: pd.to_numeric(x))"
   ]
  },
  {
   "cell_type": "code",
   "execution_count": null,
   "metadata": {},
   "outputs": [],
   "source": []
  },
  {
   "cell_type": "code",
   "execution_count": 36,
   "metadata": {},
   "outputs": [
    {
     "name": "stderr",
     "output_type": "stream",
     "text": [
      "C:\\Users\\Student\\Anaconda3\\lib\\site-packages\\ipykernel_launcher.py:3: SettingWithCopyWarning: \n",
      "A value is trying to be set on a copy of a slice from a DataFrame.\n",
      "Try using .loc[row_indexer,col_indexer] = value instead\n",
      "\n",
      "See the caveats in the documentation: http://pandas.pydata.org/pandas-docs/stable/indexing.html#indexing-view-versus-copy\n",
      "  This is separate from the ipykernel package so we can avoid doing imports until\n",
      "C:\\Users\\Student\\Anaconda3\\lib\\site-packages\\ipykernel_launcher.py:5: SettingWithCopyWarning: \n",
      "A value is trying to be set on a copy of a slice from a DataFrame.\n",
      "Try using .loc[row_indexer,col_indexer] = value instead\n",
      "\n",
      "See the caveats in the documentation: http://pandas.pydata.org/pandas-docs/stable/indexing.html#indexing-view-versus-copy\n",
      "  \"\"\"\n"
     ]
    }
   ],
   "source": [
    "#select only rows of interest\n",
    "credits = credits_raw[['id', 'cast']]\n",
    "credits['id'] = credits['id'].map(lambda x: str(x))\n",
    "#convert cast column from string to list of dicts\n",
    "credits['cast'] = credits['cast'].apply(literal_eval)\n",
    "#pull out lead actor gender from cast info\n",
    "credits['gender'] = credits['cast'].map(lambda x: [dictionary['gender'] for dictionary in x if dictionary['order'] == 0])\n",
    "#female lead flag\n",
    "credits['female_lead'] = credits['gender'].map(lambda x: 1 if str(x) == '[1]' else 0)"
   ]
  },
  {
   "cell_type": "code",
   "execution_count": 109,
   "metadata": {},
   "outputs": [],
   "source": [
    "#join metadata and credits dataframes\n",
    "credmeta = metadata.join(credits.set_index('id'), on='id')[['id', 'original_title', 'budget', 'release_date', 'runtime','female_lead']]\n",
    "#filter by movies with non zero budget and female leads\n",
    "credmeta = credmeta[(credmeta['budget'] != 0) & (credmeta['female_lead'] == 1)]\n",
    "#calculate cost per minute\n",
    "credmeta['cost_per_min'] = credmeta['budget']/credmeta['runtime']"
   ]
  },
  {
   "cell_type": "code",
   "execution_count": 185,
   "metadata": {},
   "outputs": [],
   "source": [
    "ratings = ratings_raw\n",
    "#convert movieId to str to facilitate joining\n",
    "ratings['movieId'] = ratings['movieId'].map(lambda x: str(x))\n",
    "#filter by movies that have female leads and non zero budgets\n",
    "ratings = ratings[ratings.movieId.isin(list(credmeta.id))]\n",
    "#bring in release date\n",
    "ratings = ratings.merge(credmeta, left_on='movieId', right_on='id', how='inner')[['userId', 'rating', 'timestamp', 'id', 'release_date']]\n",
    "#convert review date to datetime\n",
    "ratings['review_date'] = ratings['timestamp'].map(lambda x: pd.to_datetime(x, unit='s'))\n",
    "#get time difference between release and review\n",
    "ratings['days_since_release'] = ratings['review_date'] - ratings['release_date']\n",
    "#convert time difference to months\n",
    "ratings['months_since_release'] = ratings['days_since_release'].astype('timedelta64[M]')\n"
   ]
  },
  {
   "cell_type": "code",
   "execution_count": 221,
   "metadata": {},
   "outputs": [],
   "source": [
    "#filter by ratings left in first month\n",
    "filt_ratings = ratings[ratings['months_since_release'] == 0]\n",
    "\n",
    "#filter out less than 10 reviews\n",
    "over10_ratings = filt_ratings.groupby('id').count()[filt_ratings.groupby('id').count()['userId'] >= 10].index\n",
    "filt_ratings = filt_ratings[filt_ratings['id'].isin(over10_ratings)]"
   ]
  },
  {
   "cell_type": "code",
   "execution_count": 222,
   "metadata": {},
   "outputs": [
    {
     "data": {
      "text/plain": [
       "Index(['1018', '104', '1259', '1279', '1378', '1439', '1562', '1588', '16',\n",
       "       '1641', '1831', '187', '1951', '1957', '1958', '1969', '1995', '1997',\n",
       "       '2002', '2011', '2018', '2046', '2171', '2176', '2268', '2288', '2360',\n",
       "       '24', '2642', '277', '2841', '3037', '316', '334', '350', '3638', '393',\n",
       "       '39446', '3981', '4248', '431', '4351', '4368', '441', '455', '47518',\n",
       "       '508', '509', '51540', '540', '544', '546', '553', '55721', '588',\n",
       "       '590', '597', '637', '664', '6947', '786', '8014', '8966', '8968',\n",
       "       '924'],\n",
       "      dtype='object', name='id')"
      ]
     },
     "execution_count": 222,
     "metadata": {},
     "output_type": "execute_result"
    }
   ],
   "source": [
    "over10_ratings"
   ]
  },
  {
   "cell_type": "code",
   "execution_count": 223,
   "metadata": {},
   "outputs": [],
   "source": [
    "#make average ratings table\n",
    "avgratings = filt_ratings.groupby('id').mean()[['rating']]\n",
    "#merge with columns with movie details\n",
    "final_calc_df = credmeta.merge(avgratings, left_on='id', right_on='id', how='inner')[['id', 'original_title', 'budget', 'runtime', 'cost_per_min', 'rating']]\n",
    "#ratio of rating:cost per minute * 1000\n",
    "final_calc_df['rating_cost_ratio'] = final_calc_df['rating'] / final_calc_df['cost_per_min'] *1000"
   ]
  },
  {
   "cell_type": "code",
   "execution_count": 228,
   "metadata": {},
   "outputs": [],
   "source": [
    "#top 20 based on ratio\n",
    "top20 = final_calc_df.nlargest(20, 'rating_cost_ratio')"
   ]
  },
  {
   "cell_type": "code",
   "execution_count": 257,
   "metadata": {},
   "outputs": [
    {
     "data": {
      "image/png": "[encoded data removed]",
      "text/plain": [
       "<Figure size 432x288 with 1 Axes>"
      ]
     },
     "metadata": {
      "needs_background": "light"
     },
     "output_type": "display_data"
    }
   ],
   "source": [
    "\n",
    "titles = list(top20.original_title)\n",
    "ratings = list(top20.rating_cost_ratio)\n",
    "\n",
    "fig, ax = plt.subplots()\n",
    "ax.yaxis.set_major_formatter(formatter)\n",
    "plt.bar(titles, ratings)\n",
    "plt.xticks(titles, list(top20.original_title), rotation=90)\n",
    "plt.yticks([0, 0.5, 1.0, 1.5], [0, 0.5, 1.0, 1.5])\n",
    "plt.ylabel('Ratio of movie rating to cost/minute (x1000)')\n",
    "plt.show()"
   ]
  },
  {
   "cell_type": "code",
   "execution_count": 261,
   "metadata": {},
   "outputs": [],
   "source": [
    "top20.to_pickle('top20movies.pkl')"
   ]
  }
 ],
 "metadata": {
  "kernelspec": {
   "display_name": "Python 3",
   "language": "python",
   "name": "python3"
  },
  "language_info": {
   "codemirror_mode": {
    "name": "ipython",
    "version": 3
   },
   "file_extension": ".py",
   "mimetype": "text/x-python",
   "name": "python",
   "nbconvert_exporter": "python",
   "pygments_lexer": "ipython3",
   "version": "3.7.0"
  }
 },
 "nbformat": 4,
 "nbformat_minor": 2
}
