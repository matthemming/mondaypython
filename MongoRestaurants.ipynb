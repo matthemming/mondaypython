{
 "cells": [
  {
   "cell_type": "code",
   "execution_count": 1,
   "metadata": {},
   "outputs": [],
   "source": [
    "import pymongo\n",
    "from pymongo import MongoClient\n",
    "from urllib import request\n",
    "import json\n",
    "from pprint import pprint"
   ]
  },
  {
   "cell_type": "code",
   "execution_count": 9,
   "metadata": {},
   "outputs": [],
   "source": [
    "connection = MongoClient()\n",
    "db = connection.kubrick"
   ]
  },
  {
   "cell_type": "code",
   "execution_count": 10,
   "metadata": {},
   "outputs": [
    {
     "name": "stdout",
     "output_type": "stream",
     "text": [
      "{'_id': ObjectId('5be981ebbc131e9d273541cf'), 'address': {'building': '469', 'coord': [-73.961704, 40.662942], 'street': 'Flatbush Avenue', 'zipcode': '11225'}, 'borough': 'Brooklyn', 'cuisine': 'Hamburgers', 'grades': [{'date': datetime.datetime(2014, 12, 30, 0, 0), 'grade': 'A', 'score': 8}, {'date': datetime.datetime(2014, 7, 1, 0, 0), 'grade': 'B', 'score': 23}, {'date': datetime.datetime(2013, 4, 30, 0, 0), 'grade': 'A', 'score': 12}, {'date': datetime.datetime(2012, 5, 8, 0, 0), 'grade': 'A', 'score': 12}], 'name': \"Wendy'S\", 'restaurant_id': '30112340'}\n",
      "{'_id': ObjectId('5be981ebbc131e9d273541d0'), 'address': {'building': '2780', 'coord': [-73.98241999999999, 40.579505], 'street': 'Stillwell Avenue', 'zipcode': '11224'}, 'borough': 'Brooklyn', 'cuisine': 'American ', 'grades': [{'date': datetime.datetime(2014, 6, 10, 0, 0), 'grade': 'A', 'score': 5}, {'date': datetime.datetime(2013, 6, 5, 0, 0), 'grade': 'A', 'score': 7}, {'date': datetime.datetime(2012, 4, 13, 0, 0), 'grade': 'A', 'score': 12}, {'date': datetime.datetime(2011, 10, 12, 0, 0), 'grade': 'A', 'score': 12}], 'name': 'Riviera Caterer', 'restaurant_id': '40356018'}\n",
      "{'_id': ObjectId('5be981ebbc131e9d273541d1'), 'address': {'building': '8825', 'coord': [-73.8803827, 40.7643124], 'street': 'Astoria Boulevard', 'zipcode': '11369'}, 'borough': 'Queens', 'cuisine': 'American ', 'grades': [{'date': datetime.datetime(2014, 11, 15, 0, 0), 'grade': 'Z', 'score': 38}, {'date': datetime.datetime(2014, 5, 2, 0, 0), 'grade': 'A', 'score': 10}, {'date': datetime.datetime(2013, 3, 2, 0, 0), 'grade': 'A', 'score': 7}, {'date': datetime.datetime(2012, 2, 10, 0, 0), 'grade': 'A', 'score': 13}], 'name': 'Brunos On The Boulevard', 'restaurant_id': '40356151'}\n",
      "{'_id': ObjectId('5be981ebbc131e9d273541d2'), 'address': {'building': '97-22', 'coord': [-73.8601152, 40.7311739], 'street': '63 Road', 'zipcode': '11374'}, 'borough': 'Queens', 'cuisine': 'Jewish/Kosher', 'grades': [{'date': datetime.datetime(2014, 11, 24, 0, 0), 'grade': 'Z', 'score': 20}, {'date': datetime.datetime(2013, 1, 17, 0, 0), 'grade': 'A', 'score': 13}, {'date': datetime.datetime(2012, 8, 2, 0, 0), 'grade': 'A', 'score': 13}, {'date': datetime.datetime(2011, 12, 15, 0, 0), 'grade': 'B', 'score': 25}], 'name': 'Tov Kosher Kitchen', 'restaurant_id': '40356068'}\n",
      "{'_id': ObjectId('5be981ebbc131e9d273541d3'), 'address': {'building': '2206', 'coord': [-74.1377286, 40.6119572], 'street': 'Victory Boulevard', 'zipcode': '10314'}, 'borough': 'Staten Island', 'cuisine': 'Jewish/Kosher', 'grades': [{'date': datetime.datetime(2014, 10, 6, 0, 0), 'grade': 'A', 'score': 9}, {'date': datetime.datetime(2014, 5, 20, 0, 0), 'grade': 'A', 'score': 12}, {'date': datetime.datetime(2013, 4, 4, 0, 0), 'grade': 'A', 'score': 12}, {'date': datetime.datetime(2012, 1, 24, 0, 0), 'grade': 'A', 'score': 9}], 'name': 'Kosher Island', 'restaurant_id': '40356442'}\n"
     ]
    }
   ],
   "source": [
    "for doc in db.restaurants.find().limit(5):\n",
    "    print (doc)"
   ]
  },
  {
   "cell_type": "code",
   "execution_count": 11,
   "metadata": {},
   "outputs": [],
   "source": [
    "q = [{'$match': {'cuisine': 'Indian'}}, \\\n",
    "     {'$project': {'restaurant_name': '$name', 'location': '$borough', 'grades': 1}}, \\\n",
    "     {'$unwind': '$grades'}, \\\n",
    "     {'$group': {'_id': '$location', 'avg_score': {'$avg': '$grades.score'}}}]"
   ]
  },
  {
   "cell_type": "code",
   "execution_count": 15,
   "metadata": {},
   "outputs": [
    {
     "name": "stdout",
     "output_type": "stream",
     "text": [
      "{'_id': 'Staten Island', 'avg_score': 9.75}\n",
      "{'_id': 'Brooklyn', 'avg_score': 10.181818181818182}\n",
      "{'_id': 'Queens', 'avg_score': 12.56338028169014}\n",
      "{'_id': 'Manhattan', 'avg_score': 12.16793893129771}\n"
     ]
    }
   ],
   "source": [
    "for result in db.restaurants.aggregate(q):\n",
    "    print (result)"
   ]
  },
  {
   "cell_type": "code",
   "execution_count": 14,
   "metadata": {},
   "outputs": [
    {
     "data": {
      "text/plain": [
       "<pymongo.command_cursor.CommandCursor at 0x29d46d88080>"
      ]
     },
     "execution_count": 14,
     "metadata": {},
     "output_type": "execute_result"
    }
   ],
   "source": [
    "results"
   ]
  }
 ],
 "metadata": {
  "kernelspec": {
   "display_name": "Python 3",
   "language": "python",
   "name": "python3"
  },
  "language_info": {
   "codemirror_mode": {
    "name": "ipython",
    "version": 3
   },
   "file_extension": ".py",
   "mimetype": "text/x-python",
   "name": "python",
   "nbconvert_exporter": "python",
   "pygments_lexer": "ipython3",
   "version": "3.7.0"
  }
 },
 "nbformat": 4,
 "nbformat_minor": 2
}
