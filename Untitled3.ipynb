{
 "cells": [
  {
   "cell_type": "code",
   "execution_count": 2,
   "metadata": {},
   "outputs": [],
   "source": [
    "from fuzzywuzzy import fuzz"
   ]
  },
  {
   "cell_type": "code",
   "execution_count": 3,
   "metadata": {},
   "outputs": [
    {
     "data": {
      "text/plain": [
       "97"
      ]
     },
     "execution_count": 3,
     "metadata": {},
     "output_type": "execute_result"
    }
   ],
   "source": [
    "fuzz.ratio(\"this is a test\", \"this is a test!\")"
   ]
  },
  {
   "cell_type": "code",
   "execution_count": 4,
   "metadata": {},
   "outputs": [],
   "source": [
    "Text1 =  'It was a dark and stormy night. I was all alone sitting on a red chair. I was not completely alone as I had three cats.'\n",
    "\n",
    "Text20 = 'It was a murky and stormy night. I was all alone sitting on a crimson chair. I was not completely alone as I had three felines'\n",
    "\n",
    "Text21 = 'It was a murky and tempestuous night. I was all alone sitting on a crimson cathedra. I was not completely alone as I had three felines'\n",
    "\n",
    "Text22 = 'I was all alone sitting on a crimson cathedra. I was not completely alone as I had three felines. It was a murky and tempestuous night.'\n",
    "\n",
    "Text24 = 'It was a dark and stormy night. I was not alone. I was not sitting on a red chair. I had three cats.'"
   ]
  },
  {
   "cell_type": "code",
   "execution_count": 46,
   "metadata": {},
   "outputs": [],
   "source": [
    "Text1 =  'Matthew J Hemming'\n",
    "\n",
    "Text20 = 'Matthew Hemming'\n",
    "\n",
    "Text21 = 'Matt James Hemming'\n",
    "\n",
    "Text22 = 'Matthew James Hemming'\n",
    "\n",
    "Text24 = 'Martha Hemmstein'"
   ]
  },
  {
   "cell_type": "code",
   "execution_count": 47,
   "metadata": {},
   "outputs": [
    {
     "name": "stdout",
     "output_type": "stream",
     "text": [
      "Matthew J Hemming / Matthew Hemming: ratio = 94, partial ratio = 87\n",
      "Matthew J Hemming / Matt James Hemming: ratio = 80, partial ratio = 76\n",
      "Matthew J Hemming / Matthew James Hemming: ratio = 89, partial ratio = 76\n",
      "Matthew J Hemming / Martha Hemmstein: ratio = 67, partial ratio = 69\n"
     ]
    }
   ],
   "source": [
    "for i in [{'text20':Text20},{'text21':Text21},{'text22':Text22},{'text23':Text24}]:\n",
    "    test_text = list(i.values())[0]\n",
    "    rat = fuzz.ratio(Text1, test_text)\n",
    "    par_rat = fuzz.partial_ratio(Text1, test_text)\n",
    "    print(Text1 + ' / ' + list(i.values())[0] +': ratio = ' + str(rat) + ', partial ratio = ' + str(par_rat))\n"
   ]
  },
  {
   "cell_type": "code",
   "execution_count": null,
   "metadata": {},
   "outputs": [],
   "source": []
  }
 ],
 "metadata": {
  "kernelspec": {
   "display_name": "Python 3",
   "language": "python",
   "name": "python3"
  },
  "language_info": {
   "codemirror_mode": {
    "name": "ipython",
    "version": 3
   },
   "file_extension": ".py",
   "mimetype": "text/x-python",
   "name": "python",
   "nbconvert_exporter": "python",
   "pygments_lexer": "ipython3",
   "version": "3.7.0"
  }
 },
 "nbformat": 4,
 "nbformat_minor": 2
}
