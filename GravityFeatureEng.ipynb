{
 "cells": [
  {
   "cell_type": "code",
   "execution_count": 1,
   "metadata": {},
   "outputs": [],
   "source": [
    "import pandas as pd\n",
    "import numpy as np\n",
    "from sklearn.linear_model import LinearRegression\n",
    "from sklearn.linear_model import LogisticRegression\n",
    "from sklearn.metrics import mean_squared_error, accuracy_score\n",
    "import matplotlib.pyplot as plt"
   ]
  },
  {
   "cell_type": "code",
   "execution_count": 3,
   "metadata": {},
   "outputs": [],
   "source": [
    "path = 'C:\\Data\\grav.csv'"
   ]
  },
  {
   "cell_type": "code",
   "execution_count": 5,
   "metadata": {},
   "outputs": [],
   "source": [
    "df = pd.read_csv(path)"
   ]
  },
  {
   "cell_type": "code",
   "execution_count": 14,
   "metadata": {},
   "outputs": [
    {
     "data": {
      "text/html": [
       "<div>\n",
       "<style scoped>\n",
       "    .dataframe tbody tr th:only-of-type {\n",
       "        vertical-align: middle;\n",
       "    }\n",
       "\n",
       "    .dataframe tbody tr th {\n",
       "        vertical-align: top;\n",
       "    }\n",
       "\n",
       "    .dataframe thead th {\n",
       "        text-align: right;\n",
       "    }\n",
       "</style>\n",
       "<table border=\"1\" class=\"dataframe\">\n",
       "  <thead>\n",
       "    <tr style=\"text-align: right;\">\n",
       "      <th></th>\n",
       "      <th>Unnamed: 0</th>\n",
       "      <th>F</th>\n",
       "      <th>mass1</th>\n",
       "      <th>mass2</th>\n",
       "      <th>r</th>\n",
       "      <th>1/rsquared</th>\n",
       "    </tr>\n",
       "  </thead>\n",
       "  <tbody>\n",
       "    <tr>\n",
       "      <th>0</th>\n",
       "      <td>0</td>\n",
       "      <td>2.960224e-08</td>\n",
       "      <td>8086.298635</td>\n",
       "      <td>7214.706864</td>\n",
       "      <td>362.672830</td>\n",
       "      <td>443.545752</td>\n",
       "    </tr>\n",
       "    <tr>\n",
       "      <th>1</th>\n",
       "      <td>1</td>\n",
       "      <td>5.693797e-09</td>\n",
       "      <td>7605.485567</td>\n",
       "      <td>5467.744603</td>\n",
       "      <td>698.167602</td>\n",
       "      <td>85.313112</td>\n",
       "    </tr>\n",
       "    <tr>\n",
       "      <th>2</th>\n",
       "      <td>2</td>\n",
       "      <td>2.946806e-09</td>\n",
       "      <td>3510.979657</td>\n",
       "      <td>6283.815527</td>\n",
       "      <td>706.875930</td>\n",
       "      <td>44.153522</td>\n",
       "    </tr>\n",
       "    <tr>\n",
       "      <th>3</th>\n",
       "      <td>3</td>\n",
       "      <td>5.469440e-07</td>\n",
       "      <td>1849.249904</td>\n",
       "      <td>8551.004810</td>\n",
       "      <td>43.926645</td>\n",
       "      <td>8195.145758</td>\n",
       "    </tr>\n",
       "    <tr>\n",
       "      <th>4</th>\n",
       "      <td>4</td>\n",
       "      <td>9.953921e-10</td>\n",
       "      <td>2592.347859</td>\n",
       "      <td>4919.725270</td>\n",
       "      <td>924.726026</td>\n",
       "      <td>14.914475</td>\n",
       "    </tr>\n",
       "  </tbody>\n",
       "</table>\n",
       "</div>"
      ],
      "text/plain": [
       "   Unnamed: 0             F        mass1        mass2           r   1/rsquared\n",
       "0           0  2.960224e-08  8086.298635  7214.706864  362.672830   443.545752\n",
       "1           1  5.693797e-09  7605.485567  5467.744603  698.167602    85.313112\n",
       "2           2  2.946806e-09  3510.979657  6283.815527  706.875930    44.153522\n",
       "3           3  5.469440e-07  1849.249904  8551.004810   43.926645  8195.145758\n",
       "4           4  9.953921e-10  2592.347859  4919.725270  924.726026    14.914475"
      ]
     },
     "execution_count": 14,
     "metadata": {},
     "output_type": "execute_result"
    }
   ],
   "source": [
    "df.head()"
   ]
  },
  {
   "cell_type": "code",
   "execution_count": 13,
   "metadata": {},
   "outputs": [],
   "source": [
    "df['1/rsquared'] = (df['mass1'] * df['mass2']) /  (df['r']**2)"
   ]
  },
  {
   "cell_type": "code",
   "execution_count": 15,
   "metadata": {},
   "outputs": [],
   "source": [
    "X = df[['1/rsquared']]\n",
    "y = df['F']"
   ]
  },
  {
   "cell_type": "code",
   "execution_count": 16,
   "metadata": {},
   "outputs": [
    {
     "name": "stdout",
     "output_type": "stream",
     "text": [
      "Coefficient: 6.673999999999998e-11\n",
      "Intercept: -5.293955920339377e-23\n"
     ]
    }
   ],
   "source": [
    "lm = LinearRegression()\n",
    "lm.fit(X, y)\n",
    "\n",
    "print ('Gravitational Constant: ' + str(lm.coef_[0]))\n",
    "print ('Intercept: ' + str(lm.intercept_))"
   ]
  },
  {
   "cell_type": "code",
   "execution_count": null,
   "metadata": {},
   "outputs": [],
   "source": []
  }
 ],
 "metadata": {
  "kernelspec": {
   "display_name": "Python 3",
   "language": "python",
   "name": "python3"
  },
  "language_info": {
   "codemirror_mode": {
    "name": "ipython",
    "version": 3
   },
   "file_extension": ".py",
   "mimetype": "text/x-python",
   "name": "python",
   "nbconvert_exporter": "python",
   "pygments_lexer": "ipython3",
   "version": "3.7.0"
  }
 },
 "nbformat": 4,
 "nbformat_minor": 2
}
