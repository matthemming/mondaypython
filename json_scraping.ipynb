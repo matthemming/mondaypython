{
 "cells": [
  {
   "cell_type": "code",
   "execution_count": 30,
   "metadata": {},
   "outputs": [],
   "source": [
    "from urllib import request\n",
    "import json\n",
    "from pprint import pprint"
   ]
  },
  {
   "cell_type": "code",
   "execution_count": 32,
   "metadata": {},
   "outputs": [],
   "source": [
    "url = 'https://www.reddit.com/r/science/.json'"
   ]
  },
  {
   "cell_type": "code",
   "execution_count": 33,
   "metadata": {},
   "outputs": [],
   "source": [
    "req = request.Request(url, headers={'User-Agent': 'Mozilla/5.0 (Windows NT 10.0; Win64; x64) AppleWebKit/537.36 (KHTML, like Gecko) Chrome/70.0.3538.67 Safari/537.36'})\n",
    "contents = request.urlopen(req)"
   ]
  },
  {
   "cell_type": "code",
   "execution_count": 34,
   "metadata": {},
   "outputs": [],
   "source": [
    "redditd = json.loads(contents.read().decode('utf-8'))"
   ]
  },
  {
   "cell_type": "code",
   "execution_count": 65,
   "metadata": {},
   "outputs": [
    {
     "name": "stdout",
     "output_type": "stream",
     "text": [
      "Post 1 - \"Suicide more prevale...\" has 16476 ups\n",
      "Post 2 - \"76% of participants ...\" has 36009 ups\n",
      "Post 3 - \"Ocean acidification ...\" has 237 ups\n",
      "Post 4 - \"A new study in Annal...\" has 96 ups\n",
      "Post 5 - \"Children may suffer ...\" has 43 ups\n",
      "Post 6 - \"Religious fundamenta...\" has 51812 ups\n",
      "Post 7 - \"Bacteria thrive in s...\" has 22 ups\n",
      "Post 8 - \"4-12% of what is now...\" has 395 ups\n",
      "Post 9 - \"Cancer researchers d...\" has 21 ups\n",
      "Post 10 - \"Scientists have prod...\" has 28 ups\n",
      "Post 11 - \"Mothers should wait ...\" has 26 ups\n",
      "Post 12 - \"In the U.S., nearly ...\" has 11 ups\n",
      "Post 13 - \"Lithium metal charge...\" has 305 ups\n",
      "Post 14 - \"Scientists created m...\" has 17 ups\n",
      "Post 15 - \"A new study funded b...\" has 12 ups\n",
      "Post 16 - \"Israeli scientists f...\" has 6 ups\n",
      "Post 17 - \"Commercial scale mem...\" has 8 ups\n",
      "Post 18 - \"Scientists have succ...\" has 39 ups\n",
      "Post 19 - \"We Might Be Able to ...\" has 42 ups\n",
      "Post 20 - \"A new study publishe...\" has 158 ups\n",
      "Post 21 - \"\"Stress Hormone\" Cor...\" has 10672 ups\n",
      "Post 22 - \"Scientists at Indian...\" has 6 ups\n",
      "Post 23 - \"Research has found c...\" has 189 ups\n",
      "Post 24 - \"Changes in brain con...\" has 28 ups\n",
      "Post 25 - \"Most Americans under...\" has 70 ups\n"
     ]
    }
   ],
   "source": [
    "titleups = {}\n",
    "for i in range(len(redditd['data']['children'])):\n",
    "    title = redditd['data']['children'][i]['data']['title']\n",
    "    ups = redditd['data']['children'][i]['data']['ups']\n",
    "    print ('Post {} - \"{}...\" has {} ups'.format(i+1,title[:20], ups))\n",
    "    titleups[title[:20]] = ups"
   ]
  },
  {
   "cell_type": "code",
   "execution_count": 66,
   "metadata": {},
   "outputs": [
    {
     "data": {
      "text/plain": [
       "'1 2 3 4 5 6 7 8 9 10 '"
      ]
     },
     "execution_count": 66,
     "metadata": {},
     "output_type": "execute_result"
    }
   ],
   "source": [
    "('{} '*5 + '{} '*5).format('1', '2', '3', '4', '5', '6', '7', '8', '9', '10', )"
   ]
  },
  {
   "cell_type": "code",
   "execution_count": 71,
   "metadata": {},
   "outputs": [
    {
     "data": {
      "text/plain": [
       "[('Religious fundamenta', 51812),\n",
       " ('76% of participants ', 36009),\n",
       " ('Suicide more prevale', 16476),\n",
       " ('\"Stress Hormone\" Cor', 10672),\n",
       " ('4-12% of what is now', 395),\n",
       " ('Lithium metal charge', 305),\n",
       " ('Ocean acidification ', 237),\n",
       " ('Research has found c', 189),\n",
       " ('A new study publishe', 158),\n",
       " ('A new study in Annal', 96),\n",
       " ('Most Americans under', 70),\n",
       " ('Children may suffer ', 43),\n",
       " ('We Might Be Able to ', 42),\n",
       " ('Scientists have succ', 39),\n",
       " ('Scientists have prod', 28),\n",
       " ('Changes in brain con', 28),\n",
       " ('Mothers should wait ', 26),\n",
       " ('Bacteria thrive in s', 22),\n",
       " ('Cancer researchers d', 21),\n",
       " ('Scientists created m', 17),\n",
       " ('A new study funded b', 12),\n",
       " ('In the U.S., nearly ', 11),\n",
       " ('Commercial scale mem', 8),\n",
       " ('Israeli scientists f', 6),\n",
       " ('Scientists at Indian', 6)]"
      ]
     },
     "execution_count": 71,
     "metadata": {},
     "output_type": "execute_result"
    }
   ],
   "source": [
    "sorted(titleups.items(), key = lambda x: x[1], reverse=True)"
   ]
  }
 ],
 "metadata": {
  "kernelspec": {
   "display_name": "Python 3",
   "language": "python",
   "name": "python3"
  },
  "language_info": {
   "codemirror_mode": {
    "name": "ipython",
    "version": 3
   },
   "file_extension": ".py",
   "mimetype": "text/x-python",
   "name": "python",
   "nbconvert_exporter": "python",
   "pygments_lexer": "ipython3",
   "version": "3.7.0"
  }
 },
 "nbformat": 4,
 "nbformat_minor": 2
}
