{
 "cells": [
  {
   "cell_type": "code",
   "execution_count": 2,
   "metadata": {},
   "outputs": [],
   "source": [
    "import pyodbc\n",
    "import csv"
   ]
  },
  {
   "cell_type": "code",
   "execution_count": 3,
   "metadata": {},
   "outputs": [],
   "source": [
    "cnxn = pyodbc.connect('DSN=SQLADW;UID=pylogin;PWD=password')\n",
    "cur = cnxn.cursor()"
   ]
  },
  {
   "cell_type": "code",
   "execution_count": 4,
   "metadata": {},
   "outputs": [],
   "source": [
    "with open(r\"C:\\Data\\SpeedCameras\\speed-camera-locations.csv\", 'r') as l:\n",
    "    locations = l.read().split('\\n')\n",
    "\n",
    "with open(r\"C:\\Data\\SpeedCameras\\speed-camera-violations.csv\", 'r') as v:\n",
    "    violations = v.read().split('\\n')\n",
    "    "
   ]
  },
  {
   "cell_type": "code",
   "execution_count": 5,
   "metadata": {},
   "outputs": [],
   "source": [
    "loc_headers = locations[0]\n",
    "loc_data = locations[1:]"
   ]
  },
  {
   "cell_type": "code",
   "execution_count": 6,
   "metadata": {},
   "outputs": [],
   "source": [
    "viol_headers = violations[0]\n",
    "viol_data = violations[1:]"
   ]
  },
  {
   "cell_type": "code",
   "execution_count": 7,
   "metadata": {},
   "outputs": [
    {
     "data": {
      "text/plain": [
       "['ADDRESS',\n",
       " 'CAMERA ID',\n",
       " 'VIOLATION DATE',\n",
       " 'VIOLATIONS',\n",
       " 'X COORDINATE',\n",
       " 'Y COORDINATE',\n",
       " 'LATITUDE',\n",
       " 'LONGITUDE',\n",
       " 'LOCATION']"
      ]
     },
     "execution_count": 7,
     "metadata": {},
     "output_type": "execute_result"
    }
   ],
   "source": [
    "viol_headers.split(',')"
   ]
  },
  {
   "cell_type": "code",
   "execution_count": 8,
   "metadata": {},
   "outputs": [
    {
     "data": {
      "text/plain": [
       "['2900 W Ogden Ave (Speed Camera)',\n",
       " 'EB',\n",
       " 'WB',\n",
       " '10/17/2013',\n",
       " '41.86040786445197',\n",
       " '-87.69867209877323']"
      ]
     },
     "execution_count": 8,
     "metadata": {},
     "output_type": "execute_result"
    }
   ],
   "source": [
    "#trim_loc = \n",
    "locations[9].split(',')[:6]"
   ]
  },
  {
   "cell_type": "code",
   "execution_count": 9,
   "metadata": {},
   "outputs": [],
   "source": [
    "loc_insert = 'insert into sc_locations (Addr, First_appr, Second_appr, GoLiveDate, LATITUDE, LONGITUDE) values (?, ?, ?, ?, ?, ?)'\n",
    "viol_insert = 'insert into sc_violations (Addr, CameraID, ViolationDate, Violations, XCoord, Latitude, Longitude, YCoord) values (?, ?, ?, ?, ?, ?, ?, ?)'"
   ]
  },
  {
   "cell_type": "code",
   "execution_count": 72,
   "metadata": {},
   "outputs": [],
   "source": [
    "testrow = locations[1].split(',')[:6]\n",
    "cur.execute(loc_insert, testrow[0], testrow[1], testrow[2], testrow[3], testrow[4], testrow[5])\n",
    "cur.commit()"
   ]
  },
  {
   "cell_type": "code",
   "execution_count": 86,
   "metadata": {},
   "outputs": [],
   "source": [
    "testrow = violations[1].split(',')[:8]\n",
    "cur.execute(viol_insert, testrow[0], testrow[1], testrow[2], testrow[3], testrow[4], testrow[5], testrow[6], testrow[7])\n",
    "cur.commit()"
   ]
  },
  {
   "cell_type": "code",
   "execution_count": 90,
   "metadata": {},
   "outputs": [],
   "source": [
    "for row in loc_data:\n",
    "    row_vals = row.split(',')[:6]\n",
    "    try:\n",
    "        cur.execute(loc_insert, row_vals[0], row_vals[1], row_vals[2], row_vals[3], row_vals[4], row_vals[5])\n",
    "        cur.commit()\n",
    "    except:\n",
    "        pass"
   ]
  },
  {
   "cell_type": "code",
   "execution_count": 10,
   "metadata": {},
   "outputs": [
    {
     "data": {
      "text/plain": [
       "['3843 W 111th (Speed Camera),EB,WB,01/13/2014,41.69120239624487,-87.71721139909997,\"{\\'latitude\\': \\'41.69120239624487\\', \\'longitude\\': \\'-87.71721139909997\\', \\'needs_recoding\\': False, \\'human_address\\': \\'{\"\"address\"\":\"\"\"\",\"\"city\"\":\"\"\"\",\"\"state\"\":\"\"\"\",\"\"zip\"\":\"\"\"\"}\\'}\"',\n",
       " '19 W Chicago Ave (Speed Camera),WB,,04/29/2014,41.89655610710888,-87.62902590382873,\"{\\'latitude\\': \\'41.89655610710888\\', \\'longitude\\': \\'-87.62902590382873\\', \\'needs_recoding\\': False, \\'human_address\\': \\'{\"\"address\"\":\"\"\"\",\"\"city\"\":\"\"\"\",\"\"state\"\":\"\"\"\",\"\"zip\"\":\"\"\"\"}\\'}\"',\n",
       " '2445 W 51st St (Speed Camera),EB,,02/24/2014,41.801012880525555,-87.68607060493738,\"{\\'latitude\\': \\'41.801012880525555\\', \\'longitude\\': \\'-87.68607060493738\\', \\'needs_recoding\\': False, \\'human_address\\': \\'{\"\"address\"\":\"\"\"\",\"\"city\"\":\"\"\"\",\"\"state\"\":\"\"\"\",\"\"zip\"\":\"\"\"\"}\\'}\"',\n",
       " '7739 S Western (Speed Camera),NB,,12/18/2013,41.752629293489285,-87.68276525603093,\"{\\'latitude\\': \\'41.752629293489285\\', \\'longitude\\': \\'-87.68276525603093\\', \\'needs_recoding\\': False, \\'human_address\\': \\'{\"\"address\"\":\"\"\"\",\"\"city\"\":\"\"\"\",\"\"state\"\":\"\"\"\",\"\"zip\"\":\"\"\"\"}\\'}\"',\n",
       " '3832 W 79th St (Speed Camera),EB,,02/10/2014,41.749715176851936,-87.71959877920995,\"{\\'latitude\\': \\'41.749715176851936\\', \\'longitude\\': \\'-87.71959877920995\\', \\'needs_recoding\\': False, \\'human_address\\': \\'{\"\"address\"\":\"\"\"\",\"\"city\"\":\"\"\"\",\"\"state\"\":\"\"\"\",\"\"zip\"\":\"\"\"\"}\\'}\"',\n",
       " '7826 S Pulaski Rd (Speed Camera),SB,,02/14/2014,41.75054619772355,-87.72209265589272,\"{\\'latitude\\': \\'41.75054619772355\\', \\'longitude\\': \\'-87.72209265589272\\', \\'needs_recoding\\': False, \\'human_address\\': \\'{\"\"address\"\":\"\"\"\",\"\"city\"\":\"\"\"\",\"\"state\"\":\"\"\"\",\"\"zip\"\":\"\"\"\"}\\'}\"',\n",
       " '4925 S Archer (Speed Camera),NEB,SWB,01/31/2014,41.80365647472294,-87.72101713004055,\"{\\'latitude\\': \\'41.80365647472294\\', \\'longitude\\': \\'-87.72101713004055\\', \\'needs_recoding\\': False, \\'human_address\\': \\'{\"\"address\"\":\"\"\"\",\"\"city\"\":\"\"\"\",\"\"state\"\":\"\"\"\",\"\"zip\"\":\"\"\"\"}\\'}\"',\n",
       " '450 N Columbus Dr (Speed Camera),SB,,05/18/2014,41.890122352505166,-87.62041639513696,\"{\\'latitude\\': \\'41.890122352505166\\', \\'longitude\\': \\'-87.62041639513696\\', \\'needs_recoding\\': False, \\'human_address\\': \\'{\"\"address\"\":\"\"\"\",\"\"city\"\":\"\"\"\",\"\"state\"\":\"\"\"\",\"\"zip\"\":\"\"\"\"}\\'}\"',\n",
       " '2900 W Ogden Ave (Speed Camera),EB,WB,10/17/2013,41.86040786445197,-87.69867209877323,\"{\\'latitude\\': \\'41.86040786445197\\', \\'longitude\\': \\'-87.69867209877323\\', \\'needs_recoding\\': False, \\'human_address\\': \\'{\"\"address\"\":\"\"\"\",\"\"city\"\":\"\"\"\",\"\"state\"\":\"\"\"\",\"\"zip\"\":\"\"\"\"}\\'}\"',\n",
       " '3217 W 55th St (Speed Camera),EB,,01/07/2015,41.79339237207923,-87.70434842139014,\"{\\'latitude\\': \\'41.79339237207923\\', \\'longitude\\': \\'-87.70434842139014\\', \\'needs_recoding\\': False, \\'human_address\\': \\'{\"\"address\"\":\"\"\"\",\"\"city\"\":\"\"\"\",\"\"state\"\":\"\"\"\",\"\"zip\"\":\"\"\"\"}\\'}\"',\n",
       " '6909 S Kedzie Ave (Speed Camera),NB,,09/06/2013,41.76773186901884,-87.70273790708362,\"{\\'latitude\\': \\'41.76773186901884\\', \\'longitude\\': \\'-87.70273790708362\\', \\'needs_recoding\\': False, \\'human_address\\': \\'{\"\"address\"\":\"\"\"\",\"\"city\"\":\"\"\"\",\"\"state\"\":\"\"\"\",\"\"zip\"\":\"\"\"\"}\\'}\"',\n",
       " '536 E Morgan Dr (Speed Camera),EB,WB,12/06/2013,41.793492645896656,-87.6118759701359,\"{\\'latitude\\': \\'41.793492645896656\\', \\'longitude\\': \\'-87.6118759701359\\', \\'needs_recoding\\': False, \\'human_address\\': \\'{\"\"address\"\":\"\"\"\",\"\"city\"\":\"\"\"\",\"\"state\"\":\"\"\"\",\"\"zip\"\":\"\"\"\"}\\'}\"',\n",
       " '3212 W 55th St (Speed Camera),WB,,01/07/2015,41.793614646148406,-87.7041703550325,\"{\\'latitude\\': \\'41.793614646148406\\', \\'longitude\\': \\'-87.7041703550325\\', \\'needs_recoding\\': False, \\'human_address\\': \\'{\"\"address\"\":\"\"\"\",\"\"city\"\":\"\"\"\",\"\"state\"\":\"\"\"\",\"\"zip\"\":\"\"\"\"}\\'}\"',\n",
       " '11153 S Vincennes (Speed Camera),SB,,01/08/2014,41.690701951255015,-87.66412238501842,\"{\\'latitude\\': \\'41.690701951255015\\', \\'longitude\\': \\'-87.66412238501842\\', \\'needs_recoding\\': False, \\'human_address\\': \\'{\"\"address\"\":\"\"\"\",\"\"city\"\":\"\"\"\",\"\"state\"\":\"\"\"\",\"\"zip\"\":\"\"\"\"}\\'}\"',\n",
       " '1117 S Pulaski Rd (Speed Camera),NB,,09/05/2014,41.867401834997956,-87.72508368792016,\"{\\'latitude\\': \\'41.867401834997956\\', \\'longitude\\': \\'-87.72508368792016\\', \\'needs_recoding\\': False, \\'human_address\\': \\'{\"\"address\"\":\"\"\"\",\"\"city\"\":\"\"\"\",\"\"state\"\":\"\"\"\",\"\"zip\"\":\"\"\"\"}\\'}\"',\n",
       " '3450 W 71ST ST (Speed Camera),EB,WB,09/06/2013,41.76439095689881,-87.70972841983624,\"{\\'latitude\\': \\'41.76439095689881\\', \\'longitude\\': \\'-87.70972841983624\\', \\'needs_recoding\\': False, \\'human_address\\': \\'{\"\"address\"\":\"\"\"\",\"\"city\"\":\"\"\"\",\"\"state\"\":\"\"\"\",\"\"zip\"\":\"\"\"\"}\\'}\"',\n",
       " '5520 S Western (Speed Camera),NB,,11/23/2013,41.792761119965434,-87.68415735542791,\"{\\'latitude\\': \\'41.792761119965434\\', \\'longitude\\': \\'-87.68415735542791\\', \\'needs_recoding\\': False, \\'human_address\\': \\'{\"\"address\"\":\"\"\"\",\"\"city\"\":\"\"\"\",\"\"state\"\":\"\"\"\",\"\"zip\"\":\"\"\"\"}\\'}\"',\n",
       " '7738 S Western (Speed Camera),SB,,12/18/2013,41.75271909284453,-87.68306095859297,\"{\\'latitude\\': \\'41.75271909284453\\', \\'longitude\\': \\'-87.68306095859297\\', \\'needs_recoding\\': False, \\'human_address\\': \\'{\"\"address\"\":\"\"\"\",\"\"city\"\":\"\"\"\",\"\"state\"\":\"\"\"\",\"\"zip\"\":\"\"\"\"}\\'}\"',\n",
       " '3230 N Milwaukee Ave (Speed Camera),NB,SB,04/08/2014,41.93969900713657,-87.72507433916897,\"{\\'latitude\\': \\'41.93969900713657\\', \\'longitude\\': \\'-87.72507433916897\\', \\'needs_recoding\\': False, \\'human_address\\': \\'{\"\"address\"\":\"\"\"\",\"\"city\"\":\"\"\"\",\"\"state\"\":\"\"\"\",\"\"zip\"\":\"\"\"\"}\\'}\"',\n",
       " '6523 N Western (Speed Camera),NB,SB,11/10/2013,42.00025951144952,-87.68980290863908,\"{\\'latitude\\': \\'42.00025951144952\\', \\'longitude\\': \\'-87.68980290863908\\', \\'needs_recoding\\': False, \\'human_address\\': \\'{\"\"address\"\":\"\"\"\",\"\"city\"\":\"\"\"\",\"\"state\"\":\"\"\"\",\"\"zip\"\":\"\"\"\"}\\'}\"',\n",
       " '5739 N Northwest Hwy (Speed Camera),NB,SB,09/09/2014,41.98611938850496,-87.7877408267013,\"{\\'latitude\\': \\'41.98611938850496\\', \\'longitude\\': \\'-87.7877408267013\\', \\'needs_recoding\\': False, \\'human_address\\': \\'{\"\"address\"\":\"\"\"\",\"\"city\"\":\"\"\"\",\"\"state\"\":\"\"\"\",\"\"zip\"\":\"\"\"\"}\\'}\"',\n",
       " '4433 N Western (Speed Camera),NB,,01/04/2014,41.96231378868856,-87.68856455418805,\"{\\'latitude\\': \\'41.96231378868856\\', \\'longitude\\': \\'-87.68856455418805\\', \\'needs_recoding\\': False, \\'human_address\\': \\'{\"\"address\"\":\"\"\"\",\"\"city\"\":\"\"\"\",\"\"state\"\":\"\"\"\",\"\"zip\"\":\"\"\"\"}\\'}\"',\n",
       " '2928 S Halsted (Speed Camera),NB,SB,01/18/2014,41.84081262592384,-87.64649261049526,\"{\\'latitude\\': \\'41.84081262592384\\', \\'longitude\\': \\'-87.64649261049526\\', \\'needs_recoding\\': False, \\'human_address\\': \\'{\"\"address\"\":\"\"\"\",\"\"city\"\":\"\"\"\",\"\"state\"\":\"\"\"\",\"\"zip\"\":\"\"\"\"}\\'}\"',\n",
       " '2712 W Irving Park  (Speed Camera),WB,,11/15/2013,41.954092657149786,-87.6965965016668,\"{\\'latitude\\': \\'41.954092657149786\\', \\'longitude\\': \\'-87.6965965016668\\', \\'needs_recoding\\': False, \\'human_address\\': \\'{\"\"address\"\":\"\"\"\",\"\"city\"\":\"\"\"\",\"\"state\"\":\"\"\"\",\"\"zip\"\":\"\"\"\"}\\'}\"',\n",
       " '6443 W Belmont (Speed Camera),EB,,03/10/2014,41.938181258548575,-87.78765548502582,\"{\\'latitude\\': \\'41.938181258548575\\', \\'longitude\\': \\'-87.78765548502582\\', \\'needs_recoding\\': False, \\'human_address\\': \\'{\"\"address\"\":\"\"\"\",\"\"city\"\":\"\"\"\",\"\"state\"\":\"\"\"\",\"\"zip\"\":\"\"\"\"}\\'}\"',\n",
       " '215 E 63rd St (Speed Camera),EB,WB,09/24/2014,41.78005698693417,-87.6197547203603,\"{\\'latitude\\': \\'41.78005698693417\\', \\'longitude\\': \\'-87.6197547203603\\', \\'needs_recoding\\': False, \\'human_address\\': \\'{\"\"address\"\":\"\"\"\",\"\"city\"\":\"\"\"\",\"\"state\"\":\"\"\"\",\"\"zip\"\":\"\"\"\"}\\'}\"',\n",
       " '7833 S Pulaski Rd (Speed Camera),NB,,02/14/2014,41.75038452958284,-87.72179453872008,\"{\\'latitude\\': \\'41.75038452958284\\', \\'longitude\\': \\'-87.72179453872008\\', \\'needs_recoding\\': False, \\'human_address\\': \\'{\"\"address\"\":\"\"\"\",\"\"city\"\":\"\"\"\",\"\"state\"\":\"\"\"\",\"\"zip\"\":\"\"\"\"}\\'}\"',\n",
       " '1142 W Irving Park (Speed Camera),EB,WB,12/06/2013,41.95454086624301,-87.65857252142276,\"{\\'latitude\\': \\'41.95454086624301\\', \\'longitude\\': \\'-87.65857252142276\\', \\'needs_recoding\\': False, \\'human_address\\': \\'{\"\"address\"\":\"\"\"\",\"\"city\"\":\"\"\"\",\"\"state\"\":\"\"\"\",\"\"zip\"\":\"\"\"\"}\\'}\"',\n",
       " '4045 W 55th (Speed Camera),EB,,02/07/2014,41.79307966774864,-87.72495665631904,\"{\\'latitude\\': \\'41.79307966774864\\', \\'longitude\\': \\'-87.72495665631904\\', \\'needs_recoding\\': False, \\'human_address\\': \\'{\"\"address\"\":\"\"\"\",\"\"city\"\":\"\"\"\",\"\"state\"\":\"\"\"\",\"\"zip\"\":\"\"\"\"}\\'}\"',\n",
       " '515 S Central Ave (Speed Camera),NB,,04/14/2014,41.873329240103914,-87.76446041521123,\"{\\'latitude\\': \\'41.873329240103914\\', \\'longitude\\': \\'-87.76446041521123\\', \\'needs_recoding\\': False, \\'human_address\\': \\'{\"\"address\"\":\"\"\"\",\"\"city\"\":\"\"\"\",\"\"state\"\":\"\"\"\",\"\"zip\"\":\"\"\"\"}\\'}\"',\n",
       " '5532 S Kedzie Ave (Speed Camera),SB,NB,01/07/2015,41.79251999694851,-87.70367640326066,\"{\\'latitude\\': \\'41.79251999694851\\', \\'longitude\\': \\'-87.70367640326066\\', \\'needs_recoding\\': False, \\'human_address\\': \\'{\"\"address\"\":\"\"\"\",\"\"city\"\":\"\"\"\",\"\"state\"\":\"\"\"\",\"\"zip\"\":\"\"\"\"}\\'}\"',\n",
       " '4123 N Central Ave (Speed Camera),NB,SB,03/31/2014,41.954128259602165,-87.76688350223966,\"{\\'latitude\\': \\'41.954128259602165\\', \\'longitude\\': \\'-87.76688350223966\\', \\'needs_recoding\\': False, \\'human_address\\': \\'{\"\"address\"\":\"\"\"\",\"\"city\"\":\"\"\"\",\"\"state\"\":\"\"\"\",\"\"zip\"\":\"\"\"\"}\\'}\"',\n",
       " '3809 W Belmont ave  (Speed Camera),EB,,04/08/2014,41.939040255975605,-87.72264591078833,\"{\\'latitude\\': \\'41.939040255975605\\', \\'longitude\\': \\'-87.72264591078833\\', \\'needs_recoding\\': False, \\'human_address\\': \\'{\"\"address\"\":\"\"\"\",\"\"city\"\":\"\"\"\",\"\"state\"\":\"\"\"\",\"\"zip\"\":\"\"\"\"}\\'}\"',\n",
       " '2440 W 51st St (Speed Camera),WB,,02/24/2014,41.80123574797641,-87.68589577919322,\"{\\'latitude\\': \\'41.80123574797641\\', \\'longitude\\': \\'-87.68589577919322\\', \\'needs_recoding\\': False, \\'human_address\\': \\'{\"\"address\"\":\"\"\"\",\"\"city\"\":\"\"\"\",\"\"state\"\":\"\"\"\",\"\"zip\"\":\"\"\"\"}\\'}\"',\n",
       " '324 S Kedzie Ave (Speed Camera),NB,SB,03/17/2014,41.87659894232968,-87.70614267856668,\"{\\'latitude\\': \\'41.87659894232968\\', \\'longitude\\': \\'-87.70614267856668\\', \\'needs_recoding\\': False, \\'human_address\\': \\'{\"\"address\"\":\"\"\"\",\"\"city\"\":\"\"\"\",\"\"state\"\":\"\"\"\",\"\"zip\"\":\"\"\"\"}\\'}\"',\n",
       " '3521 N Western (Speed Camera),NB,,01/31/2014,41.945574090874274,-87.68807785258112,\"{\\'latitude\\': \\'41.945574090874274\\', \\'longitude\\': \\'-87.68807785258112\\', \\'needs_recoding\\': False, \\'human_address\\': \\'{\"\"address\"\":\"\"\"\",\"\"city\"\":\"\"\"\",\"\"state\"\":\"\"\"\",\"\"zip\"\":\"\"\"\"}\\'}\"',\n",
       " '3034 W Foster Ave (Speed Camera),EB,WB,10/05/2013,41.9758840401294,-87.70480112338926,\"{\\'latitude\\': \\'41.9758840401294\\', \\'longitude\\': \\'-87.70480112338926\\', \\'needs_recoding\\': False, \\'human_address\\': \\'{\"\"address\"\":\"\"\"\",\"\"city\"\":\"\"\"\",\"\"state\"\":\"\"\"\",\"\"zip\"\":\"\"\"\"}\\'}\"',\n",
       " '2549 W Addison (Speed Camera),EB,WB,01/31/2014,41.94661819673533,-87.69054929251513,\"{\\'latitude\\': \\'41.94661819673533\\', \\'longitude\\': \\'-87.69054929251513\\', \\'needs_recoding\\': False, \\'human_address\\': \\'{\"\"address\"\":\"\"\"\",\"\"city\"\":\"\"\"\",\"\"state\"\":\"\"\"\",\"\"zip\"\":\"\"\"\"}\\'}\"',\n",
       " '4040 W 55th (Speed Camera),WB,,02/07/2014,41.79330051203649,-87.72479036232271,\"{\\'latitude\\': \\'41.79330051203649\\', \\'longitude\\': \\'-87.72479036232271\\', \\'needs_recoding\\': False, \\'human_address\\': \\'{\"\"address\"\":\"\"\"\",\"\"city\"\":\"\"\"\",\"\"state\"\":\"\"\"\",\"\"zip\"\":\"\"\"\"}\\'}\"',\n",
       " '341 W 76th St (Speed Camera),EB,,04/30/2014,41.756158269344546,-87.6335862634599,\"{\\'latitude\\': \\'41.756158269344546\\', \\'longitude\\': \\'-87.6335862634599\\', \\'needs_recoding\\': False, \\'human_address\\': \\'{\"\"address\"\":\"\"\"\",\"\"city\"\":\"\"\"\",\"\"state\"\":\"\"\"\",\"\"zip\"\":\"\"\"\"}\\'}\"',\n",
       " '4436 N Western (Speed Camera),SB,,01/04/2014,41.9624218495406,-87.68886227502836,\"{\\'latitude\\': \\'41.9624218495406\\', \\'longitude\\': \\'-87.68886227502836\\', \\'needs_recoding\\': False, \\'human_address\\': \\'{\"\"address\"\":\"\"\"\",\"\"city\"\":\"\"\"\",\"\"state\"\":\"\"\"\",\"\"zip\"\":\"\"\"\"}\\'}\"',\n",
       " '2416 W 103rd St (Speed Camera),WB,,10/17/2014,41.70648720051648,-87.68239105927896,\"{\\'latitude\\': \\'41.70648720051648\\', \\'longitude\\': \\'-87.68239105927896\\', \\'needs_recoding\\': False, \\'human_address\\': \\'{\"\"address\"\":\"\"\"\",\"\"city\"\":\"\"\"\",\"\"state\"\":\"\"\"\",\"\"zip\"\":\"\"\"\"}\\'}\"',\n",
       " '346 W 76th St (Speed Camera),WB,,04/30/2014,41.7563743554102,-87.6338165847716,\"{\\'latitude\\': \\'41.7563743554102\\', \\'longitude\\': \\'-87.6338165847716\\', \\'needs_recoding\\': False, \\'human_address\\': \\'{\"\"address\"\":\"\"\"\",\"\"city\"\":\"\"\"\",\"\"state\"\":\"\"\"\",\"\"zip\"\":\"\"\"\"}\\'}\"',\n",
       " '7422 S Jeffery (Speed Camera),SB,NB,01/25/2014,41.759441472271405,-87.57630061252594,\"{\\'latitude\\': \\'41.759441472271405\\', \\'longitude\\': \\'-87.57630061252594\\', \\'needs_recoding\\': False, \\'human_address\\': \\'{\"\"address\"\":\"\"\"\",\"\"city\"\":\"\"\"\",\"\"state\"\":\"\"\"\",\"\"zip\"\":\"\"\"\"}\\'}\"',\n",
       " '4831 W Lawrence Ave (Speed Camera),EB,WB,10/11/2014,41.96790232791309,-87.74907897663441,\"{\\'latitude\\': \\'41.96790232791309\\', \\'longitude\\': \\'-87.74907897663441\\', \\'needs_recoding\\': False, \\'human_address\\': \\'{\"\"address\"\":\"\"\"\",\"\"city\"\":\"\"\"\",\"\"state\"\":\"\"\"\",\"\"zip\"\":\"\"\"\"}\\'}\"',\n",
       " '6247 W Fullerton (Speed Camera),EB,,12/21/2013,41.9236145831186,-87.78247948955652,\"{\\'latitude\\': \\'41.9236145831186\\', \\'longitude\\': \\'-87.78247948955652\\', \\'needs_recoding\\': False, \\'human_address\\': \\'{\"\"address\"\":\"\"\"\",\"\"city\"\":\"\"\"\",\"\"state\"\":\"\"\"\",\"\"zip\"\":\"\"\"\"}\\'}\"',\n",
       " '4429 N Broadway (Speed Camera),,NB,11/23/2013,41.962596548691735,-87.65551767517252,\"{\\'latitude\\': \\'41.962596548691735\\', \\'longitude\\': \\'-87.65551767517252\\', \\'needs_recoding\\': False, \\'human_address\\': \\'{\"\"address\"\":\"\"\"\",\"\"city\"\":\"\"\"\",\"\"state\"\":\"\"\"\",\"\"zip\"\":\"\"\"\"}\\'}\"',\n",
       " '6510 W Bryn Mawr Ave (Speed Camera),WB,,09/05/2014,41.98299452666102,-87.79083208818419,\"{\\'latitude\\': \\'41.98299452666102\\', \\'longitude\\': \\'-87.79083208818419\\', \\'needs_recoding\\': False, \\'human_address\\': \\'{\"\"address\"\":\"\"\"\",\"\"city\"\":\"\"\"\",\"\"state\"\":\"\"\"\",\"\"zip\"\":\"\"\"\"}\\'}\"',\n",
       " '2912 W Roosevelt Rd (Speed Camera),WB,,10/05/2013,41.86658528313424,-87.69896237494204,\"{\\'latitude\\': \\'41.86658528313424\\', \\'longitude\\': \\'-87.69896237494204\\', \\'needs_recoding\\': False, \\'human_address\\': \\'{\"\"address\"\":\"\"\"\",\"\"city\"\":\"\"\"\",\"\"state\"\":\"\"\"\",\"\"zip\"\":\"\"\"\"}\\'}\"',\n",
       " '1638 N Ashland (Speed Camera),SB,,03/03/2014,41.91179204452259,-87.66787045896686,\"{\\'latitude\\': \\'41.91179204452259\\', \\'longitude\\': \\'-87.66787045896686\\', \\'needs_recoding\\': False, \\'human_address\\': \\'{\"\"address\"\":\"\"\"\",\"\"city\"\":\"\"\"\",\"\"state\"\":\"\"\"\",\"\"zip\"\":\"\"\"\"}\\'}\"',\n",
       " '5440 W Grand (Speed Camera),EB,WB,12/12/2013,41.91823126606235,-87.7623370579504,\"{\\'latitude\\': \\'41.91823126606235\\', \\'longitude\\': \\'-87.7623370579504\\', \\'needs_recoding\\': False, \\'human_address\\': \\'{\"\"address\"\":\"\"\"\",\"\"city\"\":\"\"\"\",\"\"state\"\":\"\"\"\",\"\"zip\"\":\"\"\"\"}\\'}\"',\n",
       " '1111 N Humboldt Blvd (Speed Camera),SB,NB,11/19/2013,41.901430911774796,-87.70212117023745,\"{\\'latitude\\': \\'41.901430911774796\\', \\'longitude\\': \\'-87.70212117023745\\', \\'needs_recoding\\': False, \\'human_address\\': \\'{\"\"address\"\":\"\"\"\",\"\"city\"\":\"\"\"\",\"\"state\"\":\"\"\"\",\"\"zip\"\":\"\"\"\"}\\'}\"',\n",
       " '14 W Chicago Ave (Speed Camera),EB,,04/29/2014,41.89677912747405,-87.6287812485988,\"{\\'latitude\\': \\'41.89677912747405\\', \\'longitude\\': \\'-87.6287812485988\\', \\'needs_recoding\\': False, \\'human_address\\': \\'{\"\"address\"\":\"\"\"\",\"\"city\"\":\"\"\"\",\"\"state\"\":\"\"\"\",\"\"zip\"\":\"\"\"\"}\\'}\"',\n",
       " '2550 W 79th (Speed Camera),WB,,12/18/2013,41.75021259302275,-87.6874210628529,\"{\\'latitude\\': \\'41.75021259302275\\', \\'longitude\\': \\'-87.6874210628529\\', \\'needs_recoding\\': False, \\'human_address\\': \\'{\"\"address\"\":\"\"\"\",\"\"city\"\":\"\"\"\",\"\"state\"\":\"\"\"\",\"\"zip\"\":\"\"\"\"}\\'}\"',\n",
       " '5428 S Pulaski (Speed Camera),SB,,02/07/2014,41.7941545839503,-87.72333321258739,\"{\\'latitude\\': \\'41.7941545839503\\', \\'longitude\\': \\'-87.72333321258739\\', \\'needs_recoding\\': False, \\'human_address\\': \\'{\"\"address\"\":\"\"\"\",\"\"city\"\":\"\"\"\",\"\"state\"\":\"\"\"\",\"\"zip\"\":\"\"\"\"}\\'}\"',\n",
       " '4620 W Belmont (Speed Camera),EB,WB,03/10/2014,41.938988390759555,-87.74312142256439,\"{\\'latitude\\': \\'41.938988390759555\\', \\'longitude\\': \\'-87.74312142256439\\', \\'needs_recoding\\': False, \\'human_address\\': \\'{\"\"address\"\":\"\"\"\",\"\"city\"\":\"\"\"\",\"\"state\"\":\"\"\"\",\"\"zip\"\":\"\"\"\"}\\'}\"',\n",
       " '18 W Superior St (Speed Camera),EB,,03/28/2014,41.89577902516787,-87.62892520294106,\"{\\'latitude\\': \\'41.89577902516787\\', \\'longitude\\': \\'-87.62892520294106\\', \\'needs_recoding\\': False, \\'human_address\\': \\'{\"\"address\"\":\"\"\"\",\"\"city\"\":\"\"\"\",\"\"state\"\":\"\"\"\",\"\"zip\"\":\"\"\"\"}\\'}\"',\n",
       " '6330 S Martin Luther King Dr (Speed Camera),NB,SB,09/24/2014,41.779286,-87.616054,\"{\\'latitude\\': \\'41.779286\\', \\'longitude\\': \\'-87.616054\\', \\'needs_recoding\\': False, \\'human_address\\': \\'{\"\"address\"\":\"\"\"\",\"\"city\"\":\"\"\"\",\"\"state\"\":\"\"\"\",\"\"zip\"\":\"\"\"\"}\\'}\"',\n",
       " '140 N Ashland (Speed Camera),SB,,02/07/2014,41.88451419700416,-87.66704209415728,\"{\\'latitude\\': \\'41.88451419700416\\', \\'longitude\\': \\'-87.66704209415728\\', \\'needs_recoding\\': False, \\'human_address\\': \\'{\"\"address\"\":\"\"\"\",\"\"city\"\":\"\"\"\",\"\"state\"\":\"\"\"\",\"\"zip\"\":\"\"\"\"}\\'}\"',\n",
       " '11144 S Vincennes (Speed Camera),NB,,01/08/2014,41.69102545584918,-87.6642476900556,\"{\\'latitude\\': \\'41.69102545584918\\', \\'longitude\\': \\'-87.6642476900556\\', \\'needs_recoding\\': False, \\'human_address\\': \\'{\"\"address\"\":\"\"\"\",\"\"city\"\":\"\"\"\",\"\"state\"\":\"\"\"\",\"\"zip\"\":\"\"\"\"}\\'}\"',\n",
       " '141 N Ashland (Speed Camera),NB,,02/07/2014,41.88451740794813,-87.66674834697315,\"{\\'latitude\\': \\'41.88451740794813\\', \\'longitude\\': \\'-87.66674834697315\\', \\'needs_recoding\\': False, \\'human_address\\': \\'{\"\"address\"\":\"\"\"\",\"\"city\"\":\"\"\"\",\"\"state\"\":\"\"\"\",\"\"zip\"\":\"\"\"\"}\\'}\"',\n",
       " '5454 W Irving Park (Speed Camera),EB,WB,11/10/2013,41.95332954454448,-87.76426726425451,\"{\\'latitude\\': \\'41.95332954454448\\', \\'longitude\\': \\'-87.76426726425451\\', \\'needs_recoding\\': False, \\'human_address\\': \\'{\"\"address\"\":\"\"\"\",\"\"city\"\":\"\"\"\",\"\"state\"\":\"\"\"\",\"\"zip\"\":\"\"\"\"}\\'}\"',\n",
       " '2335 W Cermak (Speed Camera),EB,,03/03/2014,41.85192952334165,-87.68464766256305,\"{\\'latitude\\': \\'41.85192952334165\\', \\'longitude\\': \\'-87.68464766256305\\', \\'needs_recoding\\': False, \\'human_address\\': \\'{\"\"address\"\":\"\"\"\",\"\"city\"\":\"\"\"\",\"\"state\"\":\"\"\"\",\"\"zip\"\":\"\"\"\"}\\'}\"',\n",
       " '2080 W Pershing Rd (Speed Camera),EB,WB,09/07/2013,41.82300132296577,-87.67514359128938,\"{\\'latitude\\': \\'41.82300132296577\\', \\'longitude\\': \\'-87.67514359128938\\', \\'needs_recoding\\': False, \\'human_address\\': \\'{\"\"address\"\":\"\"\"\",\"\"city\"\":\"\"\"\",\"\"state\"\":\"\"\"\",\"\"zip\"\":\"\"\"\"}\\'}\"',\n",
       " '4674 W Peterson Ave (Speed Camera),EB,,03/17/2014,41.99004267366519,-87.7453343185986,\"{\\'latitude\\': \\'41.99004267366519\\', \\'longitude\\': \\'-87.7453343185986\\', \\'needs_recoding\\': False, \\'human_address\\': \\'{\"\"address\"\":\"\"\"\",\"\"city\"\":\"\"\"\",\"\"state\"\":\"\"\"\",\"\"zip\"\":\"\"\"\"}\\'}\"',\n",
       " '3137 W Peterson (Speed Camera),EB,WB,01/03/2014,41.9902819135942,-87.70824462568225,\"{\\'latitude\\': \\'41.9902819135942\\', \\'longitude\\': \\'-87.70824462568225\\', \\'needs_recoding\\': False, \\'human_address\\': \\'{\"\"address\"\":\"\"\"\",\"\"city\"\":\"\"\"\",\"\"state\"\":\"\"\"\",\"\"zip\"\":\"\"\"\"}\\'}\"',\n",
       " '5885 N Ridge Ave (Speed Camera),NB,SB,03/18/2014,41.988904472466494,-87.66845572473223,\"{\\'latitude\\': \\'41.988904472466494\\', \\'longitude\\': \\'-87.66845572473223\\', \\'needs_recoding\\': False, \\'human_address\\': \\'{\"\"address\"\":\"\"\"\",\"\"city\"\":\"\"\"\",\"\"state\"\":\"\"\"\",\"\"zip\"\":\"\"\"\"}\\'}\"',\n",
       " '10318 S Indianapolis (Speed Camera),NB,SB,12/24/2013,41.70757690291348,-87.52984826112849,\"{\\'latitude\\': \\'41.70757690291348\\', \\'longitude\\': \\'-87.52984826112849\\', \\'needs_recoding\\': False, \\'human_address\\': \\'{\"\"address\"\":\"\"\"\",\"\"city\"\":\"\"\"\",\"\"state\"\":\"\"\"\",\"\"zip\"\":\"\"\"\"}\\'}\"',\n",
       " '3115 N Narragansett (Speed Camera),NB,,03/10/2014,41.93695084197675,-87.78574089058974,\"{\\'latitude\\': \\'41.93695084197675\\', \\'longitude\\': \\'-87.78574089058974\\', \\'needs_recoding\\': False, \\'human_address\\': \\'{\"\"address\"\":\"\"\"\",\"\"city\"\":\"\"\"\",\"\"state\"\":\"\"\"\",\"\"zip\"\":\"\"\"\"}\\'}\"',\n",
       " '1334 W Garfield Blvd (Speed Camera),WB,,03/24/2014,41.79422646635146,-87.65870999891658,\"{\\'latitude\\': \\'41.79422646635146\\', \\'longitude\\': \\'-87.65870999891658\\', \\'needs_recoding\\': False, \\'human_address\\': \\'{\"\"address\"\":\"\"\"\",\"\"city\"\":\"\"\"\",\"\"state\"\":\"\"\"\",\"\"zip\"\":\"\"\"\"}\\'}\"',\n",
       " '62 E 95th St (Speed Camera),EB,,10/12/2013,41.72187849819265,-87.62135432849777,\"{\\'latitude\\': \\'41.72187849819265\\', \\'longitude\\': \\'-87.62135432849777\\', \\'needs_recoding\\': False, \\'human_address\\': \\'{\"\"address\"\":\"\"\"\",\"\"city\"\":\"\"\"\",\"\"state\"\":\"\"\"\",\"\"zip\"\":\"\"\"\"}\\'}\"',\n",
       " '2115 S Western Ave (Speed Camera),NB,,04/25/2014,41.85338493884992,-87.68552968203949,\"{\\'latitude\\': \\'41.85338493884992\\', \\'longitude\\': \\'-87.68552968203949\\', \\'needs_recoding\\': False, \\'human_address\\': \\'{\"\"address\"\":\"\"\"\",\"\"city\"\":\"\"\"\",\"\"state\"\":\"\"\"\",\"\"zip\"\":\"\"\"\"}\\'}\"',\n",
       " '5471 W Higgins (Speed Camera),EB,WB,02/14/2014,41.96924714863934,-87.76401945149458,\"{\\'latitude\\': \\'41.96924714863934\\', \\'longitude\\': \\'-87.76401945149458\\', \\'needs_recoding\\': False, \\'human_address\\': \\'{\"\"address\"\":\"\"\"\",\"\"city\"\":\"\"\"\",\"\"state\"\":\"\"\"\",\"\"zip\"\":\"\"\"\"}\\'}\"',\n",
       " '5816 W Jackson (Speed Camera),EB,WB,11/06/2013,41.87718940463045,-87.7703695017756,\"{\\'latitude\\': \\'41.87718940463045\\', \\'longitude\\': \\'-87.7703695017756\\', \\'needs_recoding\\': False, \\'human_address\\': \\'{\"\"address\"\":\"\"\"\",\"\"city\"\":\"\"\"\",\"\"state\"\":\"\"\"\",\"\"zip\"\":\"\"\"\"}\\'}\"',\n",
       " '2721 W Montrose (Speed Camera),EB,WB,11/15/2013,41.96114938287925,-87.69696403378589,\"{\\'latitude\\': \\'41.96114938287925\\', \\'longitude\\': \\'-87.69696403378589\\', \\'needs_recoding\\': False, \\'human_address\\': \\'{\"\"address\"\":\"\"\"\",\"\"city\"\":\"\"\"\",\"\"state\"\":\"\"\"\",\"\"zip\"\":\"\"\"\"}\\'}\"',\n",
       " '3646 W Madison St (Speed Camera),EB,WB,09/10/2013,41.88093818643283,-87.71789844857646,\"{\\'latitude\\': \\'41.88093818643283\\', \\'longitude\\': \\'-87.71789844857646\\', \\'needs_recoding\\': False, \\'human_address\\': \\'{\"\"address\"\":\"\"\"\",\"\"city\"\":\"\"\"\",\"\"state\"\":\"\"\"\",\"\"zip\"\":\"\"\"\"}\\'}\"',\n",
       " '2705 W Irving Park (Speed Camera),EB,,11/15/2013,41.95387526461699,-87.69620408862693,\"{\\'latitude\\': \\'41.95387526461699\\', \\'longitude\\': \\'-87.69620408862693\\', \\'needs_recoding\\': False, \\'human_address\\': \\'{\"\"address\"\":\"\"\"\",\"\"city\"\":\"\"\"\",\"\"state\"\":\"\"\"\",\"\"zip\"\":\"\"\"\"}\\'}\"',\n",
       " '732 N Pulaski Rd (Speed Camera),NB,SB,03/24/2014,41.89450330881178,-87.72620452246953,\"{\\'latitude\\': \\'41.89450330881178\\', \\'longitude\\': \\'-87.72620452246953\\', \\'needs_recoding\\': False, \\'human_address\\': \\'{\"\"address\"\":\"\"\"\",\"\"city\"\":\"\"\"\",\"\"state\"\":\"\"\"\",\"\"zip\"\":\"\"\"\"}\\'}\"',\n",
       " '3047 W Jackson Blvd (Speed Camera),EB,WB,03/17/2014,41.877242773826396,-87.7029526885659,\"{\\'latitude\\': \\'41.877242773826396\\', \\'longitude\\': \\'-87.7029526885659\\', \\'needs_recoding\\': False, \\'human_address\\': \\'{\"\"address\"\":\"\"\"\",\"\"city\"\":\"\"\"\",\"\"state\"\":\"\"\"\",\"\"zip\"\":\"\"\"\"}\\'}\"',\n",
       " '630 State St (Speed Camera),SB,,11/25/2013,41.87382420497741,-87.62774075943143,\"{\\'latitude\\': \\'41.87382420497741\\', \\'longitude\\': \\'-87.62774075943143\\', \\'needs_recoding\\': False, \\'human_address\\': \\'{\"\"address\"\":\"\"\"\",\"\"city\"\":\"\"\"\",\"\"state\"\":\"\"\"\",\"\"zip\"\":\"\"\"\"}\\'}\"',\n",
       " '1229 Western (Speed Camera),NB,,02/24/2014,41.90387807933294,-87.68690274176198,\"{\\'latitude\\': \\'41.90387807933294\\', \\'longitude\\': \\'-87.68690274176198\\', \\'needs_recoding\\': False, \\'human_address\\': \\'{\"\"address\"\":\"\"\"\",\"\"city\"\":\"\"\"\",\"\"state\"\":\"\"\"\",\"\"zip\"\":\"\"\"\"}\\'}\"',\n",
       " '1635 N Ashland (Speed Camera),NB,,03/03/2014,41.91168401599584,-87.66757342998466,\"{\\'latitude\\': \\'41.91168401599584\\', \\'longitude\\': \\'-87.66757342998466\\', \\'needs_recoding\\': False, \\'human_address\\': \\'{\"\"address\"\":\"\"\"\",\"\"city\"\":\"\"\"\",\"\"state\"\":\"\"\"\",\"\"zip\"\":\"\"\"\"}\\'}\"',\n",
       " '5030 S Pulaski (Speed Camera),SB,,01/31/2014,41.80140191299459,-87.72354459803559,\"{\\'latitude\\': \\'41.80140191299459\\', \\'longitude\\': \\'-87.72354459803559\\', \\'needs_recoding\\': False, \\'human_address\\': \\'{\"\"address\"\":\"\"\"\",\"\"city\"\":\"\"\"\",\"\"state\"\":\"\"\"\",\"\"zip\"\":\"\"\"\"}\\'}\"',\n",
       " '3111 N Ashland Ave (Speed Camera),NB,,09/26/2014,41.938253305553516,-87.66846320182256,\"{\\'latitude\\': \\'41.938253305553516\\', \\'longitude\\': \\'-87.66846320182256\\', \\'needs_recoding\\': False, \\'human_address\\': \\'{\"\"address\"\":\"\"\"\",\"\"city\"\":\"\"\"\",\"\"state\"\":\"\"\"\",\"\"zip\"\":\"\"\"\"}\\'}\"',\n",
       " '2432 N Ashland (Speed Camera),NB,,01/25/2014,41.92620790295943,-87.66832897708693,\"{\\'latitude\\': \\'41.92620790295943\\', \\'longitude\\': \\'-87.66832897708693\\', \\'needs_recoding\\': False, \\'human_address\\': \\'{\"\"address\"\":\"\"\"\",\"\"city\"\":\"\"\"\",\"\"state\"\":\"\"\"\",\"\"zip\"\":\"\"\"\"}\\'}\"',\n",
       " '4707 W Peterson Ave (Speed Camera),WB,,03/17/2014,41.98980766908236,-87.74622580384673,\"{\\'latitude\\': \\'41.98980766908236\\', \\'longitude\\': \\'-87.74622580384673\\', \\'needs_recoding\\': False, \\'human_address\\': \\'{\"\"address\"\":\"\"\"\",\"\"city\"\":\"\"\"\",\"\"state\"\":\"\"\"\",\"\"zip\"\":\"\"\"\"}\\'}\"',\n",
       " '3851 W 79th St (Speed Camera),WB,,02/10/2014,41.74937090787529,-87.71910467544157,\"{\\'latitude\\': \\'41.74937090787529\\', \\'longitude\\': \\'-87.71910467544157\\', \\'needs_recoding\\': False, \\'human_address\\': \\'{\"\"address\"\":\"\"\"\",\"\"city\"\":\"\"\"\",\"\"state\"\":\"\"\"\",\"\"zip\"\":\"\"\"\"}\\'}\"',\n",
       " '2109 E 87th St (Speed Camera),EB,WB,09/18/2014,41.7369870911534,-87.57290117806258,\"{\\'latitude\\': \\'41.7369870911534\\', \\'longitude\\': \\'-87.57290117806258\\', \\'needs_recoding\\': False, \\'human_address\\': \\'{\"\"address\"\":\"\"\"\",\"\"city\"\":\"\"\"\",\"\"state\"\":\"\"\"\",\"\"zip\"\":\"\"\"\"}\\'}\"',\n",
       " '6250 W Fullerton (Speed Camera),WB,,12/21/2013,41.92383169923362,-87.78264224184598,\"{\\'latitude\\': \\'41.92383169923362\\', \\'longitude\\': \\'-87.78264224184598\\', \\'needs_recoding\\': False, \\'human_address\\': \\'{\"\"address\"\":\"\"\"\",\"\"city\"\":\"\"\"\",\"\"state\"\":\"\"\"\",\"\"zip\"\":\"\"\"\"}\\'}\"',\n",
       " '3810 W Belmont Ave (Speed Camera),WB,,04/08/2014,41.93925823071868,-87.72278142793657,\"{\\'latitude\\': \\'41.93925823071868\\', \\'longitude\\': \\'-87.72278142793657\\', \\'needs_recoding\\': False, \\'human_address\\': \\'{\"\"address\"\":\"\"\"\",\"\"city\"\":\"\"\"\",\"\"state\"\":\"\"\"\",\"\"zip\"\":\"\"\"\"}\\'}\"',\n",
       " '8345 S Ashland Ave (Speed Camera),NB,,10/11/2014,41.741741651401504,-87.66307332925098,\"{\\'latitude\\': \\'41.741741651401504\\', \\'longitude\\': \\'-87.66307332925098\\', \\'needs_recoding\\': False, \\'human_address\\': \\'{\"\"address\"\":\"\"\"\",\"\"city\"\":\"\"\"\",\"\"state\"\":\"\"\"\",\"\"zip\"\":\"\"\"\"}\\'}\"',\n",
       " '3655 W Jackson Blvd (Speed Camera),EB,WB,09/10/2013,41.87707082846323,-87.71816831641307,\"{\\'latitude\\': \\'41.87707082846323\\', \\'longitude\\': \\'-87.71816831641307\\', \\'needs_recoding\\': False, \\'human_address\\': \\'{\"\"address\"\":\"\"\"\",\"\"city\"\":\"\"\"\",\"\"state\"\":\"\"\"\",\"\"zip\"\":\"\"\"\"}\\'}\"',\n",
       " '3116 N Narragansett (Speed Camera),SB,,03/10/2014,41.93700435024341,-87.78603672187927,\"{\\'latitude\\': \\'41.93700435024341\\', \\'longitude\\': \\'-87.78603672187927\\', \\'needs_recoding\\': False, \\'human_address\\': \\'{\"\"address\"\":\"\"\"\",\"\"city\"\":\"\"\"\",\"\"state\"\":\"\"\"\",\"\"zip\"\":\"\"\"\"}\\'}\"',\n",
       " '4843 W Fullerton (Speed Camera),EB,WB,01/13/2014,41.92410632982652,-87.74802266359677,\"{\\'latitude\\': \\'41.92410632982652\\', \\'longitude\\': \\'-87.74802266359677\\', \\'needs_recoding\\': False, \\'human_address\\': \\'{\"\"address\"\":\"\"\"\",\"\"city\"\":\"\"\"\",\"\"state\"\":\"\"\"\",\"\"zip\"\":\"\"\"\"}\\'}\"',\n",
       " '5446 W Fullerton (Speed Camera),WB,,12/12/2013,41.92412849125162,-87.76299399881007,\"{\\'latitude\\': \\'41.92412849125162\\', \\'longitude\\': \\'-87.76299399881007\\', \\'needs_recoding\\': False, \\'human_address\\': \\'{\"\"address\"\":\"\"\"\",\"\"city\"\":\"\"\"\",\"\"state\"\":\"\"\"\",\"\"zip\"\":\"\"\"\"}\\'}\"',\n",
       " '5509 W Fullerton (Speed Camera),EB,,12/12/2013,41.92389747217995,-87.76390557836874,\"{\\'latitude\\': \\'41.92389747217995\\', \\'longitude\\': \\'-87.76390557836874\\', \\'needs_recoding\\': False, \\'human_address\\': \\'{\"\"address\"\":\"\"\"\",\"\"city\"\":\"\"\"\",\"\"state\"\":\"\"\"\",\"\"zip\"\":\"\"\"\"}\\'}\"',\n",
       " '445 W 127th St (Speed Camera),EB,WB,10/17/2013,41.66317117223548,-87.63373364696125,\"{\\'latitude\\': \\'41.66317117223548\\', \\'longitude\\': \\'-87.63373364696125\\', \\'needs_recoding\\': False, \\'human_address\\': \\'{\"\"address\"\":\"\"\"\",\"\"city\"\":\"\"\"\",\"\"state\"\":\"\"\"\",\"\"zip\"\":\"\"\"\"}\\'}\"',\n",
       " '57 E 95th St (Speed Camera),WB,,10/12/2013,41.72165713317433,-87.62146289865515,\"{\\'latitude\\': \\'41.72165713317433\\', \\'longitude\\': \\'-87.62146289865515\\', \\'needs_recoding\\': False, \\'human_address\\': \\'{\"\"address\"\":\"\"\"\",\"\"city\"\":\"\"\"\",\"\"state\"\":\"\"\"\",\"\"zip\"\":\"\"\"\"}\\'}\"',\n",
       " '4446 N Broadway (Speed Camera),SB,,11/23/2013,41.96288063517309,-87.6560244499908,\"{\\'latitude\\': \\'41.96288063517309\\', \\'longitude\\': \\'-87.6560244499908\\', \\'needs_recoding\\': False, \\'human_address\\': \\'{\"\"address\"\":\"\"\"\",\"\"city\"\":\"\"\"\",\"\"state\"\":\"\"\"\",\"\"zip\"\":\"\"\"\"}\\'}\"',\n",
       " '2513 W 55th St (Speed Camera),EB,WB,01/18/2014,41.79370224937009,-87.68724427195639,\"{\\'latitude\\': \\'41.79370224937009\\', \\'longitude\\': \\'-87.68724427195639\\', \\'needs_recoding\\': False, \\'human_address\\': \\'{\"\"address\"\":\"\"\"\",\"\"city\"\":\"\"\"\",\"\"state\"\":\"\"\"\",\"\"zip\"\":\"\"\"\"}\\'}\"',\n",
       " '3843 S Western Blvd (Speed Camera),NB,SB,09/07/2013,41.82353114733556,-87.6841140261617,\"{\\'latitude\\': \\'41.82353114733556\\', \\'longitude\\': \\'-87.6841140261617\\', \\'needs_recoding\\': False, \\'human_address\\': \\'{\"\"address\"\":\"\"\"\",\"\"city\"\":\"\"\"\",\"\"state\"\":\"\"\"\",\"\"zip\"\":\"\"\"\"}\\'}\"',\n",
       " '4042 W Roosevelt Rd (Speed Camera),EB,WB,09/09/2014,41.866257378192785,-87.72687882014701,\"{\\'latitude\\': \\'41.866257378192785\\', \\'longitude\\': \\'-87.72687882014701\\', \\'needs_recoding\\': False, \\'human_address\\': \\'{\"\"address\"\":\"\"\"\",\"\"city\"\":\"\"\"\",\"\"state\"\":\"\"\"\",\"\"zip\"\":\"\"\"\"}\\'}\"',\n",
       " '4929 S Pulaski (Speed Camera),NB,,01/31/2014,41.80326489471,-87.72330350914287,\"{\\'latitude\\': \\'41.80326489471\\', \\'longitude\\': \\'-87.72330350914287\\', \\'needs_recoding\\': False, \\'human_address\\': \\'{\"\"address\"\":\"\"\"\",\"\"city\"\":\"\"\"\",\"\"state\"\":\"\"\"\",\"\"zip\"\":\"\"\"\"}\\'}\"',\n",
       " '3130 N Ashland Ave (Speed Camera),EB,,09/26/2014,41.93880546751142,-87.66877877931208,\"{\\'latitude\\': \\'41.93880546751142\\', \\'longitude\\': \\'-87.66877877931208\\', \\'needs_recoding\\': False, \\'human_address\\': \\'{\"\"address\"\":\"\"\"\",\"\"city\"\":\"\"\"\",\"\"state\"\":\"\"\"\",\"\"zip\"\":\"\"\"\"}\\'}\"',\n",
       " '1901 E 75th St (Speed Camera),EB,WB,04/30/2014,41.758740770124234,-87.57851859043261,\"{\\'latitude\\': \\'41.758740770124234\\', \\'longitude\\': \\'-87.57851859043261\\', \\'needs_recoding\\': False, \\'human_address\\': \\'{\"\"address\"\":\"\"\"\",\"\"city\"\":\"\"\"\",\"\"state\"\":\"\"\"\",\"\"zip\"\":\"\"\"\"}\\'}\"',\n",
       " '4124 W Foster Ave (Speed Camera),EB,WB,08/26/2013,41.975501,-87.73166979484374,\"{\\'latitude\\': \\'41.975501\\', \\'longitude\\': \\'-87.73166979484374\\', \\'needs_recoding\\': False, \\'human_address\\': \\'{\"\"address\"\":\"\"\"\",\"\"city\"\":\"\"\"\",\"\"state\"\":\"\"\"\",\"\"zip\"\":\"\"\"\"}\\'}\"',\n",
       " '8318 S Ashland Ave (Speed Camera),SB,,10/11/2014,41.74247385456547,-87.66338547998558,\"{\\'latitude\\': \\'41.74247385456547\\', \\'longitude\\': \\'-87.66338547998558\\', \\'needs_recoding\\': False, \\'human_address\\': \\'{\"\"address\"\":\"\"\"\",\"\"city\"\":\"\"\"\",\"\"state\"\":\"\"\"\",\"\"zip\"\":\"\"\"\"}\\'}\"',\n",
       " '2326 W Cermak (Speed Camera),WB,,03/03/2014,41.85215350507168,-87.68433838912533,\"{\\'latitude\\': \\'41.85215350507168\\', \\'longitude\\': \\'-87.68433838912533\\', \\'needs_recoding\\': False, \\'human_address\\': \\'{\"\"address\"\":\"\"\"\",\"\"city\"\":\"\"\"\",\"\"state\"\":\"\"\"\",\"\"zip\"\":\"\"\"\"}\\'}\"',\n",
       " '2448 N Clybourn Ave (Speed Camera),NB,SB,03/28/2014,41.926153342916486,-87.67093808722792,\"{\\'latitude\\': \\'41.926153342916486\\', \\'longitude\\': \\'-87.67093808722792\\', \\'needs_recoding\\': False, \\'human_address\\': \\'{\"\"address\"\":\"\"\"\",\"\"city\"\":\"\"\"\",\"\"state\"\":\"\"\"\",\"\"zip\"\":\"\"\"\"}\\'}\"',\n",
       " '2329 Division (Speed Camera),EB,WB,02/24/2014,41.90292940885378,-87.68576187971952,\"{\\'latitude\\': \\'41.90292940885378\\', \\'longitude\\': \\'-87.68576187971952\\', \\'needs_recoding\\': False, \\'human_address\\': \\'{\"\"address\"\":\"\"\"\",\"\"city\"\":\"\"\"\",\"\"state\"\":\"\"\"\",\"\"zip\"\":\"\"\"\"}\\'}\"',\n",
       " '9618 S Ewing Ave (Speed Camera),NB,SB,05/31/2014,41.72075680558273,-87.53543678735923,\"{\\'latitude\\': \\'41.72075680558273\\', \\'longitude\\': \\'-87.53543678735923\\', \\'needs_recoding\\': False, \\'human_address\\': \\'{\"\"address\"\":\"\"\"\",\"\"city\"\":\"\"\"\",\"\"state\"\":\"\"\"\",\"\"zip\"\":\"\"\"\"}\\'}\"',\n",
       " '4040 W Chicago Ave (Speed Camera),WB,,03/24/2014,41.895448620893006,-87.72765847088665,\"{\\'latitude\\': \\'41.895448620893006\\', \\'longitude\\': \\'-87.72765847088665\\', \\'needs_recoding\\': False, \\'human_address\\': \\'{\"\"address\"\":\"\"\"\",\"\"city\"\":\"\"\"\",\"\"state\"\":\"\"\"\",\"\"zip\"\":\"\"\"\"}\\'}\"',\n",
       " '1440 W Cermak Rd (Speed Camera),WB,EB,09/02/2014,41.85250180995818,-87.66281031843234,\"{\\'latitude\\': \\'41.85250180995818\\', \\'longitude\\': \\'-87.66281031843234\\', \\'needs_recoding\\': False, \\'human_address\\': \\'{\"\"address\"\":\"\"\"\",\"\"city\"\":\"\"\"\",\"\"state\"\":\"\"\"\",\"\"zip\"\":\"\"\"\"}\\'}\"',\n",
       " '4909 N Cicero Ave (Speed Camera),SB,NB,09/18/2014,41.970134735816295,-87.7477237971432,\"{\\'latitude\\': \\'41.970134735816295\\', \\'longitude\\': \\'-87.7477237971432\\', \\'needs_recoding\\': False, \\'human_address\\': \\'{\"\"address\"\":\"\"\"\",\"\"city\"\":\"\"\"\",\"\"state\"\":\"\"\"\",\"\"zip\"\":\"\"\"\"}\\'}\"',\n",
       " '506 S Central Ave (Speed Camera),SB,,04/14/2014,41.87358141810132,-87.7647619684764,\"{\\'latitude\\': \\'41.87358141810132\\', \\'longitude\\': \\'-87.7647619684764\\', \\'needs_recoding\\': False, \\'human_address\\': \\'{\"\"address\"\":\"\"\"\",\"\"city\"\":\"\"\"\",\"\"state\"\":\"\"\"\",\"\"zip\"\":\"\"\"\"}\\'}\"',\n",
       " '4432 N Lincoln (Speed Camera),NB,SB,01/04/2014,41.96226556022151,-87.68456699562915,\"{\\'latitude\\': \\'41.96226556022151\\', \\'longitude\\': \\'-87.68456699562915\\', \\'needs_recoding\\': False, \\'human_address\\': \\'{\"\"address\"\":\"\"\"\",\"\"city\"\":\"\"\"\",\"\"state\"\":\"\"\"\",\"\"zip\"\":\"\"\"\"}\\'}\"',\n",
       " '2443 N Ashland (Speed Camera),SB,,01/25/2014,41.926418831263994,-87.66804246498943,\"{\\'latitude\\': \\'41.926418831263994\\', \\'longitude\\': \\'-87.66804246498943\\', \\'needs_recoding\\': False, \\'human_address\\': \\'{\"\"address\"\":\"\"\"\",\"\"city\"\":\"\"\"\",\"\"state\"\":\"\"\"\",\"\"zip\"\":\"\"\"\"}\\'}\"',\n",
       " '2917 W Roosevelt (Speed Camera),EB,,10/05/2013,41.866364024167034,-87.69914296647906,\"{\\'latitude\\': \\'41.866364024167034\\', \\'longitude\\': \\'-87.69914296647906\\', \\'needs_recoding\\': False, \\'human_address\\': \\'{\"\"address\"\":\"\"\"\",\"\"city\"\":\"\"\"\",\"\"state\"\":\"\"\"\",\"\"zip\"\":\"\"\"\"}\\'}\"',\n",
       " '6818 S Kedzie Ave (Speed Camera),SB,,09/06/2013,41.769106296454154,-87.70305895795853,\"{\\'latitude\\': \\'41.769106296454154\\', \\'longitude\\': \\'-87.70305895795853\\', \\'needs_recoding\\': False, \\'human_address\\': \\'{\"\"address\"\":\"\"\"\",\"\"city\"\":\"\"\"\",\"\"state\"\":\"\"\"\",\"\"zip\"\":\"\"\"\"}\\'}\"',\n",
       " '115 N Ogden (Speed Camera),NB,SB,01/25/2014,41.883191521391076,-87.66411469955516,\"{\\'latitude\\': \\'41.883191521391076\\', \\'longitude\\': \\'-87.66411469955516\\', \\'needs_recoding\\': False, \\'human_address\\': \\'{\"\"address\"\":\"\"\"\",\"\"city\"\":\"\"\"\",\"\"state\"\":\"\"\"\",\"\"zip\"\":\"\"\"\"}\\'}\"',\n",
       " '3534 N Western (Speed Camera),SB,,01/31/2014,41.9459625867886,-87.68838396394528,\"{\\'latitude\\': \\'41.9459625867886\\', \\'longitude\\': \\'-87.68838396394528\\', \\'needs_recoding\\': False, \\'human_address\\': \\'{\"\"address\"\":\"\"\"\",\"\"city\"\":\"\"\"\",\"\"state\"\":\"\"\"\",\"\"zip\"\":\"\"\"\"}\\'}\"',\n",
       " '4041 W Chicago Ave (Speed Camera),EB,,03/24/2014,41.89522798956752,-87.72771533433409,\"{\\'latitude\\': \\'41.89522798956752\\', \\'longitude\\': \\'-87.72771533433409\\', \\'needs_recoding\\': False, \\'human_address\\': \\'{\"\"address\"\":\"\"\"\",\"\"city\"\":\"\"\"\",\"\"state\"\":\"\"\"\",\"\"zip\"\":\"\"\"\"}\\'}\"',\n",
       " '629 State St (Speed Camera),NB,,11/25/2013,41.873849598744286,-87.62744787497319,\"{\\'latitude\\': \\'41.873849598744286\\', \\'longitude\\': \\'-87.62744787497319\\', \\'needs_recoding\\': False, \\'human_address\\': \\'{\"\"address\"\":\"\"\"\",\"\"city\"\":\"\"\"\",\"\"state\"\":\"\"\"\",\"\"zip\"\":\"\"\"\"}\\'}\"',\n",
       " '6514 W Belmont (Speed Camera),WB,,03/10/2014,41.93837715933998,-87.78911871294291,\"{\\'latitude\\': \\'41.93837715933998\\', \\'longitude\\': \\'-87.78911871294291\\', \\'needs_recoding\\': False, \\'human_address\\': \\'{\"\"address\"\":\"\"\"\",\"\"city\"\":\"\"\"\",\"\"state\"\":\"\"\"\",\"\"zip\"\":\"\"\"\"}\\'}\"',\n",
       " '2417 W 103rd St (Speed Camera),EB,,10/17/2014,41.70626766073214,-87.68239147238012,\"{\\'latitude\\': \\'41.70626766073214\\', \\'longitude\\': \\'-87.68239147238012\\', \\'needs_recoding\\': False, \\'human_address\\': \\'{\"\"address\"\":\"\"\"\",\"\"city\"\":\"\"\"\",\"\"state\"\":\"\"\"\",\"\"zip\"\":\"\"\"\"}\\'}\"',\n",
       " '1226 Western (Speed Camera),SB,,02/24/2014,41.90381710275111,-87.6871949977686,\"{\\'latitude\\': \\'41.90381710275111\\', \\'longitude\\': \\'-87.6871949977686\\', \\'needs_recoding\\': False, \\'human_address\\': \\'{\"\"address\"\":\"\"\"\",\"\"city\"\":\"\"\"\",\"\"state\"\":\"\"\"\",\"\"zip\"\":\"\"\"\"}\\'}\"',\n",
       " '5420 S Racine (Speed Camera),NB,SB,03/10/2014,41.795332774848234,-87.65504097855228,\"{\\'latitude\\': \\'41.795332774848234\\', \\'longitude\\': \\'-87.65504097855228\\', \\'needs_recoding\\': False, \\'human_address\\': \\'{\"\"address\"\":\"\"\"\",\"\"city\"\":\"\"\"\",\"\"state\"\":\"\"\"\",\"\"zip\"\":\"\"\"\"}\\'}\"',\n",
       " '5025 S Western (Speed Camera),NB,SB,02/25/2014,41.802174029934044,-87.68410655772436,\"{\\'latitude\\': \\'41.802174029934044\\', \\'longitude\\': \\'-87.68410655772436\\', \\'needs_recoding\\': False, \\'human_address\\': \\'{\"\"address\"\":\"\"\"\",\"\"city\"\":\"\"\"\",\"\"state\"\":\"\"\"\",\"\"zip\"\":\"\"\"\"}\\'}\"',\n",
       " '1315 W Garfield Blvd (Speed Camera),EB,,03/24/2014,41.793645091444645,-87.6578607639445,\"{\\'latitude\\': \\'41.793645091444645\\', \\'longitude\\': \\'-87.6578607639445\\', \\'needs_recoding\\': False, \\'human_address\\': \\'{\"\"address\"\":\"\"\"\",\"\"city\"\":\"\"\"\",\"\"state\"\":\"\"\"\",\"\"zip\"\":\"\"\"\"}\\'}\"',\n",
       " '5330 Cottage Grove (Speed Camera),NB,SB,10/05/2013,41.79770388561477,-87.60644477865196,\"{\\'latitude\\': \\'41.79770388561477\\', \\'longitude\\': \\'-87.60644477865196\\', \\'needs_recoding\\': False, \\'human_address\\': \\'{\"\"address\"\":\"\"\"\",\"\"city\"\":\"\"\"\",\"\"state\"\":\"\"\"\",\"\"zip\"\":\"\"\"\"}\\'}\"',\n",
       " '3535 E 95th St (Speed Camera),EB,,06/30/2014,41.722818322421595,-87.53756746533104,\"{\\'latitude\\': \\'41.722818322421595\\', \\'longitude\\': \\'-87.53756746533104\\', \\'needs_recoding\\': False, \\'human_address\\': \\'{\"\"address\"\":\"\"\"\",\"\"city\"\":\"\"\"\",\"\"state\"\":\"\"\"\",\"\"zip\"\":\"\"\"\"}\\'}\"',\n",
       " '5529 S Western (Speed Camera),SB,,11/23/2013,41.79252199331773,-87.68385704739886,\"{\\'latitude\\': \\'41.79252199331773\\', \\'longitude\\': \\'-87.68385704739886\\', \\'needs_recoding\\': False, \\'human_address\\': \\'{\"\"address\"\":\"\"\"\",\"\"city\"\":\"\"\"\",\"\"state\"\":\"\"\"\",\"\"zip\"\":\"\"\"\"}\\'}\"',\n",
       " '6125 N Cicero Ave (Speed Camera),EB,WB,03/17/2014,41.9921194114274,-87.74847678515228,\"{\\'latitude\\': \\'41.9921194114274\\', \\'longitude\\': \\'-87.74847678515228\\', \\'needs_recoding\\': False, \\'human_address\\': \\'{\"\"address\"\":\"\"\"\",\"\"city\"\":\"\"\"\",\"\"state\"\":\"\"\"\",\"\"zip\"\":\"\"\"\"}\\'}\"',\n",
       " '5432 W Lawrence (Speed Camera),EB,WB,02/14/2014,41.96785573012919,-87.76392864369929,\"{\\'latitude\\': \\'41.96785573012919\\', \\'longitude\\': \\'-87.76392864369929\\', \\'needs_recoding\\': False, \\'human_address\\': \\'{\"\"address\"\":\"\"\"\",\"\"city\"\":\"\"\"\",\"\"state\"\":\"\"\"\",\"\"zip\"\":\"\"\"\"}\\'}\"',\n",
       " '5433 S Pulaski (Speed Camera),NB,,02/07/2014,41.79404504596532,-87.72303636259336,\"{\\'latitude\\': \\'41.79404504596532\\', \\'longitude\\': \\'-87.72303636259336\\', \\'needs_recoding\\': False, \\'human_address\\': \\'{\"\"address\"\":\"\"\"\",\"\"city\"\":\"\"\"\",\"\"state\"\":\"\"\"\",\"\"zip\"\":\"\"\"\"}\\'}\"',\n",
       " '3542 E 95th St (Speed Camera),WB,,06/30/2014,41.72304461975978,-87.5370407583455,\"{\\'latitude\\': \\'41.72304461975978\\', \\'longitude\\': \\'-87.5370407583455\\', \\'needs_recoding\\': False, \\'human_address\\': \\'{\"\"address\"\":\"\"\"\",\"\"city\"\":\"\"\"\",\"\"state\"\":\"\"\"\",\"\"zip\"\":\"\"\"\"}\\'}\"',\n",
       " '3100 W Augusta Blvd (Speed Camera),EB,WB,10/17/2013,41.89932514072566,-87.70452234551168,\"{\\'latitude\\': \\'41.89932514072566\\', \\'longitude\\': \\'-87.70452234551168\\', \\'needs_recoding\\': False, \\'human_address\\': \\'{\"\"address\"\":\"\"\"\",\"\"city\"\":\"\"\"\",\"\"state\"\":\"\"\"\",\"\"zip\"\":\"\"\"\"}\\'}\"',\n",
       " '1110 S Pulaski Rd (Speed Camera),SB,,09/05/2014,41.86760272243294,-87.7253827433152,\"{\\'latitude\\': \\'41.86760272243294\\', \\'longitude\\': \\'-87.7253827433152\\', \\'needs_recoding\\': False, \\'human_address\\': \\'{\"\"address\"\":\"\"\"\",\"\"city\"\":\"\"\"\",\"\"state\"\":\"\"\"\",\"\"zip\"\":\"\"\"\"}\\'}\"',\n",
       " '7518 S Vincennes (Speed Camera),NB,SB,02/17/2014,41.75749703994495,-87.63183332832696,\"{\\'latitude\\': \\'41.75749703994495\\', \\'longitude\\': \\'-87.63183332832696\\', \\'needs_recoding\\': False, \\'human_address\\': \\'{\"\"address\"\":\"\"\"\",\"\"city\"\":\"\"\"\",\"\"state\"\":\"\"\"\",\"\"zip\"\":\"\"\"\"}\\'}\"',\n",
       " '2108 S Western Ave (Speed Camera),SB,,04/25/2014,41.853572622430164,-87.6858278546488,\"{\\'latitude\\': \\'41.853572622430164\\', \\'longitude\\': \\'-87.6858278546488\\', \\'needs_recoding\\': False, \\'human_address\\': \\'{\"\"address\"\":\"\"\"\",\"\"city\"\":\"\"\"\",\"\"state\"\":\"\"\"\",\"\"zip\"\":\"\"\"\"}\\'}\"',\n",
       " '1507 W 83rd St (Speed Camera),EB,WB,10/11/2014,41.742993034938884,-87.66113775973551,\"{\\'latitude\\': \\'41.742993034938884\\', \\'longitude\\': \\'-87.66113775973551\\', \\'needs_recoding\\': False, \\'human_address\\': \\'{\"\"address\"\":\"\"\"\",\"\"city\"\":\"\"\"\",\"\"state\"\":\"\"\"\",\"\"zip\"\":\"\"\"\"}\\'}\"',\n",
       " '449 N Columbus Dr (Speed Camera),NB,,05/18/2014,41.89003775504898,-87.62017903427099,\"{\\'latitude\\': \\'41.89003775504898\\', \\'longitude\\': \\'-87.62017903427099\\', \\'needs_recoding\\': False, \\'human_address\\': \\'{\"\"address\"\":\"\"\"\",\"\"city\"\":\"\"\"\",\"\"state\"\":\"\"\"\",\"\"zip\"\":\"\"\"\"}\\'}\"',\n",
       " '6226 W Irving Park Rd (Speed Camera),EB,WB,04/26/2014,41.95307482555687,-87.78282553773761,\"{\\'latitude\\': \\'41.95307482555687\\', \\'longitude\\': \\'-87.78282553773761\\', \\'needs_recoding\\': False, \\'human_address\\': \\'{\"\"address\"\":\"\"\"\",\"\"city\"\":\"\"\"\",\"\"state\"\":\"\"\"\",\"\"zip\"\":\"\"\"\"}\\'}\"',\n",
       " '3200 S Archer Ave (Speed Camera),WB,EB,11/09/2015,41.83595801848586,-87.66879026653764,\"{\\'latitude\\': \\'41.83595801848586\\', \\'longitude\\': \\'-87.66879026653764\\', \\'needs_recoding\\': False, \\'human_address\\': \\'{\"\"address\"\":\"\"\"\",\"\"city\"\":\"\"\"\",\"\"state\"\":\"\"\"\",\"\"zip\"\":\"\"\"\"}\\'}\"',\n",
       " '4042 W North Ave (Speed Camera),WB,,11/09/2015,41.90997242450237,-87.72805040969816,\"{\\'latitude\\': \\'41.90997242450237\\', \\'longitude\\': \\'-87.72805040969816\\', \\'needs_recoding\\': False, \\'human_address\\': \\'{\"\"address\"\":\"\"\"\",\"\"city\"\":\"\"\"\",\"\"state\"\":\"\"\"\",\"\"zip\"\":\"\"\"\"}\\'}\"',\n",
       " '4053 W North Ave (Speed Camera),EB,,11/09/2015,41.90974567444195,-87.72856329512945,\"{\\'latitude\\': \\'41.90974567444195\\', \\'longitude\\': \\'-87.72856329512945\\', \\'needs_recoding\\': False, \\'human_address\\': \\'{\"\"address\"\":\"\"\"\",\"\"city\"\":\"\"\"\",\"\"state\"\":\"\"\"\",\"\"zip\"\":\"\"\"\"}\\'}\"',\n",
       " '5120 N Pulaski Rd (Speed Camera),NB,SB,08/26/2013,41.97433265461055,-87.728215,\"{\\'latitude\\': \\'41.97433265461055\\', \\'longitude\\': \\'-87.728215\\', \\'needs_recoding\\': False, \\'human_address\\': \\'{\"\"address\"\":\"\"\"\",\"\"city\"\":\"\"\"\",\"\"state\"\":\"\"\"\",\"\"zip\"\":\"\"\"\"}\\'}\"',\n",
       " '324 E Illinois St (Speed Camera),EB,,04/14/2014,41.89091009572781,-87.61934752145963,\"{\\'latitude\\': \\'41.89091009572781\\', \\'longitude\\': \\'-87.61934752145963\\', \\'needs_recoding\\': False, \\'human_address\\': \\'{\"\"address\"\":\"\"\"\",\"\"city\"\":\"\"\"\",\"\"state\"\":\"\"\"\",\"\"zip\"\":\"\"\"\"}\\'}\"',\n",
       " '2603 W 79th (Speed Camera),EB,,01/08/2014,41.74985294026319,-87.68798347502599,\"{\\'latitude\\': \\'41.74985294026319\\', \\'longitude\\': \\'-87.68798347502599\\', \\'needs_recoding\\': False, \\'human_address\\': \\'{\"\"address\"\":\"\"\"\",\"\"city\"\":\"\"\"\",\"\"state\"\":\"\"\"\",\"\"zip\"\":\"\"\"\"}\\'}\"',\n",
       " '5006 S Western Blvd (Speed Camera),NB,SB,01/08/2018,41.802794,-87.683753,\"{\\'latitude\\': \\'41.802794\\', \\'longitude\\': \\'-87.683753\\', \\'needs_recoding\\': False, \\'human_address\\': \\'{\"\"address\"\":\"\"\"\",\"\"city\"\":\"\"\"\",\"\"state\"\":\"\"\"\",\"\"zip\"\":\"\"\"\"}\\'}\"',\n",
       " '1754 N Pulaski Rd (Speed Camera),SB,NB,11/09/2015,41.91337483050126,-87.72658859994081,\"{\\'latitude\\': \\'41.91337483050126\\', \\'longitude\\': \\'-87.72658859994081\\', \\'needs_recoding\\': False, \\'human_address\\': \\'{\"\"address\"\":\"\"\"\",\"\"city\"\":\"\"\"\",\"\"state\"\":\"\"\"\",\"\"zip\"\":\"\"\"\"}\\'}\"',\n",
       " '8020 W Forest Preserve Ave (Speed Camera),EB,WB,07/16/2018,41.944352,-87.827241,\"{\\'latitude\\': \\'41.944352\\', \\'longitude\\': \\'-87.827241\\', \\'needs_recoding\\': False, \\'human_address\\': \\'{\"\"address\"\":\"\"\"\",\"\"city\"\":\"\"\"\",\"\"state\"\":\"\"\"\",\"\"zip\"\":\"\"\"\"}\\'}\"',\n",
       " '8043 W Addison St (Speed Camera),,EB,07/16/2018,41.944928,-87.827727,\"{\\'latitude\\': \\'41.944928\\', \\'longitude\\': \\'-87.827727\\', \\'needs_recoding\\': False, \\'human_address\\': \\'{\"\"address\"\":\"\"\"\",\"\"city\"\":\"\"\"\",\"\"state\"\":\"\"\"\",\"\"zip\"\":\"\"\"\"}\\'}\"',\n",
       " '3911 W Diversey Ave (Speed Camera),EB,WB,07/16/2018,41.931868,-87.724595,\"{\\'latitude\\': \\'41.931868\\', \\'longitude\\': \\'-87.724595\\', \\'needs_recoding\\': False, \\'human_address\\': \\'{\"\"address\"\":\"\"\"\",\"\"city\"\":\"\"\"\",\"\"state\"\":\"\"\"\",\"\"zip\"\":\"\"\"\"}\\'}\"',\n",
       " '8006 W Addison St (Speed Camera),WB,,07/16/2018,41.945054,-87.827043,\"{\\'latitude\\': \\'41.945054\\', \\'longitude\\': \\'-87.827043\\', \\'needs_recoding\\': False, \\'human_address\\': \\'{\"\"address\"\":\"\"\"\",\"\"city\"\":\"\"\"\",\"\"state\"\":\"\"\"\",\"\"zip\"\":\"\"\"\"}\\'}\"',\n",
       " '7122 S South Chicago Ave (Speed Camera),SEB,,08/20/2018,41.765164,-87.604804,\"{\\'latitude\\': \\'41.765164\\', \\'longitude\\': \\'-87.604804\\', \\'needs_recoding\\': False, \\'human_address\\': \\'{\"\"address\"\":\"\"\"\",\"\"city\"\":\"\"\"\",\"\"state\"\":\"\"\"\",\"\"zip\"\":\"\"\"\"}\\'}\"',\n",
       " '7157 S South Chicago Ave (Speed Camera),NWB,,08/20/2018,41.764716,-87.603742,\"{\\'latitude\\': \\'41.764716\\', \\'longitude\\': \\'-87.603742\\', \\'needs_recoding\\': False, \\'human_address\\': \\'{\"\"address\"\":\"\"\"\",\"\"city\"\":\"\"\"\",\"\"state\"\":\"\"\"\",\"\"zip\"\":\"\"\"\"}\\'}\"',\n",
       " '819 E 71st St (Speed Camera),EB,WB,08/20/2018,41.765836,-87.605866,\"{\\'latitude\\': \\'41.765836\\', \\'longitude\\': \\'-87.605866\\', \\'needs_recoding\\': False, \\'human_address\\': \\'{\"\"address\"\":\"\"\"\",\"\"city\"\":\"\"\"\",\"\"state\"\":\"\"\"\",\"\"zip\"\":\"\"\"\"}\\'}\"',\n",
       " '1455 W Division St(Speed Camera),EB,,09/05/2018,41.90329,-87.664873,\"{\\'latitude\\': \\'41.90329\\', \\'longitude\\': \\'-87.664873\\', \\'needs_recoding\\': False, \\'human_address\\': \\'{\"\"address\"\":\"\"\"\",\"\"city\"\":\"\"\"\",\"\"state\"\":\"\"\"\",\"\"zip\"\":\"\"\"\"}\\'}\"',\n",
       " '1444 W Division St(Speed Camera),WB,,09/05/2018,41.903482,-87.664378,\"{\\'latitude\\': \\'41.903482\\', \\'longitude\\': \\'-87.664378\\', \\'needs_recoding\\': False, \\'human_address\\': \\'{\"\"address\"\":\"\"\"\",\"\"city\"\":\"\"\"\",\"\"state\"\":\"\"\"\",\"\"zip\"\":\"\"\"\"}\\'}\"',\n",
       " '4246 W 47th St(Speed Camera),WB,,08/27/2018,41.807853,-87.730128,\"{\\'latitude\\': \\'41.807853\\', \\'longitude\\': \\'-87.730128\\', \\'needs_recoding\\': False, \\'human_address\\': \\'{\"\"address\"\":\"\"\"\",\"\"city\"\":\"\"\"\",\"\"state\"\":\"\"\"\",\"\"zip\"\":\"\"\"\"}\\'}\"',\n",
       " '4319 W 47th St(Speed Camera),EB,,08/27/2018,41.807645,-87.731753,\"{\\'latitude\\': \\'41.807645\\', \\'longitude\\': \\'-87.731753\\', \\'needs_recoding\\': False, \\'human_address\\': \\'{\"\"address\"\":\"\"\"\",\"\"city\"\":\"\"\"\",\"\"state\"\":\"\"\"\",\"\"zip\"\":\"\"\"\"}\\'}\"',\n",
       " '']"
      ]
     },
     "execution_count": 10,
     "metadata": {},
     "output_type": "execute_result"
    }
   ],
   "source": [
    "loc_data"
   ]
  },
  {
   "cell_type": "code",
   "execution_count": 88,
   "metadata": {},
   "outputs": [],
   "source": [
    "for row in viol_data:\n",
    "    row_vals = row.split(',')[:8]\n",
    "    try:\n",
    "        cur.execute(viol_insert, row_vals[0], row_vals[1], row_vals[2], row_vals[3], row_vals[4], row_vals[5], row_vals[6], row_vals[7])\n",
    "        cur.commit()\n",
    "    except:\n",
    "        pass"
   ]
  },
  {
   "cell_type": "code",
   "execution_count": null,
   "metadata": {},
   "outputs": [],
   "source": []
  }
 ],
 "metadata": {
  "kernelspec": {
   "display_name": "Python 3",
   "language": "python",
   "name": "python3"
  },
  "language_info": {
   "codemirror_mode": {
    "name": "ipython",
    "version": 3
   },
   "file_extension": ".py",
   "mimetype": "text/x-python",
   "name": "python",
   "nbconvert_exporter": "python",
   "pygments_lexer": "ipython3",
   "version": "3.7.0"
  }
 },
 "nbformat": 4,
 "nbformat_minor": 2
}
