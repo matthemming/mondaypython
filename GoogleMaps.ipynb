{
 "cells": [
  {
   "cell_type": "code",
   "execution_count": 3,
   "metadata": {},
   "outputs": [
    {
     "name": "stdout",
     "output_type": "stream",
     "text": [
      "{'error_message': 'Keyless access to Google Maps Platform is deprecated. Please use an API key with all your API calls to avoid service interruption. For further details please refer to http://g.co/dev/maps-no-account', 'results': [], 'status': 'OVER_QUERY_LIMIT'}\n"
     ]
    },
    {
     "ename": "NameError",
     "evalue": "name 'result' is not defined",
     "output_type": "error",
     "traceback": [
      "\u001b[1;31m---------------------------------------------------------------------------\u001b[0m",
      "\u001b[1;31mNameError\u001b[0m                                 Traceback (most recent call last)",
      "\u001b[1;32m<ipython-input-3-c32f2e0eb1de>\u001b[0m in \u001b[0;36m<module>\u001b[1;34m()\u001b[0m\n\u001b[0;32m     18\u001b[0m \u001b[1;33m\u001b[0m\u001b[0m\n\u001b[0;32m     19\u001b[0m \u001b[0mgeodata\u001b[0m \u001b[1;33m=\u001b[0m \u001b[0mdict\u001b[0m\u001b[1;33m(\u001b[0m\u001b[1;33m)\u001b[0m\u001b[1;33m\u001b[0m\u001b[0m\n\u001b[1;32m---> 20\u001b[1;33m \u001b[0mgeodata\u001b[0m\u001b[1;33m[\u001b[0m\u001b[1;34m'lat'\u001b[0m\u001b[1;33m]\u001b[0m \u001b[1;33m=\u001b[0m \u001b[0mresult\u001b[0m\u001b[1;33m[\u001b[0m\u001b[1;34m'geometry'\u001b[0m\u001b[1;33m]\u001b[0m\u001b[1;33m[\u001b[0m\u001b[1;34m'location'\u001b[0m\u001b[1;33m]\u001b[0m\u001b[1;33m[\u001b[0m\u001b[1;34m'lat'\u001b[0m\u001b[1;33m]\u001b[0m\u001b[1;33m\u001b[0m\u001b[0m\n\u001b[0m\u001b[0;32m     21\u001b[0m \u001b[0mgeodata\u001b[0m\u001b[1;33m[\u001b[0m\u001b[1;34m'lng'\u001b[0m\u001b[1;33m]\u001b[0m \u001b[1;33m=\u001b[0m \u001b[0mresult\u001b[0m\u001b[1;33m[\u001b[0m\u001b[1;34m'geometry'\u001b[0m\u001b[1;33m]\u001b[0m\u001b[1;33m[\u001b[0m\u001b[1;34m'location'\u001b[0m\u001b[1;33m]\u001b[0m\u001b[1;33m[\u001b[0m\u001b[1;34m'lng'\u001b[0m\u001b[1;33m]\u001b[0m\u001b[1;33m\u001b[0m\u001b[0m\n\u001b[0;32m     22\u001b[0m \u001b[0mgeodata\u001b[0m\u001b[1;33m[\u001b[0m\u001b[1;34m'address'\u001b[0m\u001b[1;33m]\u001b[0m \u001b[1;33m=\u001b[0m \u001b[0mresult\u001b[0m\u001b[1;33m[\u001b[0m\u001b[1;34m'formatted_address'\u001b[0m\u001b[1;33m]\u001b[0m\u001b[1;33m\u001b[0m\u001b[0m\n",
      "\u001b[1;31mNameError\u001b[0m: name 'result' is not defined"
     ]
    }
   ],
   "source": [
    "import requests\n",
    "\n",
    "GOOGLE_MAPS_API_URL = 'http://maps.googleapis.com/maps/api/geocode/json'\n",
    "\n",
    "params = {\n",
    "    'address': 'oshiwara industerial center goregaon west mumbai',\n",
    "    'sensor': 'false',\n",
    "    'region': 'india'\n",
    "}\n",
    "\n",
    "# Do the request and get the response data\n",
    "req = requests.get(GOOGLE_MAPS_API_URL, params=params)\n",
    "res = req.json()\n",
    "print(res)\n",
    "\n",
    "# Use the first result\n",
    "#result = res['results'][0]\n",
    "\n",
    "geodata = dict()\n",
    "geodata['lat'] = result['geometry']['location']['lat']\n",
    "geodata['lng'] = result['geometry']['location']['lng']\n",
    "geodata['address'] = result['formatted_address']\n",
    "\n",
    "print('{address}. (lat, lng) = ({lat}, {lng})'.format(**geodata))"
   ]
  },
  {
   "cell_type": "code",
   "execution_count": 1,
   "metadata": {},
   "outputs": [],
   "source": [
    "from os import listdir"
   ]
  },
  {
   "cell_type": "code",
   "execution_count": 3,
   "metadata": {},
   "outputs": [
    {
     "data": {
      "text/plain": [
       "['Avon.csv',\n",
       " 'Buckinghamshire.csv',\n",
       " 'Cambridgeshire.csv',\n",
       " 'Cornwall.csv',\n",
       " 'Cumbria.csv',\n",
       " 'Derby.csv',\n",
       " 'Derbyshire.csv',\n",
       " 'Essex.csv',\n",
       " 'hampshire.csv',\n",
       " 'hwfr.csv',\n",
       " 'KentFires.csv',\n",
       " 'Lancashire.csv',\n",
       " 'Leicestershire.csv',\n",
       " 'Lincolnshire_tweets_table.csv',\n",
       " 'LondonFireRecent.csv',\n",
       " 'Norfolk.csv',\n",
       " 'NorthernIrelandFires.csv',\n",
       " 'NorthWalesFire.csv',\n",
       " 'NorthYorkshire.csv',\n",
       " 'Nottinghamshire.csv',\n",
       " 'Scotland.csv',\n",
       " 'Shropshire.csv',\n",
       " 'SouthYorkshireFire.csv',\n",
       " 'Staffordshire.csv',\n",
       " 'Warwickshire.csv',\n",
       " 'WestMidlands.csv',\n",
       " 'west_yorksfire.csv']"
      ]
     },
     "execution_count": 3,
     "metadata": {},
     "output_type": "execute_result"
    }
   ],
   "source": [
    "listdir(r'C:\\git\\fire\\data\\Fire_Regions')"
   ]
  },
  {
   "cell_type": "code",
   "execution_count": null,
   "metadata": {},
   "outputs": [],
   "source": [
    "Avon.csv',\n",
    "Buckinghamshire.csv',\n",
    "Cambridgeshire.csv',\n",
    "Cornwall.csv',\n",
    "Cumbria.csv',\n",
    "Derby.csv',\n",
    "Derbyshire.csv',\n",
    "Essex.csv',\n",
    "hampshire.csv',\n",
    "hwfr.csv',\n",
    "KentFires.csv',\n",
    "Lancashire.csv',\n",
    "Leicestershire.csv',\n",
    "Lincolnshire_tweets_table.csv',\n",
    "LondonFireRecent.csv',\n",
    "Norfolk.csv',\n",
    "NorthernIrelandFires.csv',\n",
    "NorthWalesFire.csv',\n",
    "NorthYorkshire.csv',\n",
    "Nottinghamshire.csv',\n",
    "Scotland.csv',\n",
    "Shropshire.csv',\n",
    "SouthYorkshireFire.csv',\n",
    "Staffordshire.csv',\n",
    "Warwickshire.csv',\n",
    "WestMidlands\n",
    "west_yorksfire"
   ]
  }
 ],
 "metadata": {
  "kernelspec": {
   "display_name": "Python 3",
   "language": "python",
   "name": "python3"
  },
  "language_info": {
   "codemirror_mode": {
    "name": "ipython",
    "version": 3
   },
   "file_extension": ".py",
   "mimetype": "text/x-python",
   "name": "python",
   "nbconvert_exporter": "python",
   "pygments_lexer": "ipython3",
   "version": "3.7.0"
  }
 },
 "nbformat": 4,
 "nbformat_minor": 2
}
