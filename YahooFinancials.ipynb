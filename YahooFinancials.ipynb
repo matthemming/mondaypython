{
 "cells": [
  {
   "cell_type": "code",
   "execution_count": 234,
   "metadata": {},
   "outputs": [],
   "source": [
    "from yahoofinancials import YahooFinancials\n",
    "from pandas import DataFrame, Series\n",
    "import pandas as pd\n",
    "import pyodbc\n",
    "from pprint import pprint\n",
    "from datetime import datetime as dt\n",
    "\n",
    "from bs4 import BeautifulSoup\n",
    "import re\n",
    "from urllib import request\n",
    "import nltk # natural language toolkit\n",
    "from nltk.stem.porter import PorterStemmer"
   ]
  },
  {
   "cell_type": "markdown",
   "metadata": {},
   "source": [
    "### Importing and arranging Yahoo Financials data"
   ]
  },
  {
   "cell_type": "code",
   "execution_count": 14,
   "metadata": {},
   "outputs": [],
   "source": [
    "tableau_ticker = 'DATA'\n",
    "microsoft_ticker = 'MSFT'\n",
    "facebook_ticker = 'FB'"
   ]
  },
  {
   "cell_type": "code",
   "execution_count": 15,
   "metadata": {},
   "outputs": [],
   "source": [
    "tableau_financials = YahooFinancials(tableau_ticker)\n",
    "microsoft_financials = YahooFinancials(microsoft_ticker)\n",
    "facebook_financials = YahooFinancials(facebook_ticker)"
   ]
  },
  {
   "cell_type": "code",
   "execution_count": 320,
   "metadata": {},
   "outputs": [],
   "source": [
    "tech_stocks = {'tableau':'DATA', 'microsoft':'MSFT', 'facebook':'FB'}\n",
    "tech_tickers = list(tech_stocks.values())"
   ]
  },
  {
   "cell_type": "code",
   "execution_count": 28,
   "metadata": {},
   "outputs": [],
   "source": [
    "balance_sheet_data_qt = YahooFinancials(tech_tickers).get_financial_stmts('quarterly', 'balance')"
   ]
  },
  {
   "cell_type": "code",
   "execution_count": 154,
   "metadata": {},
   "outputs": [
    {
     "data": {
      "text/plain": [
       "[{'ticker': 'DATA',\n",
       "  'date': '2018-06-30',\n",
       "  'cash': 611091000,\n",
       "  'longTermDebt': 69301000,\n",
       "  'totalAssets': 1473257000,\n",
       "  'totalLiab': 525295000},\n",
       " {'ticker': 'DATA',\n",
       "  'date': '2018-03-31',\n",
       "  'cash': 623994000,\n",
       "  'longTermDebt': 75598000,\n",
       "  'totalAssets': 1430656000,\n",
       "  'totalLiab': 520783000},\n",
       " {'ticker': 'DATA',\n",
       "  'date': '2017-12-31',\n",
       "  'cash': 627878000,\n",
       "  'longTermDebt': 82443000,\n",
       "  'totalAssets': 1398795000,\n",
       "  'totalLiab': 645172000},\n",
       " {'ticker': 'DATA',\n",
       "  'date': '2017-09-30',\n",
       "  'cash': 790945000,\n",
       "  'longTermDebt': 78561000,\n",
       "  'totalAssets': 1319298000,\n",
       "  'totalLiab': 566696000},\n",
       " {'ticker': 'MSFT',\n",
       "  'date': '2018-06-30',\n",
       "  'cash': 11946000000,\n",
       "  'longTermDebt': 77810000000,\n",
       "  'totalAssets': 258848000000,\n",
       "  'totalLiab': 176130000000},\n",
       " {'ticker': 'MSFT',\n",
       "  'date': '2018-03-31',\n",
       "  'cash': 9221000000,\n",
       "  'longTermDebt': 79231000000,\n",
       "  'totalAssets': 245497000000,\n",
       "  'totalLiab': 166258000000},\n",
       " {'ticker': 'MSFT',\n",
       "  'date': '2017-12-31',\n",
       "  'cash': 12859000000,\n",
       "  'longTermDebt': 78988000000,\n",
       "  'totalAssets': 256003000000,\n",
       "  'totalLiab': 177643000000},\n",
       " {'ticker': 'MSFT',\n",
       "  'date': '2017-09-30',\n",
       "  'cash': 6884000000,\n",
       "  'longTermDebt': 82023000000,\n",
       "  'totalAssets': 249097000000,\n",
       "  'totalLiab': 159450000000},\n",
       " {'ticker': 'FB',\n",
       "  'date': '2018-06-30',\n",
       "  'cash': 11552000000,\n",
       "  'longTermDebt': 6239000000,\n",
       "  'totalAssets': 90291000000,\n",
       "  'totalLiab': 10909000000},\n",
       " {'ticker': 'FB',\n",
       "  'date': '2018-03-31',\n",
       "  'cash': 12082000000,\n",
       "  'longTermDebt': 6239000000,\n",
       "  'totalAssets': 88945000000,\n",
       "  'totalLiab': 11325000000},\n",
       " {'ticker': 'FB',\n",
       "  'date': '2017-12-31',\n",
       "  'cash': 8079000000,\n",
       "  'longTermDebt': 6417000000,\n",
       "  'totalAssets': 84524000000,\n",
       "  'totalLiab': 10177000000},\n",
       " {'ticker': 'FB',\n",
       "  'date': '2017-09-30',\n",
       "  'cash': 7201000000,\n",
       "  'longTermDebt': 4485000000,\n",
       "  'totalAssets': 78998000000,\n",
       "  'totalLiab': 7790000000}]"
      ]
     },
     "execution_count": 154,
     "metadata": {},
     "output_type": "execute_result"
    }
   ],
   "source": [
    "bal_record = []\n",
    "for t in tech_tickers:\n",
    "    company_data = balance_sheet_data_qt['balanceSheetHistoryQuarterly'][t]\n",
    "\n",
    "    for quar in company_data:\n",
    "        quarstats = {}\n",
    "        \n",
    "        quarstats['ticker'] = t\n",
    "        \n",
    "        quardate = list(quar.keys())[0]\n",
    "        quarstats['date'] = quardate\n",
    "        #quarstats['date'] = dt.strptime(quardate, '%Y-%m-%d').date()\n",
    "        \n",
    "        quarstats['cash'] = (quar[quardate]['cash'] if 'cash' in quar[quardate].keys() else 0)\n",
    "        \n",
    "        quarstats['longTermDebt'] = (quar[quardate]['longTermDebt'] if 'longTermDebt' in quar[quardate].keys() \n",
    "                                     else (quar[quardate]['totalLiab'] - quar[quardate]['totalCurrentLiabilities']))\n",
    "        \n",
    "        quarstats['totalAssets'] = (quar[quardate]['totalAssets'] if 'totalAssets' in quar[quardate].keys() else 0)\n",
    "        \n",
    "        quarstats['totalLiab'] = (quar[quardate]['totalLiab'] if 'totalLiab' in quar[quardate].keys() else 0)\n",
    "            \n",
    "        bal_record.append(quarstats)\n",
    "bal_record"
   ]
  },
  {
   "cell_type": "code",
   "execution_count": 94,
   "metadata": {},
   "outputs": [
    {
     "name": "stdout",
     "output_type": "stream",
     "text": [
      "['ticker', 'date', 'cash', 'longTermDebt', 'totalAssets', 'totalLiab']\n"
     ]
    }
   ],
   "source": [
    "column_headers = list(bal_record[1].keys()) \n",
    "print(column_headers)"
   ]
  },
  {
   "cell_type": "markdown",
   "metadata": {},
   "source": [
    "### Scrape content from wikipedia pages"
   ]
  },
  {
   "cell_type": "code",
   "execution_count": 271,
   "metadata": {},
   "outputs": [],
   "source": [
    "url_dict = {}\n",
    "\n",
    "url_dict['tableau'] = 'https://en.wikipedia.org/wiki/Tableau_Software'\n",
    "url_dict['microsoft'] = 'https://en.wikipedia.org/wiki/Microsoft'\n",
    "url_dict['facebook'] = 'https://en.wikipedia.org/wiki/Facebook'"
   ]
  },
  {
   "cell_type": "code",
   "execution_count": 283,
   "metadata": {},
   "outputs": [],
   "source": [
    "ua_header = {'User-Agent' : 'Mozilla/5.0 (Windows NT 10.0; Win64; x64) AppleWebKit/537.36 (KHTML, like Gecko) Chrome/70.0.3538.67 Safari/537.36'}\n",
    "req = request.Request(tableau_url, headers=ua_header)"
   ]
  },
  {
   "cell_type": "code",
   "execution_count": 284,
   "metadata": {},
   "outputs": [],
   "source": [
    "content = request.urlopen(req)"
   ]
  },
  {
   "cell_type": "code",
   "execution_count": 351,
   "metadata": {},
   "outputs": [
    {
     "data": {
      "text/plain": [
       "361"
      ]
     },
     "execution_count": 351,
     "metadata": {},
     "output_type": "execute_result"
    }
   ],
   "source": [
    "def words_cleaner(text):\n",
    "    clean_words = []\n",
    "    for w in text.split(): # iterates through all words in each tweet\n",
    "        w = w.lower()\n",
    "        w = re.sub('[^a-zA-Z\\s]+', '', w) # if character in word doesn't match [^a-zA-Z\\s] word is not included\n",
    "        #w = re.sub('[\\W]+', '', w) # if character in word doesn't match [^a-zA-Z\\s] word is not included\n",
    "        #w = ps.stem(w)\n",
    "        if w not in stop: # gets rid of stopwords\n",
    "            clean_words.append(w)\n",
    "    \n",
    "    #this gets rid of all instances of ''\n",
    "    clean_words = [item for item in clean_words if item]\n",
    "    \n",
    "    return clean_words\n",
    "\n",
    "\n",
    "len(words_cleaner(text))"
   ]
  },
  {
   "cell_type": "code",
   "execution_count": 321,
   "metadata": {},
   "outputs": [
    {
     "data": {
      "text/plain": [
       "'DATA'"
      ]
     },
     "execution_count": 321,
     "metadata": {},
     "output_type": "execute_result"
    }
   ],
   "source": [
    "tech_stocks['tableau']"
   ]
  },
  {
   "cell_type": "code",
   "execution_count": 352,
   "metadata": {},
   "outputs": [
    {
     "data": {
      "text/plain": [
       "[{'ticker': 'DATA', 'word': 'tableau', 'wordcount': 14},\n",
       " {'ticker': 'DATA', 'word': 'million', 'wordcount': 10},\n",
       " {'ticker': 'DATA', 'word': 'data', 'wordcount': 9},\n",
       " {'ticker': 'DATA', 'word': 'company', 'wordcount': 4},\n",
       " {'ticker': 'DATA', 'word': 'products', 'wordcount': 4},\n",
       " {'ticker': 'DATA', 'word': 'policy', 'wordcount': 4},\n",
       " {'ticker': 'DATA', 'word': 'software', 'wordcount': 3},\n",
       " {'ticker': 'DATA', 'word': 'visualization', 'wordcount': 3},\n",
       " {'ticker': 'DATA', 'word': 'intelligence', 'wordcount': 3},\n",
       " {'ticker': 'DATA', 'word': 'databases', 'wordcount': 3},\n",
       " {'ticker': 'MSFT', 'word': 'microsoft', 'wordcount': 164},\n",
       " {'ticker': 'MSFT', 'word': 'company', 'wordcount': 50},\n",
       " {'ticker': 'MSFT', 'word': 'windows', 'wordcount': 49},\n",
       " {'ticker': 'MSFT', 'word': 'new', 'wordcount': 28},\n",
       " {'ticker': 'MSFT', 'word': 'billion', 'wordcount': 20},\n",
       " {'ticker': 'MSFT', 'word': 'software', 'wordcount': 18},\n",
       " {'ticker': 'MSFT', 'word': 'operating', 'wordcount': 18},\n",
       " {'ticker': 'MSFT', 'word': 'released', 'wordcount': 18},\n",
       " {'ticker': 'MSFT', 'word': 'microsofts', 'wordcount': 17},\n",
       " {'ticker': 'MSFT', 'word': 'us', 'wordcount': 16},\n",
       " {'ticker': 'FB', 'word': 'facebook', 'wordcount': 429},\n",
       " {'ticker': 'FB', 'word': 'users', 'wordcount': 166},\n",
       " {'ticker': 'FB', 'word': 'data', 'wordcount': 67},\n",
       " {'ticker': 'FB', 'word': 'million', 'wordcount': 55},\n",
       " {'ticker': 'FB', 'word': 'social', 'wordcount': 50},\n",
       " {'ticker': 'FB', 'word': 'company', 'wordcount': 49},\n",
       " {'ticker': 'FB', 'word': 'us', 'wordcount': 48},\n",
       " {'ticker': 'FB', 'word': 'facebooks', 'wordcount': 46},\n",
       " {'ticker': 'FB', 'word': 'announced', 'wordcount': 46},\n",
       " {'ticker': 'FB', 'word': 'billion', 'wordcount': 44}]"
      ]
     },
     "execution_count": 352,
     "metadata": {},
     "output_type": "execute_result"
    }
   ],
   "source": [
    "common_words = []\n",
    "for key in list(url_dict.keys()):\n",
    "    req = request.Request(url_dict[key], headers=ua_header)\n",
    "    content = request.urlopen(req)\n",
    "    \n",
    "    body_soup = BeautifulSoup(content, 'html.parser').findAll('p')\n",
    "    \n",
    "    body_text = ''\n",
    "    for p in body_soup:\n",
    "        body_text = body_text + p.get_text()\n",
    "    \n",
    "    words_list = words_cleaner(body_text)\n",
    "    \n",
    "    d = {}\n",
    "    \n",
    "    for w in words_list:\n",
    "        d[w] = d.get(w, 0) + 1\n",
    "        \n",
    "    top10words = sorted(d.items(), key = lambda x: x[1], reverse=True)[:10]\n",
    "    \n",
    "    for wordrow in top10words:\n",
    "        word_row_dict = {}\n",
    "        \n",
    "        word_row_dict['ticker'] = tech_stocks[key]\n",
    "        word_row_dict['word'] = wordrow[0]\n",
    "        word_row_dict['wordcount'] = wordrow[1] \n",
    "        common_words.append(word_row_dict)\n",
    "    \n",
    "common_words"
   ]
  },
  {
   "cell_type": "code",
   "execution_count": 336,
   "metadata": {},
   "outputs": [
    {
     "name": "stdout",
     "output_type": "stream",
     "text": [
      "{'facebook': [('facebook', 427),\n",
      "              ('users', 144),\n",
      "              ('data', 67),\n",
      "              ('million', 55),\n",
      "              ('social', 50),\n",
      "              ('company', 49),\n",
      "              ('us', 47),\n",
      "              ('announced', 46),\n",
      "              ('billion', 44),\n",
      "              (\"facebook's\", 44)],\n",
      " 'microsoft': [('microsoft', 164),\n",
      "               ('company', 50),\n",
      "               ('windows', 49),\n",
      "               ('new', 28),\n",
      "               ('billion', 20),\n",
      "               ('software', 18),\n",
      "               ('operating', 18),\n",
      "               ('released', 18),\n",
      "               (\"microsoft's\", 17),\n",
      "               ('us', 16)],\n",
      " 'tableau': [('tableau', 14),\n",
      "             ('million', 10),\n",
      "             ('data', 9),\n",
      "             ('company', 4),\n",
      "             ('products', 4),\n",
      "             ('policy', 4),\n",
      "             ('software', 3),\n",
      "             ('visualization', 3),\n",
      "             ('intelligence', 3),\n",
      "             ('databases', 3)]}\n"
     ]
    }
   ],
   "source": [
    "top10dict = {}\n",
    "for key in list(url_dict.keys()):\n",
    "    req = request.Request(url_dict[key], headers=ua_header)\n",
    "    content = request.urlopen(req)\n",
    "    \n",
    "    body_soup = BeautifulSoup(content, 'html.parser').findAll('p')\n",
    "    \n",
    "    body_text = ''\n",
    "    for p in body_soup:\n",
    "        body_text = body_text + p.get_text()\n",
    "    \n",
    "    words_list = words_cleaner(body_text)\n",
    "    \n",
    "    d = {}\n",
    "    \n",
    "    for w in words_list:\n",
    "        d[w] = d.get(w, 0) + 1\n",
    "    \n",
    "    top10dict[key] = sorted(d.items(), key = lambda x: x[1], reverse=True)[:10]\n",
    "    #print(top10dict)\n",
    "\n",
    "pprint(top10dict)"
   ]
  },
  {
   "cell_type": "code",
   "execution_count": 366,
   "metadata": {},
   "outputs": [
    {
     "data": {
      "text/plain": [
       "dict_items([('tableau', [('tableau', 14), ('million', 10), ('data', 9), ('company', 4), ('products', 4), ('policy', 4), ('software', 3), ('visualization', 3), ('intelligence', 3), ('databases', 3)]), ('microsoft', [('microsoft', 164), ('company', 50), ('windows', 49), ('new', 28), ('billion', 20), ('software', 18), ('operating', 18), ('released', 18), (\"microsoft's\", 17), ('us', 16)]), ('facebook', [('facebook', 427), ('users', 144), ('data', 67), ('million', 55), ('social', 50), ('company', 49), ('us', 47), ('announced', 46), ('billion', 44), (\"facebook's\", 44)])])"
      ]
     },
     "execution_count": 366,
     "metadata": {},
     "output_type": "execute_result"
    }
   ],
   "source": [
    "top10dict.items()"
   ]
  },
  {
   "cell_type": "markdown",
   "metadata": {},
   "source": [
    "### Establish connection to SQL and load values into table"
   ]
  },
  {
   "cell_type": "code",
   "execution_count": 90,
   "metadata": {},
   "outputs": [],
   "source": [
    "fin_insert = 'insert into financials ? values ?'"
   ]
  },
  {
   "cell_type": "code",
   "execution_count": 92,
   "metadata": {},
   "outputs": [],
   "source": [
    "cnxn = pyodbc.connect('DSN=SQLADW;UID=pylogin;PWD=password')\n",
    "cur = cnxn.cursor()"
   ]
  },
  {
   "cell_type": "code",
   "execution_count": 137,
   "metadata": {},
   "outputs": [
    {
     "data": {
      "text/plain": [
       "{'ticker': 'DATA',\n",
       " 'date': '2018-03-31',\n",
       " 'cash': '623994000',\n",
       " 'longTermDebt': '75598000',\n",
       " 'totalAssets': '1430656000',\n",
       " 'totalLiab': '520783000'}"
      ]
     },
     "execution_count": 137,
     "metadata": {},
     "output_type": "execute_result"
    }
   ],
   "source": [
    "for k in list(testrow.keys()):\n",
    "    testrow[k] = str(testrow[k])\n",
    "testrow"
   ]
  },
  {
   "cell_type": "code",
   "execution_count": 344,
   "metadata": {},
   "outputs": [],
   "source": [
    "#Load data into financials table\n",
    "for row in bal_record:\n",
    "    cols = list(row.keys())\n",
    "    vals = list(row.values())\n",
    "    \n",
    "    fin_insert_qry = 'Insert Into financials ({}, {}, {}, {}, {}, {}) Values (\\'{}\\', \\'{}\\', {}, {}, {}, {})'.format(cols[0],cols[1],cols[2],cols[3],cols[4],cols[5], vals[0],vals[1],vals[2],vals[3],vals[4],vals[5])\n",
    "    \n",
    "    cur.execute(fin_insert_qry)\n",
    "cur.commit()"
   ]
  },
  {
   "cell_type": "code",
   "execution_count": 141,
   "metadata": {},
   "outputs": [
    {
     "data": {
      "text/plain": [
       "\"Insert Into financials (ticker, date, cash, longTermDebt, totalAssets, totalLiab) Values ('DATA', 2018-03-31, 623994000, 75598000, 1430656000, 520783000)\""
      ]
     },
     "execution_count": 141,
     "metadata": {},
     "output_type": "execute_result"
    }
   ],
   "source": [
    "fin_insert_qry = 'Insert Into financials ticker, date, cash, longTermDebt, totalAssets, totalLiab Values DATA, 2018-03-31 00:00:00, 623994000, 75598000, 1430656000, 520783000'"
   ]
  },
  {
   "cell_type": "code",
   "execution_count": 169,
   "metadata": {},
   "outputs": [],
   "source": [
    "cur.execute(fin_insert_qry)\n",
    "cur.commit()"
   ]
  },
  {
   "cell_type": "code",
   "execution_count": 354,
   "metadata": {},
   "outputs": [],
   "source": [
    "#Load data into fin_top_words table\n",
    "for row in common_words:\n",
    "    cols = list(row.keys())\n",
    "    vals = list(row.values())\n",
    "    words_insert_qry = 'Insert Into fin_top_words ({}, {}, {}) Values (\\'{}\\', \\'{}\\', {})'.format(cols[0],cols[1],cols[2], vals[0],vals[1],vals[2])\n",
    "    \n",
    "    cur.execute(words_insert_qry)\n",
    "cur.commit()"
   ]
  },
  {
   "cell_type": "code",
   "execution_count": 355,
   "metadata": {},
   "outputs": [
    {
     "data": {
      "text/plain": [
       "{'tableau': 'DATA', 'microsoft': 'MSFT', 'facebook': 'FB'}"
      ]
     },
     "execution_count": 355,
     "metadata": {},
     "output_type": "execute_result"
    }
   ],
   "source": [
    "tech_stocks"
   ]
  },
  {
   "cell_type": "code",
   "execution_count": 356,
   "metadata": {},
   "outputs": [
    {
     "data": {
      "text/plain": [
       "{'tableau': 'https://en.wikipedia.org/wiki/Tableau_Software',\n",
       " 'microsoft': 'https://en.wikipedia.org/wiki/Microsoft',\n",
       " 'facebook': 'https://en.wikipedia.org/wiki/Facebook'}"
      ]
     },
     "execution_count": 356,
     "metadata": {},
     "output_type": "execute_result"
    }
   ],
   "source": [
    "url_dict"
   ]
  },
  {
   "cell_type": "code",
   "execution_count": 360,
   "metadata": {},
   "outputs": [],
   "source": [
    "company_websites = {'tableau': 'https://www.tableau.com/',\n",
    " 'microsoft': 'https://www.microsoft.com/en-gb/',\n",
    " 'facebook': 'https://en-gb.facebook.com/'}"
   ]
  },
  {
   "cell_type": "code",
   "execution_count": 361,
   "metadata": {},
   "outputs": [
    {
     "data": {
      "text/plain": [
       "{'tableau': 'https://www.tableau.com/',\n",
       " 'microsoft': 'https://www.microsoft.com/en-gb/',\n",
       " 'facebook': 'https://en-gb.facebook.com/'}"
      ]
     },
     "execution_count": 361,
     "metadata": {},
     "output_type": "execute_result"
    }
   ],
   "source": [
    "company_websites"
   ]
  },
  {
   "cell_type": "code",
   "execution_count": 363,
   "metadata": {},
   "outputs": [
    {
     "data": {
      "text/plain": [
       "[{'ticker': 'DATA',\n",
       "  'company_name': 'Tableau',\n",
       "  'website': 'https://www.tableau.com/',\n",
       "  'wiki_page': 'https://en.wikipedia.org/wiki/Tableau_Software'},\n",
       " {'ticker': 'MSFT',\n",
       "  'company_name': 'Microsoft',\n",
       "  'website': 'https://www.microsoft.com/en-gb/',\n",
       "  'wiki_page': 'https://en.wikipedia.org/wiki/Microsoft'},\n",
       " {'ticker': 'FB',\n",
       "  'company_name': 'Facebook',\n",
       "  'website': 'https://en-gb.facebook.com/',\n",
       "  'wiki_page': 'https://en.wikipedia.org/wiki/Facebook'}]"
      ]
     },
     "execution_count": 363,
     "metadata": {},
     "output_type": "execute_result"
    }
   ],
   "source": [
    "company_info = []\n",
    "for comp in list(tech_stocks.keys()):\n",
    "    info_dict = {}\n",
    "    info_dict['ticker'] = tech_stocks[comp]\n",
    "    info_dict['company_name'] = comp.title()\n",
    "    info_dict['website'] = company_websites[comp]\n",
    "    info_dict['wiki_page'] = url_dict[comp]\n",
    "    company_info.append(info_dict)\n",
    "    \n",
    "company_info"
   ]
  },
  {
   "cell_type": "code",
   "execution_count": 365,
   "metadata": {},
   "outputs": [],
   "source": [
    "#Load data into fin_company_info table\n",
    "for row in company_info:\n",
    "    cols = list(row.keys())\n",
    "    vals = list(row.values())\n",
    "    info_insert_qry = 'Insert Into fin_company_info ({}, {}, {}, {}) Values (\\'{}\\', \\'{}\\', \\'{}\\', \\'{}\\')'.format(cols[0],cols[1],cols[2],cols[3], vals[0],vals[1],vals[2],vals[3])\n",
    "    \n",
    "    cur.execute(info_insert_qry)\n",
    "cur.commit()"
   ]
  },
  {
   "cell_type": "code",
   "execution_count": null,
   "metadata": {},
   "outputs": [],
   "source": []
  },
  {
   "cell_type": "code",
   "execution_count": null,
   "metadata": {},
   "outputs": [],
   "source": []
  },
  {
   "cell_type": "code",
   "execution_count": null,
   "metadata": {},
   "outputs": [],
   "source": []
  },
  {
   "cell_type": "code",
   "execution_count": null,
   "metadata": {},
   "outputs": [],
   "source": []
  },
  {
   "cell_type": "code",
   "execution_count": null,
   "metadata": {},
   "outputs": [],
   "source": []
  },
  {
   "cell_type": "code",
   "execution_count": null,
   "metadata": {},
   "outputs": [],
   "source": []
  },
  {
   "cell_type": "code",
   "execution_count": null,
   "metadata": {},
   "outputs": [],
   "source": []
  },
  {
   "cell_type": "code",
   "execution_count": null,
   "metadata": {},
   "outputs": [],
   "source": []
  },
  {
   "cell_type": "code",
   "execution_count": null,
   "metadata": {},
   "outputs": [],
   "source": []
  },
  {
   "cell_type": "code",
   "execution_count": null,
   "metadata": {},
   "outputs": [],
   "source": []
  }
 ],
 "metadata": {
  "kernelspec": {
   "display_name": "Python 3",
   "language": "python",
   "name": "python3"
  },
  "language_info": {
   "codemirror_mode": {
    "name": "ipython",
    "version": 3
   },
   "file_extension": ".py",
   "mimetype": "text/x-python",
   "name": "python",
   "nbconvert_exporter": "python",
   "pygments_lexer": "ipython3",
   "version": "3.7.0"
  }
 },
 "nbformat": 4,
 "nbformat_minor": 2
}
