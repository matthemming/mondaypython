{
 "cells": [
  {
   "cell_type": "code",
   "execution_count": 15,
   "metadata": {},
   "outputs": [],
   "source": [
    "import pyodbc"
   ]
  },
  {
   "cell_type": "code",
   "execution_count": 24,
   "metadata": {},
   "outputs": [],
   "source": [
    "cnxn = pyodbc.connect('DSN=SQLADW;UID=pylogin;PWD=password')"
   ]
  },
  {
   "cell_type": "code",
   "execution_count": 25,
   "metadata": {},
   "outputs": [
    {
     "data": {
      "text/plain": [
       "<pyodbc.Connection at 0x200267b4ac0>"
      ]
     },
     "execution_count": 25,
     "metadata": {},
     "output_type": "execute_result"
    }
   ],
   "source": [
    "cnxn"
   ]
  },
  {
   "cell_type": "code",
   "execution_count": 26,
   "metadata": {},
   "outputs": [],
   "source": [
    "cur = cnxn.cursor()"
   ]
  },
  {
   "cell_type": "code",
   "execution_count": 43,
   "metadata": {},
   "outputs": [],
   "source": [
    "q = 'insert into food (name, cost) values (?, ?)'"
   ]
  },
  {
   "cell_type": "code",
   "execution_count": 44,
   "metadata": {},
   "outputs": [
    {
     "data": {
      "text/plain": [
       "<pyodbc.Cursor at 0x20026940eb8>"
      ]
     },
     "execution_count": 44,
     "metadata": {},
     "output_type": "execute_result"
    }
   ],
   "source": [
    "cur.execute(q, 'burger', 8.50)"
   ]
  },
  {
   "cell_type": "code",
   "execution_count": 46,
   "metadata": {},
   "outputs": [],
   "source": [
    "cur.commit()"
   ]
  },
  {
   "cell_type": "code",
   "execution_count": 45,
   "metadata": {},
   "outputs": [
    {
     "name": "stdout",
     "output_type": "stream",
     "text": [
      "(1, 'burger', 8.5)\n"
     ]
    }
   ],
   "source": [
    "for row in cur.execute('select * from food'):\n",
    "    print(row)"
   ]
  },
  {
   "cell_type": "code",
   "execution_count": null,
   "metadata": {},
   "outputs": [],
   "source": []
  },
  {
   "cell_type": "code",
   "execution_count": null,
   "metadata": {},
   "outputs": [],
   "source": []
  },
  {
   "cell_type": "code",
   "execution_count": null,
   "metadata": {},
   "outputs": [],
   "source": []
  },
  {
   "cell_type": "code",
   "execution_count": null,
   "metadata": {},
   "outputs": [],
   "source": []
  },
  {
   "cell_type": "code",
   "execution_count": 31,
   "metadata": {},
   "outputs": [],
   "source": [
    "minprice = 50"
   ]
  },
  {
   "cell_type": "code",
   "execution_count": 36,
   "metadata": {},
   "outputs": [],
   "source": [
    "color = 'red'"
   ]
  },
  {
   "cell_type": "code",
   "execution_count": 40,
   "metadata": {},
   "outputs": [],
   "source": [
    "#data = cur.execute('select * from production.product where listprice > ?', minprice)\n",
    "data = cur.execute('select * from production.product where color = ?', color)"
   ]
  },
  {
   "cell_type": "code",
   "execution_count": 41,
   "metadata": {},
   "outputs": [
    {
     "data": {
      "text/plain": [
       "<pyodbc.Cursor at 0x20026940eb8>"
      ]
     },
     "execution_count": 41,
     "metadata": {},
     "output_type": "execute_result"
    }
   ],
   "source": [
    "data"
   ]
  },
  {
   "cell_type": "code",
   "execution_count": 42,
   "metadata": {},
   "outputs": [
    {
     "name": "stdout",
     "output_type": "stream",
     "text": [
      "(706, 'HL Road Frame - Red, 58', 'FR-R92R-58', True, True, 'Red', 500, 375, Decimal('1059.3100'), Decimal('1431.5000'), '58', 'CM ', 'LB ', Decimal('2.24'), 1, 'R ', 'H ', 'U ', 14, 6, datetime.datetime(2002, 6, 1, 0, 0), None, datetime.datetime(2018, 10, 3, 16, 41, 41, 783000), '9540FF17-2712-4C90-A3D1-8CE5568B2462', datetime.datetime(2018, 10, 3, 16, 41, 41, 847000))\n",
      "(707, 'Sport-100 Helmet, Red', 'HL-U509-R', False, True, 'Red', 4, 3, Decimal('13.0863'), Decimal('34.9900'), None, None, None, None, 0, 'S ', None, None, 31, 33, datetime.datetime(2005, 7, 1, 0, 0), None, None, '2E1EF41A-C08A-4FF6-8ADA-BDE58B64A712', datetime.datetime(2008, 3, 11, 10, 1, 36, 827000))\n",
      "(717, 'HL Road Frame - Red, 62', 'FR-R92R-62', True, True, 'Red', 500, 375, Decimal('868.6342'), Decimal('1431.5000'), '62', 'CM ', 'LB ', Decimal('2.30'), 1, 'R ', 'H ', 'U ', 14, 6, datetime.datetime(2005, 7, 1, 0, 0), None, None, '052E4F8B-0A2A-46B2-9F42-10FEBCFAE416', datetime.datetime(2008, 3, 11, 10, 1, 36, 827000))\n",
      "(718, 'HL Road Frame - Red, 44', 'FR-R92R-44', True, True, 'Red', 500, 375, Decimal('868.6342'), Decimal('1431.5000'), '44', 'CM ', 'LB ', Decimal('2.12'), 1, 'R ', 'H ', 'U ', 14, 6, datetime.datetime(2005, 7, 1, 0, 0), None, None, 'A88D3B54-2CAE-43F2-8C6E-EA1D97B46A7C', datetime.datetime(2008, 3, 11, 10, 1, 36, 827000))\n",
      "(719, 'HL Road Frame - Red, 48', 'FR-R92R-48', True, True, 'Red', 500, 375, Decimal('868.6342'), Decimal('1431.5000'), '48', 'CM ', 'LB ', Decimal('2.16'), 1, 'R ', 'H ', 'U ', 14, 6, datetime.datetime(2005, 7, 1, 0, 0), None, datetime.datetime(2018, 10, 3, 16, 41, 41, 783000), '07BEFC9A-7634-402B-B234-D7797733BAAF', datetime.datetime(2018, 10, 3, 16, 41, 41, 847000))\n",
      "(720, 'HL Road Frame - Red, 52', 'FR-R92R-52', True, True, 'Red', 500, 375, Decimal('868.6342'), Decimal('1431.5000'), '52', 'CM ', 'LB ', Decimal('2.20'), 1, 'R ', 'H ', 'U ', 14, 6, datetime.datetime(2005, 7, 1, 0, 0), None, datetime.datetime(2018, 10, 3, 16, 41, 41, 783000), 'FCFEA68F-310E-4E6E-9F99-BB17D011EBAE', datetime.datetime(2018, 10, 3, 16, 41, 41, 847000))\n",
      "(721, 'HL Road Frame - Red, 56', 'FR-R92R-56', True, True, 'Red', 500, 375, Decimal('868.6342'), Decimal('1431.5000'), '56', 'CM ', 'LB ', Decimal('2.24'), 1, 'R ', 'H ', 'U ', 14, 6, datetime.datetime(2005, 7, 1, 0, 0), None, datetime.datetime(2018, 10, 3, 16, 41, 41, 783000), '56C85873-4993-41B4-8096-1067CFD7E4BD', datetime.datetime(2018, 10, 3, 16, 41, 41, 847000))\n",
      "(725, 'LL Road Frame - Red, 44', 'FR-R38R-44', True, True, 'Red', 500, 375, Decimal('187.1571'), Decimal('337.2200'), '44', 'CM ', 'LB ', Decimal('2.32'), 1, 'R ', 'L ', 'U ', 14, 9, datetime.datetime(2005, 7, 1, 0, 0), datetime.datetime(2007, 6, 30, 0, 0), datetime.datetime(2018, 10, 3, 16, 41, 41, 783000), '137D319D-44AD-42B2-AB61-60B9CE52B5F2', datetime.datetime(2018, 10, 3, 16, 41, 41, 847000))\n",
      "(726, 'LL Road Frame - Red, 48', 'FR-R38R-48', True, True, 'Red', 500, 375, Decimal('187.1571'), Decimal('337.2200'), '48', 'CM ', 'LB ', Decimal('2.36'), 1, 'R ', 'L ', 'U ', 14, 9, datetime.datetime(2005, 7, 1, 0, 0), datetime.datetime(2007, 6, 30, 0, 0), None, '35213547-275F-4767-805D-C8A4B8E13745', datetime.datetime(2008, 3, 11, 10, 1, 36, 827000))\n",
      "(727, 'LL Road Frame - Red, 52', 'FR-R38R-52', True, True, 'Red', 500, 375, Decimal('187.1571'), Decimal('337.2200'), '52', 'CM ', 'LB ', Decimal('2.40'), 1, 'R ', 'L ', 'U ', 14, 9, datetime.datetime(2005, 7, 1, 0, 0), datetime.datetime(2007, 6, 30, 0, 0), datetime.datetime(2018, 10, 3, 16, 41, 41, 783000), 'C455E0B3-D716-419D-ABF0-7E03EFDD2E26', datetime.datetime(2018, 10, 3, 16, 41, 41, 847000))\n",
      "(728, 'LL Road Frame - Red, 58', 'FR-R38R-58', True, True, 'Red', 500, 375, Decimal('187.1571'), Decimal('337.2200'), '58', 'CM ', 'LB ', Decimal('2.46'), 1, 'R ', 'L ', 'U ', 14, 9, datetime.datetime(2005, 7, 1, 0, 0), datetime.datetime(2007, 6, 30, 0, 0), datetime.datetime(2018, 10, 3, 16, 41, 41, 783000), '799A56FF-5AD2-41B3-BFAC-528B477AD129', datetime.datetime(2018, 10, 3, 16, 41, 41, 847000))\n",
      "(729, 'LL Road Frame - Red, 60', 'FR-R38R-60', True, True, 'Red', 500, 375, Decimal('187.1571'), Decimal('337.2200'), '60', 'CM ', 'LB ', Decimal('2.48'), 1, 'R ', 'L ', 'U ', 14, 9, datetime.datetime(2005, 7, 1, 0, 0), datetime.datetime(2007, 6, 30, 0, 0), datetime.datetime(2018, 10, 3, 16, 41, 41, 783000), '1784BB14-D1F5-4B24-92DA-9127AD179302', datetime.datetime(2018, 10, 3, 16, 41, 41, 847000))\n",
      "(730, 'LL Road Frame - Red, 62', 'FR-R38R-62', True, True, 'Red', 500, 375, Decimal('187.1571'), Decimal('337.2200'), '62', 'CM ', 'LB ', Decimal('2.50'), 1, 'R ', 'L ', 'U ', 14, 9, datetime.datetime(2005, 7, 1, 0, 0), datetime.datetime(2007, 6, 30, 0, 0), None, '7E73AA1F-8569-4D87-9F80-AC2E513E0803', datetime.datetime(2008, 3, 11, 10, 1, 36, 827000))\n",
      "(731, 'ML Road Frame - Red, 44', 'FR-R72R-44', True, True, 'Red', 500, 375, Decimal('352.1394'), Decimal('594.8300'), '44', 'CM ', 'LB ', Decimal('2.22'), 1, 'R ', 'M ', 'U ', 14, 16, datetime.datetime(2005, 7, 1, 0, 0), datetime.datetime(2006, 6, 30, 0, 0), datetime.datetime(2018, 10, 3, 16, 41, 41, 783000), '459E041C-3234-409E-B4CD-81728F8A2398', datetime.datetime(2018, 10, 3, 16, 41, 41, 847000))\n",
      "(732, 'ML Road Frame - Red, 48', 'FR-R72R-48', True, True, 'Red', 500, 375, Decimal('352.1394'), Decimal('594.8300'), '48', 'CM ', 'LB ', Decimal('2.26'), 1, 'R ', 'M ', 'U ', 14, 16, datetime.datetime(2005, 7, 1, 0, 0), datetime.datetime(2006, 6, 30, 0, 0), datetime.datetime(2018, 10, 3, 16, 41, 41, 783000), 'B673189C-C042-413B-8194-73BC44B0492C', datetime.datetime(2018, 10, 3, 16, 41, 41, 847000))\n",
      "(733, 'ML Road Frame - Red, 52', 'FR-R72R-52', True, True, 'Red', 500, 375, Decimal('352.1394'), Decimal('594.8300'), '52', 'CM ', 'LB ', Decimal('2.30'), 1, 'R ', 'M ', 'U ', 14, 16, datetime.datetime(2005, 7, 1, 0, 0), datetime.datetime(2006, 6, 30, 0, 0), datetime.datetime(2018, 10, 3, 16, 41, 41, 783000), '55EA276B-82D8-4CCB-9AB1-9B1B75B15A83', datetime.datetime(2018, 10, 3, 16, 41, 41, 847000))\n",
      "(734, 'ML Road Frame - Red, 58', 'FR-R72R-58', True, True, 'Red', 500, 375, Decimal('352.1394'), Decimal('594.8300'), '58', 'CM ', 'LB ', Decimal('2.36'), 1, 'R ', 'M ', 'U ', 14, 16, datetime.datetime(2005, 7, 1, 0, 0), datetime.datetime(2006, 6, 30, 0, 0), datetime.datetime(2018, 10, 3, 16, 41, 41, 783000), 'DF4CE1E2-BA9A-4657-B999-CCFA6C55D9C1', datetime.datetime(2018, 10, 3, 16, 41, 41, 847000))\n",
      "(735, 'ML Road Frame - Red, 60', 'FR-R72R-60', True, True, 'Red', 500, 375, Decimal('352.1394'), Decimal('594.8300'), '60', 'CM ', 'LB ', Decimal('2.38'), 1, 'R ', 'M ', 'U ', 14, 16, datetime.datetime(2005, 7, 1, 0, 0), datetime.datetime(2006, 6, 30, 0, 0), datetime.datetime(2018, 10, 3, 16, 41, 41, 783000), 'B2E48E8C-63A5-469A-BA4C-4F5EBB1104A4', datetime.datetime(2018, 10, 3, 16, 41, 41, 847000))\n",
      "(749, 'Road-150 Red, 62', 'BK-R93R-62', True, True, 'Red', 100, 75, Decimal('2171.2942'), Decimal('3578.2700'), '62', 'CM ', 'LB ', Decimal('15.00'), 4, 'R ', 'H ', 'U ', 2, 25, datetime.datetime(2005, 7, 1, 0, 0), datetime.datetime(2006, 6, 30, 0, 0), datetime.datetime(2018, 10, 3, 16, 41, 41, 783000), 'BC621E1F-2553-4FDC-B22E-5E44A9003569', datetime.datetime(2018, 10, 3, 16, 41, 41, 847000))\n",
      "(750, 'Road-150 Red, 44', 'BK-R93R-44', True, True, 'Red', 100, 75, Decimal('2171.2942'), Decimal('3578.2700'), '44', 'CM ', 'LB ', Decimal('13.77'), 4, 'R ', 'H ', 'U ', 2, 25, datetime.datetime(2005, 7, 1, 0, 0), datetime.datetime(2006, 6, 30, 0, 0), datetime.datetime(2018, 10, 3, 16, 41, 41, 783000), 'C19E1136-5DA4-4B40-8758-54A85D7EA494', datetime.datetime(2018, 10, 3, 16, 41, 41, 847000))\n",
      "(751, 'Road-150 Red, 48', 'BK-R93R-48', True, True, 'Red', 100, 75, Decimal('2171.2942'), Decimal('3578.2700'), '48', 'CM ', 'LB ', Decimal('14.13'), 4, 'R ', 'H ', 'U ', 2, 25, datetime.datetime(2005, 7, 1, 0, 0), datetime.datetime(2006, 6, 30, 0, 0), datetime.datetime(2018, 10, 3, 16, 41, 41, 783000), 'D10B7CC1-455E-435B-A08F-EC5B1C5776E9', datetime.datetime(2018, 10, 3, 16, 41, 41, 847000))\n",
      "(752, 'Road-150 Red, 52', 'BK-R93R-52', True, True, 'Red', 100, 75, Decimal('2171.2942'), Decimal('3578.2700'), '52', 'CM ', 'LB ', Decimal('14.42'), 4, 'R ', 'H ', 'U ', 2, 25, datetime.datetime(2005, 7, 1, 0, 0), datetime.datetime(2006, 6, 30, 0, 0), datetime.datetime(2018, 10, 3, 16, 41, 41, 783000), '5E085BA0-3CD5-487F-85BB-79ED1C701F23', datetime.datetime(2018, 10, 3, 16, 41, 41, 847000))\n",
      "(753, 'Road-150 Red, 56', 'BK-R93R-56', True, True, 'Red', 100, 75, Decimal('2171.2942'), Decimal('3578.2700'), '56', 'CM ', 'LB ', Decimal('14.68'), 4, 'R ', 'H ', 'U ', 2, 25, datetime.datetime(2005, 7, 1, 0, 0), datetime.datetime(2006, 6, 30, 0, 0), datetime.datetime(2018, 10, 3, 16, 41, 41, 783000), '30819B88-F0D3-4E7A-8105-19F6FAC2CEFB', datetime.datetime(2018, 10, 3, 16, 41, 41, 847000))\n",
      "(754, 'Road-450 Red, 58', 'BK-R68R-58', True, True, 'Red', 100, 75, Decimal('884.7083'), Decimal('1457.9900'), '58', 'CM ', 'LB ', Decimal('17.79'), 4, 'R ', 'M ', 'U ', 2, 28, datetime.datetime(2005, 7, 1, 0, 0), datetime.datetime(2006, 6, 30, 0, 0), datetime.datetime(2018, 10, 3, 16, 41, 41, 783000), '40D5EFFA-C0C4-479F-AF66-5F1BF8ED3BFB', datetime.datetime(2018, 10, 3, 16, 41, 41, 847000))\n",
      "(755, 'Road-450 Red, 60', 'BK-R68R-60', True, True, 'Red', 100, 75, Decimal('884.7083'), Decimal('1457.9900'), '60', 'CM ', 'LB ', Decimal('17.90'), 4, 'R ', 'M ', 'U ', 2, 28, datetime.datetime(2005, 7, 1, 0, 0), datetime.datetime(2006, 6, 30, 0, 0), datetime.datetime(2018, 10, 3, 16, 41, 41, 783000), '181A90CB-3678-490E-8418-78F73FB5343D', datetime.datetime(2018, 10, 3, 16, 41, 41, 847000))\n",
      "(756, 'Road-450 Red, 44', 'BK-R68R-44', True, True, 'Red', 100, 75, Decimal('884.7083'), Decimal('1457.9900'), '44', 'CM ', 'LB ', Decimal('16.77'), 4, 'R ', 'M ', 'U ', 2, 28, datetime.datetime(2005, 7, 1, 0, 0), datetime.datetime(2006, 6, 30, 0, 0), datetime.datetime(2018, 10, 3, 16, 41, 41, 783000), 'F8B5E26A-3D33-4E39-B500-CC21A133062E', datetime.datetime(2018, 10, 3, 16, 41, 41, 847000))\n",
      "(757, 'Road-450 Red, 48', 'BK-R68R-48', True, True, 'Red', 100, 75, Decimal('884.7083'), Decimal('1457.9900'), '48', 'CM ', 'LB ', Decimal('17.13'), 4, 'R ', 'M ', 'U ', 2, 28, datetime.datetime(2005, 7, 1, 0, 0), datetime.datetime(2006, 6, 30, 0, 0), datetime.datetime(2018, 10, 3, 16, 41, 41, 783000), 'C72C9978-0B04-46B3-9DE6-948FECA1C86E', datetime.datetime(2018, 10, 3, 16, 41, 41, 847000))\n",
      "(758, 'Road-450 Red, 52', 'BK-R68R-52', True, True, 'Red', 100, 75, Decimal('884.7083'), Decimal('1457.9900'), '52', 'CM ', 'LB ', Decimal('17.42'), 4, 'R ', 'M ', 'U ', 2, 28, datetime.datetime(2005, 7, 1, 0, 0), datetime.datetime(2006, 6, 30, 0, 0), datetime.datetime(2018, 10, 3, 16, 41, 41, 783000), '040A4B7D-4060-4507-AA92-7508B434797E', datetime.datetime(2018, 10, 3, 16, 41, 41, 847000))\n",
      "(759, 'Road-650 Red, 58', 'BK-R50R-58', True, True, 'Red', 100, 75, Decimal('486.7066'), Decimal('782.9900'), '58', 'CM ', 'LB ', Decimal('19.79'), 4, 'R ', 'L ', 'U ', 2, 30, datetime.datetime(2005, 7, 1, 0, 0), datetime.datetime(2007, 6, 30, 0, 0), datetime.datetime(2018, 10, 3, 16, 41, 41, 783000), '6711D6BC-664F-4890-9F69-AF1DE321D055', datetime.datetime(2018, 10, 3, 16, 41, 41, 847000))\n",
      "(760, 'Road-650 Red, 60', 'BK-R50R-60', True, True, 'Red', 100, 75, Decimal('486.7066'), Decimal('782.9900'), '60', 'CM ', 'LB ', Decimal('19.90'), 4, 'R ', 'L ', 'U ', 2, 30, datetime.datetime(2005, 7, 1, 0, 0), datetime.datetime(2007, 6, 30, 0, 0), None, '664867E5-4AB3-4783-96F9-42EFDE92F49B', datetime.datetime(2008, 3, 11, 10, 1, 36, 827000))\n",
      "(761, 'Road-650 Red, 62', 'BK-R50R-62', True, True, 'Red', 100, 75, Decimal('486.7066'), Decimal('782.9900'), '62', 'CM ', 'LB ', Decimal('20.00'), 4, 'R ', 'L ', 'U ', 2, 30, datetime.datetime(2005, 7, 1, 0, 0), datetime.datetime(2007, 6, 30, 0, 0), None, '1DA14E09-6D71-4E2A-9EE9-1BDFDFD8A109', datetime.datetime(2008, 3, 11, 10, 1, 36, 827000))\n",
      "(762, 'Road-650 Red, 44', 'BK-R50R-44', True, True, 'Red', 100, 75, Decimal('486.7066'), Decimal('782.9900'), '44', 'CM ', 'LB ', Decimal('18.77'), 4, 'R ', 'L ', 'U ', 2, 30, datetime.datetime(2005, 7, 1, 0, 0), datetime.datetime(2007, 6, 30, 0, 0), None, 'F247AAAE-12E3-4048-A37B-CCE4A8999E81', datetime.datetime(2008, 3, 11, 10, 1, 36, 827000))\n",
      "(763, 'Road-650 Red, 48', 'BK-R50R-48', True, True, 'Red', 100, 75, Decimal('486.7066'), Decimal('782.9900'), '48', 'CM ', 'LB ', Decimal('19.13'), 4, 'R ', 'L ', 'U ', 2, 30, datetime.datetime(2005, 7, 1, 0, 0), datetime.datetime(2007, 6, 30, 0, 0), None, '3DA5FA6E-9E0F-4896-AC10-948C27F4EB79', datetime.datetime(2008, 3, 11, 10, 1, 36, 827000))\n",
      "(764, 'Road-650 Red, 52', 'BK-R50R-52', True, True, 'Red', 100, 75, Decimal('486.7066'), Decimal('782.9900'), '52', 'CM ', 'LB ', Decimal('19.42'), 4, 'R ', 'L ', 'U ', 2, 30, datetime.datetime(2005, 7, 1, 0, 0), datetime.datetime(2007, 6, 30, 0, 0), datetime.datetime(2018, 10, 3, 16, 41, 41, 783000), '07CFE1EA-8A37-4D2A-835F-BC8D37E564AF', datetime.datetime(2018, 10, 3, 16, 41, 41, 847000))\n",
      "(789, 'Road-250 Red, 44', 'BK-R89R-44', True, True, 'Red', 100, 75, Decimal('1518.7864'), Decimal('2443.3500'), '44', 'CM ', 'LB ', Decimal('14.77'), 4, 'R ', 'H ', 'U ', 2, 26, datetime.datetime(2006, 7, 1, 0, 0), datetime.datetime(2007, 6, 30, 0, 0), datetime.datetime(2018, 10, 3, 16, 41, 41, 783000), '0AA71AD6-AFAF-43C6-9745-35D815B50A5B', datetime.datetime(2018, 10, 3, 16, 41, 41, 847000))\n",
      "(790, 'Road-250 Red, 48', 'BK-R89R-48', True, True, 'Red', 100, 75, Decimal('1518.7864'), Decimal('2443.3500'), '48', 'CM ', 'LB ', Decimal('15.13'), 4, 'R ', 'H ', 'U ', 2, 26, datetime.datetime(2006, 7, 1, 0, 0), datetime.datetime(2007, 6, 30, 0, 0), None, '115DDADE-70E3-43F9-80DC-638DAEA271C4', datetime.datetime(2008, 3, 11, 10, 1, 36, 827000))\n",
      "(791, 'Road-250 Red, 52', 'BK-R89R-52', True, True, 'Red', 100, 75, Decimal('1518.7864'), Decimal('2443.3500'), '52', 'CM ', 'LB ', Decimal('15.42'), 4, 'R ', 'H ', 'U ', 2, 26, datetime.datetime(2006, 7, 1, 0, 0), datetime.datetime(2007, 6, 30, 0, 0), datetime.datetime(2018, 10, 3, 16, 41, 41, 783000), 'C9FD1DF4-9512-420A-B379-067108033B75', datetime.datetime(2018, 10, 3, 16, 41, 41, 847000))\n",
      "(792, 'Road-250 Red, 58', 'BK-R89R-58', True, True, 'Red', 100, 75, Decimal('1554.9479'), Decimal('2443.3500'), '58', 'CM ', 'LB ', Decimal('15.79'), 4, 'R ', 'H ', 'U ', 2, 26, datetime.datetime(2006, 7, 1, 0, 0), None, None, 'DF629C11-8D8B-4774-9D52-ECB64DC95212', datetime.datetime(2008, 3, 11, 10, 1, 36, 827000))\n"
     ]
    }
   ],
   "source": [
    "for row in data:\n",
    "    print(row)"
   ]
  },
  {
   "cell_type": "code",
   "execution_count": null,
   "metadata": {},
   "outputs": [],
   "source": []
  }
 ],
 "metadata": {
  "kernelspec": {
   "display_name": "Python 3",
   "language": "python",
   "name": "python3"
  },
  "language_info": {
   "codemirror_mode": {
    "name": "ipython",
    "version": 3
   },
   "file_extension": ".py",
   "mimetype": "text/x-python",
   "name": "python",
   "nbconvert_exporter": "python",
   "pygments_lexer": "ipython3",
   "version": "3.7.0"
  }
 },
 "nbformat": 4,
 "nbformat_minor": 2
}
